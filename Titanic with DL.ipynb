{
 "cells": [
  {
   "cell_type": "code",
   "execution_count": 1,
   "metadata": {},
   "outputs": [],
   "source": [
    "import pandas as pd\n",
    "import seaborn as sb"
   ]
  },
  {
   "cell_type": "code",
   "execution_count": 2,
   "metadata": {},
   "outputs": [],
   "source": [
    "train = pd.read_csv(\"train.csv\")"
   ]
  },
  {
   "cell_type": "markdown",
   "metadata": {},
   "source": [
    "# EDA"
   ]
  },
  {
   "cell_type": "code",
   "execution_count": 3,
   "metadata": {},
   "outputs": [
    {
     "data": {
      "text/html": [
       "<div>\n",
       "<style scoped>\n",
       "    .dataframe tbody tr th:only-of-type {\n",
       "        vertical-align: middle;\n",
       "    }\n",
       "\n",
       "    .dataframe tbody tr th {\n",
       "        vertical-align: top;\n",
       "    }\n",
       "\n",
       "    .dataframe thead th {\n",
       "        text-align: right;\n",
       "    }\n",
       "</style>\n",
       "<table border=\"1\" class=\"dataframe\">\n",
       "  <thead>\n",
       "    <tr style=\"text-align: right;\">\n",
       "      <th></th>\n",
       "      <th>PassengerId</th>\n",
       "      <th>Survived</th>\n",
       "      <th>Pclass</th>\n",
       "      <th>Name</th>\n",
       "      <th>Sex</th>\n",
       "      <th>Age</th>\n",
       "      <th>SibSp</th>\n",
       "      <th>Parch</th>\n",
       "      <th>Ticket</th>\n",
       "      <th>Fare</th>\n",
       "      <th>Cabin</th>\n",
       "      <th>Embarked</th>\n",
       "    </tr>\n",
       "  </thead>\n",
       "  <tbody>\n",
       "    <tr>\n",
       "      <th>0</th>\n",
       "      <td>1</td>\n",
       "      <td>0</td>\n",
       "      <td>3</td>\n",
       "      <td>Braund, Mr. Owen Harris</td>\n",
       "      <td>male</td>\n",
       "      <td>22.0</td>\n",
       "      <td>1</td>\n",
       "      <td>0</td>\n",
       "      <td>A/5 21171</td>\n",
       "      <td>7.2500</td>\n",
       "      <td>NaN</td>\n",
       "      <td>S</td>\n",
       "    </tr>\n",
       "    <tr>\n",
       "      <th>1</th>\n",
       "      <td>2</td>\n",
       "      <td>1</td>\n",
       "      <td>1</td>\n",
       "      <td>Cumings, Mrs. John Bradley (Florence Briggs Th...</td>\n",
       "      <td>female</td>\n",
       "      <td>38.0</td>\n",
       "      <td>1</td>\n",
       "      <td>0</td>\n",
       "      <td>PC 17599</td>\n",
       "      <td>71.2833</td>\n",
       "      <td>C85</td>\n",
       "      <td>C</td>\n",
       "    </tr>\n",
       "    <tr>\n",
       "      <th>2</th>\n",
       "      <td>3</td>\n",
       "      <td>1</td>\n",
       "      <td>3</td>\n",
       "      <td>Heikkinen, Miss. Laina</td>\n",
       "      <td>female</td>\n",
       "      <td>26.0</td>\n",
       "      <td>0</td>\n",
       "      <td>0</td>\n",
       "      <td>STON/O2. 3101282</td>\n",
       "      <td>7.9250</td>\n",
       "      <td>NaN</td>\n",
       "      <td>S</td>\n",
       "    </tr>\n",
       "    <tr>\n",
       "      <th>3</th>\n",
       "      <td>4</td>\n",
       "      <td>1</td>\n",
       "      <td>1</td>\n",
       "      <td>Futrelle, Mrs. Jacques Heath (Lily May Peel)</td>\n",
       "      <td>female</td>\n",
       "      <td>35.0</td>\n",
       "      <td>1</td>\n",
       "      <td>0</td>\n",
       "      <td>113803</td>\n",
       "      <td>53.1000</td>\n",
       "      <td>C123</td>\n",
       "      <td>S</td>\n",
       "    </tr>\n",
       "    <tr>\n",
       "      <th>4</th>\n",
       "      <td>5</td>\n",
       "      <td>0</td>\n",
       "      <td>3</td>\n",
       "      <td>Allen, Mr. William Henry</td>\n",
       "      <td>male</td>\n",
       "      <td>35.0</td>\n",
       "      <td>0</td>\n",
       "      <td>0</td>\n",
       "      <td>373450</td>\n",
       "      <td>8.0500</td>\n",
       "      <td>NaN</td>\n",
       "      <td>S</td>\n",
       "    </tr>\n",
       "    <tr>\n",
       "      <th>5</th>\n",
       "      <td>6</td>\n",
       "      <td>0</td>\n",
       "      <td>3</td>\n",
       "      <td>Moran, Mr. James</td>\n",
       "      <td>male</td>\n",
       "      <td>NaN</td>\n",
       "      <td>0</td>\n",
       "      <td>0</td>\n",
       "      <td>330877</td>\n",
       "      <td>8.4583</td>\n",
       "      <td>NaN</td>\n",
       "      <td>Q</td>\n",
       "    </tr>\n",
       "    <tr>\n",
       "      <th>6</th>\n",
       "      <td>7</td>\n",
       "      <td>0</td>\n",
       "      <td>1</td>\n",
       "      <td>McCarthy, Mr. Timothy J</td>\n",
       "      <td>male</td>\n",
       "      <td>54.0</td>\n",
       "      <td>0</td>\n",
       "      <td>0</td>\n",
       "      <td>17463</td>\n",
       "      <td>51.8625</td>\n",
       "      <td>E46</td>\n",
       "      <td>S</td>\n",
       "    </tr>\n",
       "    <tr>\n",
       "      <th>7</th>\n",
       "      <td>8</td>\n",
       "      <td>0</td>\n",
       "      <td>3</td>\n",
       "      <td>Palsson, Master. Gosta Leonard</td>\n",
       "      <td>male</td>\n",
       "      <td>2.0</td>\n",
       "      <td>3</td>\n",
       "      <td>1</td>\n",
       "      <td>349909</td>\n",
       "      <td>21.0750</td>\n",
       "      <td>NaN</td>\n",
       "      <td>S</td>\n",
       "    </tr>\n",
       "    <tr>\n",
       "      <th>8</th>\n",
       "      <td>9</td>\n",
       "      <td>1</td>\n",
       "      <td>3</td>\n",
       "      <td>Johnson, Mrs. Oscar W (Elisabeth Vilhelmina Berg)</td>\n",
       "      <td>female</td>\n",
       "      <td>27.0</td>\n",
       "      <td>0</td>\n",
       "      <td>2</td>\n",
       "      <td>347742</td>\n",
       "      <td>11.1333</td>\n",
       "      <td>NaN</td>\n",
       "      <td>S</td>\n",
       "    </tr>\n",
       "    <tr>\n",
       "      <th>9</th>\n",
       "      <td>10</td>\n",
       "      <td>1</td>\n",
       "      <td>2</td>\n",
       "      <td>Nasser, Mrs. Nicholas (Adele Achem)</td>\n",
       "      <td>female</td>\n",
       "      <td>14.0</td>\n",
       "      <td>1</td>\n",
       "      <td>0</td>\n",
       "      <td>237736</td>\n",
       "      <td>30.0708</td>\n",
       "      <td>NaN</td>\n",
       "      <td>C</td>\n",
       "    </tr>\n",
       "  </tbody>\n",
       "</table>\n",
       "</div>"
      ],
      "text/plain": [
       "   PassengerId  Survived  Pclass  \\\n",
       "0            1         0       3   \n",
       "1            2         1       1   \n",
       "2            3         1       3   \n",
       "3            4         1       1   \n",
       "4            5         0       3   \n",
       "5            6         0       3   \n",
       "6            7         0       1   \n",
       "7            8         0       3   \n",
       "8            9         1       3   \n",
       "9           10         1       2   \n",
       "\n",
       "                                                Name     Sex   Age  SibSp  \\\n",
       "0                            Braund, Mr. Owen Harris    male  22.0      1   \n",
       "1  Cumings, Mrs. John Bradley (Florence Briggs Th...  female  38.0      1   \n",
       "2                             Heikkinen, Miss. Laina  female  26.0      0   \n",
       "3       Futrelle, Mrs. Jacques Heath (Lily May Peel)  female  35.0      1   \n",
       "4                           Allen, Mr. William Henry    male  35.0      0   \n",
       "5                                   Moran, Mr. James    male   NaN      0   \n",
       "6                            McCarthy, Mr. Timothy J    male  54.0      0   \n",
       "7                     Palsson, Master. Gosta Leonard    male   2.0      3   \n",
       "8  Johnson, Mrs. Oscar W (Elisabeth Vilhelmina Berg)  female  27.0      0   \n",
       "9                Nasser, Mrs. Nicholas (Adele Achem)  female  14.0      1   \n",
       "\n",
       "   Parch            Ticket     Fare Cabin Embarked  \n",
       "0      0         A/5 21171   7.2500   NaN        S  \n",
       "1      0          PC 17599  71.2833   C85        C  \n",
       "2      0  STON/O2. 3101282   7.9250   NaN        S  \n",
       "3      0            113803  53.1000  C123        S  \n",
       "4      0            373450   8.0500   NaN        S  \n",
       "5      0            330877   8.4583   NaN        Q  \n",
       "6      0             17463  51.8625   E46        S  \n",
       "7      1            349909  21.0750   NaN        S  \n",
       "8      2            347742  11.1333   NaN        S  \n",
       "9      0            237736  30.0708   NaN        C  "
      ]
     },
     "execution_count": 3,
     "metadata": {},
     "output_type": "execute_result"
    }
   ],
   "source": [
    "train.head(10)"
   ]
  },
  {
   "cell_type": "code",
   "execution_count": 4,
   "metadata": {},
   "outputs": [
    {
     "data": {
      "text/html": [
       "<div>\n",
       "<style scoped>\n",
       "    .dataframe tbody tr th:only-of-type {\n",
       "        vertical-align: middle;\n",
       "    }\n",
       "\n",
       "    .dataframe tbody tr th {\n",
       "        vertical-align: top;\n",
       "    }\n",
       "\n",
       "    .dataframe thead th {\n",
       "        text-align: right;\n",
       "    }\n",
       "</style>\n",
       "<table border=\"1\" class=\"dataframe\">\n",
       "  <thead>\n",
       "    <tr style=\"text-align: right;\">\n",
       "      <th></th>\n",
       "      <th>PassengerId</th>\n",
       "      <th>Survived</th>\n",
       "      <th>Pclass</th>\n",
       "      <th>Age</th>\n",
       "      <th>SibSp</th>\n",
       "      <th>Parch</th>\n",
       "      <th>Fare</th>\n",
       "    </tr>\n",
       "  </thead>\n",
       "  <tbody>\n",
       "    <tr>\n",
       "      <th>count</th>\n",
       "      <td>891.000000</td>\n",
       "      <td>891.000000</td>\n",
       "      <td>891.000000</td>\n",
       "      <td>714.000000</td>\n",
       "      <td>891.000000</td>\n",
       "      <td>891.000000</td>\n",
       "      <td>891.000000</td>\n",
       "    </tr>\n",
       "    <tr>\n",
       "      <th>mean</th>\n",
       "      <td>446.000000</td>\n",
       "      <td>0.383838</td>\n",
       "      <td>2.308642</td>\n",
       "      <td>29.699118</td>\n",
       "      <td>0.523008</td>\n",
       "      <td>0.381594</td>\n",
       "      <td>32.204208</td>\n",
       "    </tr>\n",
       "    <tr>\n",
       "      <th>std</th>\n",
       "      <td>257.353842</td>\n",
       "      <td>0.486592</td>\n",
       "      <td>0.836071</td>\n",
       "      <td>14.526497</td>\n",
       "      <td>1.102743</td>\n",
       "      <td>0.806057</td>\n",
       "      <td>49.693429</td>\n",
       "    </tr>\n",
       "    <tr>\n",
       "      <th>min</th>\n",
       "      <td>1.000000</td>\n",
       "      <td>0.000000</td>\n",
       "      <td>1.000000</td>\n",
       "      <td>0.420000</td>\n",
       "      <td>0.000000</td>\n",
       "      <td>0.000000</td>\n",
       "      <td>0.000000</td>\n",
       "    </tr>\n",
       "    <tr>\n",
       "      <th>25%</th>\n",
       "      <td>223.500000</td>\n",
       "      <td>0.000000</td>\n",
       "      <td>2.000000</td>\n",
       "      <td>20.125000</td>\n",
       "      <td>0.000000</td>\n",
       "      <td>0.000000</td>\n",
       "      <td>7.910400</td>\n",
       "    </tr>\n",
       "    <tr>\n",
       "      <th>50%</th>\n",
       "      <td>446.000000</td>\n",
       "      <td>0.000000</td>\n",
       "      <td>3.000000</td>\n",
       "      <td>28.000000</td>\n",
       "      <td>0.000000</td>\n",
       "      <td>0.000000</td>\n",
       "      <td>14.454200</td>\n",
       "    </tr>\n",
       "    <tr>\n",
       "      <th>75%</th>\n",
       "      <td>668.500000</td>\n",
       "      <td>1.000000</td>\n",
       "      <td>3.000000</td>\n",
       "      <td>38.000000</td>\n",
       "      <td>1.000000</td>\n",
       "      <td>0.000000</td>\n",
       "      <td>31.000000</td>\n",
       "    </tr>\n",
       "    <tr>\n",
       "      <th>max</th>\n",
       "      <td>891.000000</td>\n",
       "      <td>1.000000</td>\n",
       "      <td>3.000000</td>\n",
       "      <td>80.000000</td>\n",
       "      <td>8.000000</td>\n",
       "      <td>6.000000</td>\n",
       "      <td>512.329200</td>\n",
       "    </tr>\n",
       "  </tbody>\n",
       "</table>\n",
       "</div>"
      ],
      "text/plain": [
       "       PassengerId    Survived      Pclass         Age       SibSp  \\\n",
       "count   891.000000  891.000000  891.000000  714.000000  891.000000   \n",
       "mean    446.000000    0.383838    2.308642   29.699118    0.523008   \n",
       "std     257.353842    0.486592    0.836071   14.526497    1.102743   \n",
       "min       1.000000    0.000000    1.000000    0.420000    0.000000   \n",
       "25%     223.500000    0.000000    2.000000   20.125000    0.000000   \n",
       "50%     446.000000    0.000000    3.000000   28.000000    0.000000   \n",
       "75%     668.500000    1.000000    3.000000   38.000000    1.000000   \n",
       "max     891.000000    1.000000    3.000000   80.000000    8.000000   \n",
       "\n",
       "            Parch        Fare  \n",
       "count  891.000000  891.000000  \n",
       "mean     0.381594   32.204208  \n",
       "std      0.806057   49.693429  \n",
       "min      0.000000    0.000000  \n",
       "25%      0.000000    7.910400  \n",
       "50%      0.000000   14.454200  \n",
       "75%      0.000000   31.000000  \n",
       "max      6.000000  512.329200  "
      ]
     },
     "execution_count": 4,
     "metadata": {},
     "output_type": "execute_result"
    }
   ],
   "source": [
    "train.describe()"
   ]
  },
  {
   "cell_type": "code",
   "execution_count": 5,
   "metadata": {},
   "outputs": [
    {
     "data": {
      "text/plain": [
       "PassengerId      0\n",
       "Survived         0\n",
       "Pclass           0\n",
       "Name             0\n",
       "Sex              0\n",
       "Age            177\n",
       "SibSp            0\n",
       "Parch            0\n",
       "Ticket           0\n",
       "Fare             0\n",
       "Cabin          687\n",
       "Embarked         2\n",
       "dtype: int64"
      ]
     },
     "execution_count": 5,
     "metadata": {},
     "output_type": "execute_result"
    }
   ],
   "source": [
    "train.isna().sum()"
   ]
  },
  {
   "cell_type": "code",
   "execution_count": 6,
   "metadata": {},
   "outputs": [
    {
     "data": {
      "text/plain": [
       "<matplotlib.axes._subplots.AxesSubplot at 0x7f4cddcc2860>"
      ]
     },
     "execution_count": 6,
     "metadata": {},
     "output_type": "execute_result"
    },
    {
     "data": {
      "image/png": "[encoded data removed]",
      "text/plain": [
       "<Figure size 432x288 with 1 Axes>"
      ]
     },
     "metadata": {
      "needs_background": "light"
     },
     "output_type": "display_data"
    }
   ],
   "source": [
    "sb.distplot(train[\"Fare\"])"
   ]
  },
  {
   "cell_type": "code",
   "execution_count": 7,
   "metadata": {},
   "outputs": [
    {
     "data": {
      "text/plain": [
       "count    891.000000\n",
       "mean      32.204208\n",
       "std       49.693429\n",
       "min        0.000000\n",
       "25%        7.910400\n",
       "50%       14.454200\n",
       "75%       31.000000\n",
       "max      512.329200\n",
       "Name: Fare, dtype: float64"
      ]
     },
     "execution_count": 7,
     "metadata": {},
     "output_type": "execute_result"
    }
   ],
   "source": [
    "train[\"Fare\"].describe()"
   ]
  },
  {
   "cell_type": "code",
   "execution_count": 8,
   "metadata": {},
   "outputs": [
    {
     "name": "stderr",
     "output_type": "stream",
     "text": [
      "/usr/local/lib/python3.5/dist-packages/pandas/core/indexing.py:190: SettingWithCopyWarning: \n",
      "A value is trying to be set on a copy of a slice from a DataFrame\n",
      "\n",
      "See the caveats in the documentation: http://pandas.pydata.org/pandas-docs/stable/indexing.html#indexing-view-versus-copy\n",
      "  self._setitem_with_indexer(indexer, value)\n"
     ]
    }
   ],
   "source": [
    "import numpy as np\n",
    "for i in range(len(train[\"Fare\"])):\n",
    "    if train[\"Fare\"].iloc()[i] < 1:\n",
    "        train[\"Fare\"].iloc()[i] = 1"
   ]
  },
  {
   "cell_type": "code",
   "execution_count": 9,
   "metadata": {},
   "outputs": [
    {
     "data": {
      "text/plain": [
       "<matplotlib.axes._subplots.AxesSubplot at 0x7f4cd9b916d8>"
      ]
     },
     "execution_count": 9,
     "metadata": {},
     "output_type": "execute_result"
    },
    {
     "data": {
      "image/png": "[encoded data removed]",
      "text/plain": [
       "<Figure size 432x288 with 1 Axes>"
      ]
     },
     "metadata": {
      "needs_background": "light"
     },
     "output_type": "display_data"
    }
   ],
   "source": [
    "train[\"Fare\"] = pd.Series(np.log(train[\"Fare\"]))\n",
    "sb.distplot(train[\"Fare\"])"
   ]
  },
  {
   "cell_type": "code",
   "execution_count": 10,
   "metadata": {},
   "outputs": [
    {
     "data": {
      "text/plain": [
       "687"
      ]
     },
     "execution_count": 10,
     "metadata": {},
     "output_type": "execute_result"
    }
   ],
   "source": [
    "train[\"Cabin\"].isna().sum()"
   ]
  },
  {
   "cell_type": "code",
   "execution_count": 11,
   "metadata": {},
   "outputs": [
    {
     "data": {
      "text/plain": [
       "891"
      ]
     },
     "execution_count": 11,
     "metadata": {},
     "output_type": "execute_result"
    }
   ],
   "source": [
    "train[\"Cabin\"].size"
   ]
  },
  {
   "cell_type": "code",
   "execution_count": 12,
   "metadata": {},
   "outputs": [
    {
     "data": {
      "text/plain": [
       "<matplotlib.axes._subplots.AxesSubplot at 0x7f4cd9b44a58>"
      ]
     },
     "execution_count": 12,
     "metadata": {},
     "output_type": "execute_result"
    },
    {
     "data": {
      "image/png": "[encoded data removed]",
      "text/plain": [
       "<Figure size 432x288 with 1 Axes>"
      ]
     },
     "metadata": {
      "needs_background": "light"
     },
     "output_type": "display_data"
    }
   ],
   "source": [
    "sb.distplot(train[\"Cabin\"].value_counts())"
   ]
  },
  {
   "cell_type": "code",
   "execution_count": 13,
   "metadata": {},
   "outputs": [
    {
     "name": "stdout",
     "output_type": "stream",
     "text": [
      "Null value percentage for Cabin column is: %77.10437710437711\n"
     ]
    }
   ],
   "source": [
    "print(\"Null value percentage for Cabin column is: %\" + str(train[\"Cabin\"].isna().sum()* 100/ train[\"Cabin\"].size))"
   ]
  },
  {
   "cell_type": "code",
   "execution_count": 14,
   "metadata": {},
   "outputs": [
    {
     "name": "stdout",
     "output_type": "stream",
     "text": [
      "<class 'pandas.core.frame.DataFrame'>\n",
      "RangeIndex: 891 entries, 0 to 890\n",
      "Data columns (total 12 columns):\n",
      "PassengerId    891 non-null int64\n",
      "Survived       891 non-null int64\n",
      "Pclass         891 non-null int64\n",
      "Name           891 non-null object\n",
      "Sex            891 non-null object\n",
      "Age            714 non-null float64\n",
      "SibSp          891 non-null int64\n",
      "Parch          891 non-null int64\n",
      "Ticket         891 non-null object\n",
      "Fare           891 non-null float64\n",
      "Cabin          204 non-null object\n",
      "Embarked       889 non-null object\n",
      "dtypes: float64(2), int64(5), object(5)\n",
      "memory usage: 83.6+ KB\n"
     ]
    }
   ],
   "source": [
    "train.info()"
   ]
  },
  {
   "cell_type": "code",
   "execution_count": 15,
   "metadata": {},
   "outputs": [
    {
     "data": {
      "text/plain": [
       "<matplotlib.axes._subplots.AxesSubplot at 0x7f4cd9a90eb8>"
      ]
     },
     "execution_count": 15,
     "metadata": {},
     "output_type": "execute_result"
    },
    {
     "data": {
      "image/png": "[encoded data removed]",
      "text/plain": [
       "<Figure size 432x288 with 1 Axes>"
      ]
     },
     "metadata": {
      "needs_background": "light"
     },
     "output_type": "display_data"
    }
   ],
   "source": [
    "sb.distplot(train[\"Survived\"])"
   ]
  },
  {
   "cell_type": "code",
   "execution_count": 16,
   "metadata": {},
   "outputs": [
    {
     "data": {
      "text/plain": [
       "0    549\n",
       "1    342\n",
       "Name: Survived, dtype: int64"
      ]
     },
     "execution_count": 16,
     "metadata": {},
     "output_type": "execute_result"
    }
   ],
   "source": [
    "train[\"Survived\"].value_counts()"
   ]
  },
  {
   "cell_type": "code",
   "execution_count": 17,
   "metadata": {},
   "outputs": [
    {
     "data": {
      "text/plain": [
       "0    678\n",
       "1    118\n",
       "2     80\n",
       "5      5\n",
       "3      5\n",
       "4      4\n",
       "6      1\n",
       "Name: Parch, dtype: int64"
      ]
     },
     "execution_count": 17,
     "metadata": {},
     "output_type": "execute_result"
    }
   ],
   "source": [
    "train[\"Parch\"].value_counts()"
   ]
  },
  {
   "cell_type": "code",
   "execution_count": 18,
   "metadata": {},
   "outputs": [
    {
     "data": {
      "text/plain": [
       "<matplotlib.axes._subplots.AxesSubplot at 0x7f4cd9a672b0>"
      ]
     },
     "execution_count": 18,
     "metadata": {},
     "output_type": "execute_result"
    },
    {
     "data": {
      "image/png": "[encoded data removed]",
      "text/plain": [
       "<Figure size 432x288 with 1 Axes>"
      ]
     },
     "metadata": {
      "needs_background": "light"
     },
     "output_type": "display_data"
    }
   ],
   "source": [
    "sb.distplot(train[\"Parch\"])"
   ]
  },
  {
   "cell_type": "code",
   "execution_count": 19,
   "metadata": {},
   "outputs": [
    {
     "data": {
      "text/plain": [
       "0    608\n",
       "1    209\n",
       "2     28\n",
       "4     18\n",
       "3     16\n",
       "8      7\n",
       "5      5\n",
       "Name: SibSp, dtype: int64"
      ]
     },
     "execution_count": 19,
     "metadata": {},
     "output_type": "execute_result"
    }
   ],
   "source": [
    "train[\"SibSp\"].value_counts()"
   ]
  },
  {
   "cell_type": "code",
   "execution_count": 20,
   "metadata": {},
   "outputs": [
    {
     "data": {
      "text/plain": [
       "<matplotlib.axes._subplots.AxesSubplot at 0x7f4cd9a35940>"
      ]
     },
     "execution_count": 20,
     "metadata": {},
     "output_type": "execute_result"
    },
    {
     "data": {
      "image/png": "[encoded data removed]",
      "text/plain": [
       "<Figure size 432x288 with 1 Axes>"
      ]
     },
     "metadata": {
      "needs_background": "light"
     },
     "output_type": "display_data"
    }
   ],
   "source": [
    "sb.distplot(train[\"SibSp\"])"
   ]
  },
  {
   "cell_type": "code",
   "execution_count": 21,
   "metadata": {},
   "outputs": [
    {
     "data": {
      "text/plain": [
       "count    714.000000\n",
       "mean      29.699118\n",
       "std       14.526497\n",
       "min        0.420000\n",
       "25%       20.125000\n",
       "50%       28.000000\n",
       "75%       38.000000\n",
       "max       80.000000\n",
       "Name: Age, dtype: float64"
      ]
     },
     "execution_count": 21,
     "metadata": {},
     "output_type": "execute_result"
    }
   ],
   "source": [
    "train[\"Age\"].describe()"
   ]
  },
  {
   "cell_type": "code",
   "execution_count": 22,
   "metadata": {},
   "outputs": [
    {
     "data": {
      "text/plain": [
       "count    714.000000\n",
       "mean      29.693277\n",
       "std       14.524527\n",
       "min        0.000000\n",
       "25%       20.000000\n",
       "50%       28.000000\n",
       "75%       38.000000\n",
       "max       80.000000\n",
       "Name: Age, dtype: float64"
      ]
     },
     "execution_count": 22,
     "metadata": {},
     "output_type": "execute_result"
    }
   ],
   "source": [
    "train[\"Age\"].round().describe()"
   ]
  },
  {
   "cell_type": "code",
   "execution_count": 23,
   "metadata": {},
   "outputs": [],
   "source": [
    "train[\"Age\"] = train[\"Age\"].round()"
   ]
  },
  {
   "cell_type": "code",
   "execution_count": 24,
   "metadata": {},
   "outputs": [],
   "source": [
    "train['Age'].fillna(train['Age'].mean(), inplace=True)"
   ]
  },
  {
   "cell_type": "code",
   "execution_count": 25,
   "metadata": {},
   "outputs": [
    {
     "data": {
      "text/plain": [
       "count    891.000000\n",
       "mean      29.693277\n",
       "std       13.000252\n",
       "min        0.000000\n",
       "25%       22.000000\n",
       "50%       29.693277\n",
       "75%       35.000000\n",
       "max       80.000000\n",
       "Name: Age, dtype: float64"
      ]
     },
     "execution_count": 25,
     "metadata": {},
     "output_type": "execute_result"
    }
   ],
   "source": [
    "train[\"Age\"].describe()"
   ]
  },
  {
   "cell_type": "code",
   "execution_count": 26,
   "metadata": {},
   "outputs": [
    {
     "data": {
      "text/plain": [
       "<matplotlib.axes._subplots.AxesSubplot at 0x7f4cd9b3ca90>"
      ]
     },
     "execution_count": 26,
     "metadata": {},
     "output_type": "execute_result"
    },
    {
     "data": {
      "image/png": "[encoded data removed]",
      "text/plain": [
       "<Figure size 432x288 with 1 Axes>"
      ]
     },
     "metadata": {
      "needs_background": "light"
     },
     "output_type": "display_data"
    }
   ],
   "source": [
    "sb.distplot(train[\"Age\"])"
   ]
  },
  {
   "cell_type": "code",
   "execution_count": 27,
   "metadata": {},
   "outputs": [
    {
     "name": "stderr",
     "output_type": "stream",
     "text": [
      "/usr/local/lib/python3.5/dist-packages/pandas/core/indexing.py:190: SettingWithCopyWarning: \n",
      "A value is trying to be set on a copy of a slice from a DataFrame\n",
      "\n",
      "See the caveats in the documentation: http://pandas.pydata.org/pandas-docs/stable/indexing.html#indexing-view-versus-copy\n",
      "  self._setitem_with_indexer(indexer, value)\n"
     ]
    },
    {
     "data": {
      "text/plain": [
       "<matplotlib.axes._subplots.AxesSubplot at 0x7f4cd9b1f9e8>"
      ]
     },
     "execution_count": 27,
     "metadata": {},
     "output_type": "execute_result"
    },
    {
     "data": {
      "image/png": "[encoded data removed]",
      "text/plain": [
       "<Figure size 432x288 with 1 Axes>"
      ]
     },
     "metadata": {
      "needs_background": "light"
     },
     "output_type": "display_data"
    }
   ],
   "source": [
    "for i in range(len(train[\"Age\"])):\n",
    "    if train[\"Age\"].iloc()[i] < 1:\n",
    "        train[\"Age\"].iloc()[i] = 1\n",
    "train[\"Age\"] = pd.Series(np.log(train[\"Age\"]))\n",
    "sb.distplot(train[\"Age\"])"
   ]
  },
  {
   "cell_type": "code",
   "execution_count": 28,
   "metadata": {},
   "outputs": [
    {
     "data": {
      "text/plain": [
       "Faunthorpe, Mrs. Lizzie (Elizabeth Anne Wilkinson)                     1\n",
       "Palsson, Miss. Torborg Danira                                          1\n",
       "Ilett, Miss. Bertha                                                    1\n",
       "Lam, Mr. Ali                                                           1\n",
       "Lang, Mr. Fang                                                         1\n",
       "Goldenberg, Mr. Samuel L                                               1\n",
       "Ilmakangas, Miss. Pieta Sofia                                          1\n",
       "Jensen, Mr. Hans Peder                                                 1\n",
       "Gustafsson, Mr. Johan Birger                                           1\n",
       "Rothschild, Mrs. Martin (Elizabeth L. Barrett)                         1\n",
       "Reed, Mr. James George                                                 1\n",
       "Osen, Mr. Olaf Elon                                                    1\n",
       "Abelson, Mrs. Samuel (Hannah Wizosky)                                  1\n",
       "Doling, Miss. Elsie                                                    1\n",
       "Johansson, Mr. Erik                                                    1\n",
       "Williams, Mr. Howard Hugh \"Harry\"                                      1\n",
       "Burke, Mr. Jeremiah                                                    1\n",
       "Widener, Mr. Harry Elkins                                              1\n",
       "Vestrom, Miss. Hulda Amanda Adolfina                                   1\n",
       "Mudd, Mr. Thomas Charles                                               1\n",
       "Oreskovic, Mr. Luka                                                    1\n",
       "Dantcheff, Mr. Ristiu                                                  1\n",
       "McNamee, Mr. Neal                                                      1\n",
       "Strandberg, Miss. Ida Sofia                                            1\n",
       "Johansson, Mr. Karl Johan                                              1\n",
       "Jussila, Mr. Eiriik                                                    1\n",
       "Gaskell, Mr. Alfred                                                    1\n",
       "Barton, Mr. David John                                                 1\n",
       "Celotti, Mr. Francesco                                                 1\n",
       "Douglas, Mr. Walter Donald                                             1\n",
       "                                                                      ..\n",
       "Palsson, Master. Gosta Leonard                                         1\n",
       "Fortune, Mr. Charles Alexander                                         1\n",
       "Harper, Miss. Annie Jessie \"Nina\"                                      1\n",
       "Harris, Mr. Walter                                                     1\n",
       "Gill, Mr. John William                                                 1\n",
       "Lester, Mr. James                                                      1\n",
       "Minahan, Miss. Daisy E                                                 1\n",
       "Sirota, Mr. Maurice                                                    1\n",
       "Mitchell, Mr. Henry Michael                                            1\n",
       "Healy, Miss. Hanora \"Nora\"                                             1\n",
       "Dennis, Mr. Samuel                                                     1\n",
       "Harder, Mr. George Achilles                                            1\n",
       "Andersson, Miss. Erna Alexandra                                        1\n",
       "Duane, Mr. Frank                                                       1\n",
       "Cairns, Mr. Alexander                                                  1\n",
       "Moussa, Mrs. (Mantoura Boulos)                                         1\n",
       "Soholt, Mr. Peter Andreas Lauritz Andersen                             1\n",
       "Risien, Mr. Samuel Beard                                               1\n",
       "Tornquist, Mr. William Henry                                           1\n",
       "Persson, Mr. Ernst Ulrik                                               1\n",
       "Partner, Mr. Austen                                                    1\n",
       "Rice, Mrs. William (Margaret Norton)                                   1\n",
       "Flynn, Mr. John                                                        1\n",
       "Phillips, Miss. Kate Florence (\"Mrs Kate Louise Phillips Marshall\")    1\n",
       "Taussig, Miss. Ruth                                                    1\n",
       "Baclini, Miss. Helene Barbara                                          1\n",
       "Thorneycroft, Mrs. Percival (Florence Kate White)                      1\n",
       "Smith, Mr. James Clinch                                                1\n",
       "Molson, Mr. Harry Markland                                             1\n",
       "Bissette, Miss. Amelia                                                 1\n",
       "Name: Name, Length: 891, dtype: int64"
      ]
     },
     "execution_count": 28,
     "metadata": {},
     "output_type": "execute_result"
    }
   ],
   "source": [
    "train[\"Name\"].value_counts() \n",
    "#Since names are highly unlikely to have any significance with the problem,\n",
    "# we will drop this column."
   ]
  },
  {
   "cell_type": "code",
   "execution_count": 29,
   "metadata": {},
   "outputs": [],
   "source": [
    "train.drop([\"Name\"], axis=1, inplace = True)"
   ]
  },
  {
   "cell_type": "code",
   "execution_count": 30,
   "metadata": {},
   "outputs": [],
   "source": [
    "#We need to convert some columns to type of objects, because they \n",
    "#represent categorical variables, e.g. Pclass\n",
    "train[\"Pclass\"] = train[\"Pclass\"].astype(\"object\")\n",
    "train[\"SibSp\"] = train[\"SibSp\"].astype(\"object\")\n",
    "train[\"Parch\"] = train[\"Parch\"].astype(\"object\")"
   ]
  },
  {
   "cell_type": "code",
   "execution_count": 31,
   "metadata": {},
   "outputs": [
    {
     "name": "stdout",
     "output_type": "stream",
     "text": [
      "<class 'pandas.core.frame.DataFrame'>\n",
      "RangeIndex: 891 entries, 0 to 890\n",
      "Data columns (total 11 columns):\n",
      "PassengerId    891 non-null int64\n",
      "Survived       891 non-null int64\n",
      "Pclass         891 non-null object\n",
      "Sex            891 non-null object\n",
      "Age            891 non-null float64\n",
      "SibSp          891 non-null object\n",
      "Parch          891 non-null object\n",
      "Ticket         891 non-null object\n",
      "Fare           891 non-null float64\n",
      "Cabin          204 non-null object\n",
      "Embarked       889 non-null object\n",
      "dtypes: float64(2), int64(2), object(7)\n",
      "memory usage: 76.6+ KB\n"
     ]
    }
   ],
   "source": [
    "train.info()"
   ]
  },
  {
   "cell_type": "code",
   "execution_count": 32,
   "metadata": {},
   "outputs": [],
   "source": [
    "#Lets also drop Cabin column since it has many null values.\n",
    "train.drop([\"Cabin\"], axis=1, inplace = True)"
   ]
  },
  {
   "cell_type": "code",
   "execution_count": 33,
   "metadata": {},
   "outputs": [],
   "source": [
    "label = pd.get_dummies(pd.Series(train[\"Survived\"], dtype='object'))\n",
    "train.drop([\"Survived\"], axis = 1, inplace = True)"
   ]
  },
  {
   "cell_type": "code",
   "execution_count": 34,
   "metadata": {},
   "outputs": [
    {
     "data": {
      "text/html": [
       "<div>\n",
       "<style scoped>\n",
       "    .dataframe tbody tr th:only-of-type {\n",
       "        vertical-align: middle;\n",
       "    }\n",
       "\n",
       "    .dataframe tbody tr th {\n",
       "        vertical-align: top;\n",
       "    }\n",
       "\n",
       "    .dataframe thead th {\n",
       "        text-align: right;\n",
       "    }\n",
       "</style>\n",
       "<table border=\"1\" class=\"dataframe\">\n",
       "  <thead>\n",
       "    <tr style=\"text-align: right;\">\n",
       "      <th></th>\n",
       "      <th>PassengerId</th>\n",
       "      <th>Pclass</th>\n",
       "      <th>Sex</th>\n",
       "      <th>Age</th>\n",
       "      <th>SibSp</th>\n",
       "      <th>Parch</th>\n",
       "      <th>Ticket</th>\n",
       "      <th>Fare</th>\n",
       "      <th>Embarked</th>\n",
       "    </tr>\n",
       "  </thead>\n",
       "  <tbody>\n",
       "    <tr>\n",
       "      <th>0</th>\n",
       "      <td>1</td>\n",
       "      <td>3</td>\n",
       "      <td>male</td>\n",
       "      <td>3.091042</td>\n",
       "      <td>1</td>\n",
       "      <td>0</td>\n",
       "      <td>A/5 21171</td>\n",
       "      <td>1.981001</td>\n",
       "      <td>S</td>\n",
       "    </tr>\n",
       "    <tr>\n",
       "      <th>1</th>\n",
       "      <td>2</td>\n",
       "      <td>1</td>\n",
       "      <td>female</td>\n",
       "      <td>3.637586</td>\n",
       "      <td>1</td>\n",
       "      <td>0</td>\n",
       "      <td>PC 17599</td>\n",
       "      <td>4.266662</td>\n",
       "      <td>C</td>\n",
       "    </tr>\n",
       "    <tr>\n",
       "      <th>2</th>\n",
       "      <td>3</td>\n",
       "      <td>3</td>\n",
       "      <td>female</td>\n",
       "      <td>3.258097</td>\n",
       "      <td>0</td>\n",
       "      <td>0</td>\n",
       "      <td>STON/O2. 3101282</td>\n",
       "      <td>2.070022</td>\n",
       "      <td>S</td>\n",
       "    </tr>\n",
       "    <tr>\n",
       "      <th>3</th>\n",
       "      <td>4</td>\n",
       "      <td>1</td>\n",
       "      <td>female</td>\n",
       "      <td>3.555348</td>\n",
       "      <td>1</td>\n",
       "      <td>0</td>\n",
       "      <td>113803</td>\n",
       "      <td>3.972177</td>\n",
       "      <td>S</td>\n",
       "    </tr>\n",
       "    <tr>\n",
       "      <th>4</th>\n",
       "      <td>5</td>\n",
       "      <td>3</td>\n",
       "      <td>male</td>\n",
       "      <td>3.555348</td>\n",
       "      <td>0</td>\n",
       "      <td>0</td>\n",
       "      <td>373450</td>\n",
       "      <td>2.085672</td>\n",
       "      <td>S</td>\n",
       "    </tr>\n",
       "    <tr>\n",
       "      <th>5</th>\n",
       "      <td>6</td>\n",
       "      <td>3</td>\n",
       "      <td>male</td>\n",
       "      <td>3.390921</td>\n",
       "      <td>0</td>\n",
       "      <td>0</td>\n",
       "      <td>330877</td>\n",
       "      <td>2.135148</td>\n",
       "      <td>Q</td>\n",
       "    </tr>\n",
       "    <tr>\n",
       "      <th>6</th>\n",
       "      <td>7</td>\n",
       "      <td>1</td>\n",
       "      <td>male</td>\n",
       "      <td>3.988984</td>\n",
       "      <td>0</td>\n",
       "      <td>0</td>\n",
       "      <td>17463</td>\n",
       "      <td>3.948596</td>\n",
       "      <td>S</td>\n",
       "    </tr>\n",
       "    <tr>\n",
       "      <th>7</th>\n",
       "      <td>8</td>\n",
       "      <td>3</td>\n",
       "      <td>male</td>\n",
       "      <td>0.693147</td>\n",
       "      <td>3</td>\n",
       "      <td>1</td>\n",
       "      <td>349909</td>\n",
       "      <td>3.048088</td>\n",
       "      <td>S</td>\n",
       "    </tr>\n",
       "    <tr>\n",
       "      <th>8</th>\n",
       "      <td>9</td>\n",
       "      <td>3</td>\n",
       "      <td>female</td>\n",
       "      <td>3.295837</td>\n",
       "      <td>0</td>\n",
       "      <td>2</td>\n",
       "      <td>347742</td>\n",
       "      <td>2.409941</td>\n",
       "      <td>S</td>\n",
       "    </tr>\n",
       "    <tr>\n",
       "      <th>9</th>\n",
       "      <td>10</td>\n",
       "      <td>2</td>\n",
       "      <td>female</td>\n",
       "      <td>2.639057</td>\n",
       "      <td>1</td>\n",
       "      <td>0</td>\n",
       "      <td>237736</td>\n",
       "      <td>3.403555</td>\n",
       "      <td>C</td>\n",
       "    </tr>\n",
       "  </tbody>\n",
       "</table>\n",
       "</div>"
      ],
      "text/plain": [
       "   PassengerId Pclass     Sex       Age SibSp Parch            Ticket  \\\n",
       "0            1      3    male  3.091042     1     0         A/5 21171   \n",
       "1            2      1  female  3.637586     1     0          PC 17599   \n",
       "2            3      3  female  3.258097     0     0  STON/O2. 3101282   \n",
       "3            4      1  female  3.555348     1     0            113803   \n",
       "4            5      3    male  3.555348     0     0            373450   \n",
       "5            6      3    male  3.390921     0     0            330877   \n",
       "6            7      1    male  3.988984     0     0             17463   \n",
       "7            8      3    male  0.693147     3     1            349909   \n",
       "8            9      3  female  3.295837     0     2            347742   \n",
       "9           10      2  female  2.639057     1     0            237736   \n",
       "\n",
       "       Fare Embarked  \n",
       "0  1.981001        S  \n",
       "1  4.266662        C  \n",
       "2  2.070022        S  \n",
       "3  3.972177        S  \n",
       "4  2.085672        S  \n",
       "5  2.135148        Q  \n",
       "6  3.948596        S  \n",
       "7  3.048088        S  \n",
       "8  2.409941        S  \n",
       "9  3.403555        C  "
      ]
     },
     "execution_count": 34,
     "metadata": {},
     "output_type": "execute_result"
    }
   ],
   "source": [
    "train.head(10)"
   ]
  },
  {
   "cell_type": "code",
   "execution_count": 35,
   "metadata": {},
   "outputs": [
    {
     "name": "stdout",
     "output_type": "stream",
     "text": [
      "<class 'pandas.core.frame.DataFrame'>\n",
      "RangeIndex: 891 entries, 0 to 890\n",
      "Data columns (total 9 columns):\n",
      "PassengerId    891 non-null int64\n",
      "Pclass         891 non-null object\n",
      "Sex            891 non-null object\n",
      "Age            891 non-null float64\n",
      "SibSp          891 non-null object\n",
      "Parch          891 non-null object\n",
      "Ticket         891 non-null object\n",
      "Fare           891 non-null float64\n",
      "Embarked       889 non-null object\n",
      "dtypes: float64(2), int64(1), object(6)\n",
      "memory usage: 62.7+ KB\n"
     ]
    }
   ],
   "source": [
    "train.info()"
   ]
  },
  {
   "cell_type": "code",
   "execution_count": 36,
   "metadata": {},
   "outputs": [
    {
     "data": {
      "text/plain": [
       "PassengerId    0\n",
       "Pclass         0\n",
       "Sex            0\n",
       "Age            0\n",
       "SibSp          0\n",
       "Parch          0\n",
       "Ticket         0\n",
       "Fare           0\n",
       "Embarked       2\n",
       "dtype: int64"
      ]
     },
     "execution_count": 36,
     "metadata": {},
     "output_type": "execute_result"
    }
   ],
   "source": [
    "train.isna().sum()"
   ]
  },
  {
   "cell_type": "markdown",
   "metadata": {},
   "source": [
    "# Test set conversions"
   ]
  },
  {
   "cell_type": "code",
   "execution_count": 37,
   "metadata": {},
   "outputs": [
    {
     "data": {
      "text/plain": [
       "PassengerId    0\n",
       "Pclass         0\n",
       "Sex            0\n",
       "Age            0\n",
       "SibSp          0\n",
       "Parch          0\n",
       "Ticket         0\n",
       "Fare           0\n",
       "Embarked       0\n",
       "dtype: int64"
      ]
     },
     "execution_count": 37,
     "metadata": {},
     "output_type": "execute_result"
    }
   ],
   "source": [
    "test = pd.read_csv(\"test.csv\")\n",
    "test[\"Pclass\"] = test[\"Pclass\"].astype(\"object\")\n",
    "test[\"SibSp\"] = test[\"SibSp\"].astype(\"object\")\n",
    "test[\"Parch\"] = test[\"Parch\"].astype(\"object\")\n",
    "test.drop([\"Cabin\"], axis=1, inplace = True)\n",
    "test.drop([\"Name\"], axis=1, inplace = True)\n",
    "test[\"Age\"] = test[\"Age\"].round()\n",
    "test['Age'].fillna(test['Age'].mean(), inplace=True)\n",
    "test['Fare'].fillna(test['Fare'].mean(), inplace=True)\n",
    "\n",
    "test.isna().sum()"
   ]
  },
  {
   "cell_type": "code",
   "execution_count": 38,
   "metadata": {},
   "outputs": [
    {
     "data": {
      "text/plain": [
       "<matplotlib.axes._subplots.AxesSubplot at 0x7f4cd99439e8>"
      ]
     },
     "execution_count": 38,
     "metadata": {},
     "output_type": "execute_result"
    },
    {
     "data": {
      "image/png": "[encoded data removed]",
      "text/plain": [
       "<Figure size 432x288 with 1 Axes>"
      ]
     },
     "metadata": {
      "needs_background": "light"
     },
     "output_type": "display_data"
    }
   ],
   "source": [
    "sb.distplot(test[\"Fare\"])"
   ]
  },
  {
   "cell_type": "code",
   "execution_count": 39,
   "metadata": {},
   "outputs": [
    {
     "name": "stderr",
     "output_type": "stream",
     "text": [
      "/usr/local/lib/python3.5/dist-packages/pandas/core/indexing.py:190: SettingWithCopyWarning: \n",
      "A value is trying to be set on a copy of a slice from a DataFrame\n",
      "\n",
      "See the caveats in the documentation: http://pandas.pydata.org/pandas-docs/stable/indexing.html#indexing-view-versus-copy\n",
      "  self._setitem_with_indexer(indexer, value)\n"
     ]
    }
   ],
   "source": [
    "for i in range(len(test[\"Fare\"])):\n",
    "    if test[\"Fare\"].iloc()[i] < 1:\n",
    "        test[\"Fare\"].iloc()[i] = 1\n",
    "test[\"Fare\"] = pd.Series(np.log(test[\"Fare\"]))\n"
   ]
  },
  {
   "cell_type": "code",
   "execution_count": 40,
   "metadata": {},
   "outputs": [
    {
     "data": {
      "text/plain": [
       "<matplotlib.axes._subplots.AxesSubplot at 0x7f4cd98385f8>"
      ]
     },
     "execution_count": 40,
     "metadata": {},
     "output_type": "execute_result"
    },
    {
     "data": {
      "image/png": "[encoded data removed]",
      "text/plain": [
       "<Figure size 432x288 with 1 Axes>"
      ]
     },
     "metadata": {
      "needs_background": "light"
     },
     "output_type": "display_data"
    }
   ],
   "source": [
    "sb.distplot(test[\"Fare\"])"
   ]
  },
  {
   "cell_type": "code",
   "execution_count": 41,
   "metadata": {},
   "outputs": [
    {
     "data": {
      "text/plain": [
       "<matplotlib.axes._subplots.AxesSubplot at 0x7f4cd983dc88>"
      ]
     },
     "execution_count": 41,
     "metadata": {},
     "output_type": "execute_result"
    },
    {
     "data": {
      "image/png": "[encoded data removed]",
      "text/plain": [
       "<Figure size 432x288 with 1 Axes>"
      ]
     },
     "metadata": {
      "needs_background": "light"
     },
     "output_type": "display_data"
    }
   ],
   "source": [
    "sb.distplot(test[\"Age\"])"
   ]
  },
  {
   "cell_type": "code",
   "execution_count": 42,
   "metadata": {},
   "outputs": [
    {
     "data": {
      "text/plain": [
       "<matplotlib.axes._subplots.AxesSubplot at 0x7f4cd977bf60>"
      ]
     },
     "execution_count": 42,
     "metadata": {},
     "output_type": "execute_result"
    },
    {
     "data": {
      "image/png": "[encoded data removed]",
      "text/plain": [
       "<Figure size 432x288 with 1 Axes>"
      ]
     },
     "metadata": {
      "needs_background": "light"
     },
     "output_type": "display_data"
    }
   ],
   "source": [
    "for i in range(len(test[\"Age\"])):\n",
    "    if test[\"Age\"].iloc()[i] < 1:\n",
    "        test[\"Age\"].iloc()[i] = 1\n",
    "test[\"Age\"] = pd.Series(np.log(test[\"Age\"]))\n",
    "sb.distplot(test[\"Age\"])"
   ]
  },
  {
   "cell_type": "code",
   "execution_count": 43,
   "metadata": {},
   "outputs": [
    {
     "name": "stdout",
     "output_type": "stream",
     "text": [
      "<class 'pandas.core.frame.DataFrame'>\n",
      "RangeIndex: 418 entries, 0 to 417\n",
      "Data columns (total 9 columns):\n",
      "PassengerId    418 non-null int64\n",
      "Pclass         418 non-null object\n",
      "Sex            418 non-null object\n",
      "Age            418 non-null float64\n",
      "SibSp          418 non-null object\n",
      "Parch          418 non-null object\n",
      "Ticket         418 non-null object\n",
      "Fare           418 non-null float64\n",
      "Embarked       418 non-null object\n",
      "dtypes: float64(2), int64(1), object(6)\n",
      "memory usage: 29.5+ KB\n"
     ]
    }
   ],
   "source": [
    "test.info()"
   ]
  },
  {
   "cell_type": "code",
   "execution_count": 44,
   "metadata": {},
   "outputs": [
    {
     "data": {
      "text/plain": [
       "76.43097643097643"
      ]
     },
     "execution_count": 44,
     "metadata": {},
     "output_type": "execute_result"
    }
   ],
   "source": [
    "len(train[\"Ticket\"].value_counts())*100/len(train[\"Ticket\"])"
   ]
  },
  {
   "cell_type": "code",
   "execution_count": 45,
   "metadata": {},
   "outputs": [
    {
     "data": {
      "text/plain": [
       "<matplotlib.axes._subplots.AxesSubplot at 0x7f4cd96e7048>"
      ]
     },
     "execution_count": 45,
     "metadata": {},
     "output_type": "execute_result"
    },
    {
     "data": {
      "image/png": "[encoded data removed]",
      "text/plain": [
       "<Figure size 432x288 with 1 Axes>"
      ]
     },
     "metadata": {
      "needs_background": "light"
     },
     "output_type": "display_data"
    }
   ],
   "source": [
    "sb.distplot(train[\"Ticket\"].value_counts())"
   ]
  },
  {
   "cell_type": "code",
   "execution_count": 46,
   "metadata": {},
   "outputs": [
    {
     "data": {
      "text/plain": [
       "<matplotlib.axes._subplots.AxesSubplot at 0x7f4d2c7b50f0>"
      ]
     },
     "execution_count": 46,
     "metadata": {},
     "output_type": "execute_result"
    },
    {
     "data": {
      "image/png": "[encoded data removed]",
      "text/plain": [
       "<Figure size 432x288 with 1 Axes>"
      ]
     },
     "metadata": {
      "needs_background": "light"
     },
     "output_type": "display_data"
    }
   ],
   "source": [
    "from sklearn.preprocessing import LabelEncoder\n",
    "\n",
    "lb_make = LabelEncoder()\n",
    "train[\"Ticket_encoded\"] = lb_make.fit_transform(train[\"Ticket\"])\n",
    "sb.distplot(train[\"Ticket_encoded\"])"
   ]
  },
  {
   "cell_type": "code",
   "execution_count": 47,
   "metadata": {},
   "outputs": [
    {
     "name": "stderr",
     "output_type": "stream",
     "text": [
      "/usr/local/lib/python3.5/dist-packages/pandas/core/indexing.py:190: SettingWithCopyWarning: \n",
      "A value is trying to be set on a copy of a slice from a DataFrame\n",
      "\n",
      "See the caveats in the documentation: http://pandas.pydata.org/pandas-docs/stable/indexing.html#indexing-view-versus-copy\n",
      "  self._setitem_with_indexer(indexer, value)\n"
     ]
    },
    {
     "data": {
      "text/plain": [
       "<matplotlib.axes._subplots.AxesSubplot at 0x7f4d2c76c048>"
      ]
     },
     "execution_count": 47,
     "metadata": {},
     "output_type": "execute_result"
    },
    {
     "data": {
      "image/png": "[encoded data removed]",
      "text/plain": [
       "<Figure size 432x288 with 1 Axes>"
      ]
     },
     "metadata": {
      "needs_background": "light"
     },
     "output_type": "display_data"
    }
   ],
   "source": [
    "from scipy.stats import boxcox\n",
    "for i in range(len(train[\"Ticket_encoded\"])):\n",
    "    if train[\"Ticket_encoded\"].iloc()[i] < 1:\n",
    "        train[\"Ticket_encoded\"].iloc()[i] = 1\n",
    "train[\"Ticket_encoded\"] = pd.Series(boxcox(train[\"Ticket_encoded\"], 0))\n",
    "sb.distplot(train[\"Ticket_encoded\"])"
   ]
  },
  {
   "cell_type": "code",
   "execution_count": 48,
   "metadata": {},
   "outputs": [
    {
     "data": {
      "text/plain": [
       "<matplotlib.axes._subplots.AxesSubplot at 0x7f4d2c775748>"
      ]
     },
     "execution_count": 48,
     "metadata": {},
     "output_type": "execute_result"
    },
    {
     "data": {
      "image/png": "[encoded data removed]",
      "text/plain": [
       "<Figure size 432x288 with 1 Axes>"
      ]
     },
     "metadata": {
      "needs_background": "light"
     },
     "output_type": "display_data"
    }
   ],
   "source": [
    "lb_make = LabelEncoder()\n",
    "test[\"Ticket_encoded\"] = lb_make.fit_transform(test[\"Ticket\"])\n",
    "sb.distplot(test[\"Ticket_encoded\"])"
   ]
  },
  {
   "cell_type": "code",
   "execution_count": 49,
   "metadata": {},
   "outputs": [
    {
     "data": {
      "text/plain": [
       "<matplotlib.axes._subplots.AxesSubplot at 0x7f4d1931a550>"
      ]
     },
     "execution_count": 49,
     "metadata": {},
     "output_type": "execute_result"
    },
    {
     "data": {
      "image/png": "[encoded data removed]",
      "text/plain": [
       "<Figure size 432x288 with 1 Axes>"
      ]
     },
     "metadata": {
      "needs_background": "light"
     },
     "output_type": "display_data"
    }
   ],
   "source": [
    "for i in range(len(test[\"Ticket_encoded\"])):\n",
    "    if test[\"Ticket_encoded\"].iloc()[i] < 1:\n",
    "        test[\"Ticket_encoded\"].iloc()[i] = 1\n",
    "test[\"Ticket_encoded\"] = pd.Series(boxcox(test[\"Ticket_encoded\"], 0))\n",
    "sb.distplot(test[\"Ticket_encoded\"])"
   ]
  },
  {
   "cell_type": "code",
   "execution_count": 50,
   "metadata": {},
   "outputs": [],
   "source": [
    "train['train'] = 1\n",
    "test['train'] = 0\n",
    "combined = pd.concat([train, test])"
   ]
  },
  {
   "cell_type": "code",
   "execution_count": 51,
   "metadata": {},
   "outputs": [
    {
     "name": "stderr",
     "output_type": "stream",
     "text": [
      "/usr/local/lib/python3.5/dist-packages/pandas/core/frame.py:3940: SettingWithCopyWarning: \n",
      "A value is trying to be set on a copy of a slice from a DataFrame\n",
      "\n",
      "See the caveats in the documentation: http://pandas.pydata.org/pandas-docs/stable/indexing.html#indexing-view-versus-copy\n",
      "  errors=errors)\n"
     ]
    }
   ],
   "source": [
    "tickets = combined[\"Ticket\"]\n",
    "combined.drop([\"Ticket\"], axis = 1, inplace = True)\n",
    "\n",
    "##Check the difference when you drop it.\n",
    "#combined.drop([\"Ticket_encoded\"], axis = 1, inplace = True)\n",
    "\n",
    "df = pd.get_dummies(combined, columns = list(combined.select_dtypes(include='object')))\n",
    "\n",
    "train = df[df['train'] == 1]\n",
    "test = df[df['train'] == 0]\n",
    "    \n",
    "train.drop([\"train\"], axis = 1, inplace = True)\n",
    "test.drop([\"train\"], axis = 1, inplace = True)"
   ]
  },
  {
   "cell_type": "code",
   "execution_count": 52,
   "metadata": {},
   "outputs": [],
   "source": [
    "#sb.distplot(tickets.value_counts())"
   ]
  },
  {
   "cell_type": "code",
   "execution_count": 53,
   "metadata": {},
   "outputs": [],
   "source": [
    "#(tickets.value_counts() == 1).sum()"
   ]
  },
  {
   "cell_type": "code",
   "execution_count": 54,
   "metadata": {},
   "outputs": [
    {
     "name": "stdout",
     "output_type": "stream",
     "text": [
      "<class 'pandas.core.frame.DataFrame'>\n",
      "Int64Index: 891 entries, 0 to 890\n",
      "Data columns (total 27 columns):\n",
      "PassengerId       891 non-null int64\n",
      "Age               891 non-null float64\n",
      "Fare              891 non-null float64\n",
      "Ticket_encoded    891 non-null float64\n",
      "Pclass_1          891 non-null uint8\n",
      "Pclass_2          891 non-null uint8\n",
      "Pclass_3          891 non-null uint8\n",
      "Sex_female        891 non-null uint8\n",
      "Sex_male          891 non-null uint8\n",
      "SibSp_0           891 non-null uint8\n",
      "SibSp_1           891 non-null uint8\n",
      "SibSp_2           891 non-null uint8\n",
      "SibSp_3           891 non-null uint8\n",
      "SibSp_4           891 non-null uint8\n",
      "SibSp_5           891 non-null uint8\n",
      "SibSp_8           891 non-null uint8\n",
      "Parch_0           891 non-null uint8\n",
      "Parch_1           891 non-null uint8\n",
      "Parch_2           891 non-null uint8\n",
      "Parch_3           891 non-null uint8\n",
      "Parch_4           891 non-null uint8\n",
      "Parch_5           891 non-null uint8\n",
      "Parch_6           891 non-null uint8\n",
      "Parch_9           891 non-null uint8\n",
      "Embarked_C        891 non-null uint8\n",
      "Embarked_Q        891 non-null uint8\n",
      "Embarked_S        891 non-null uint8\n",
      "dtypes: float64(3), int64(1), uint8(23)\n",
      "memory usage: 54.8 KB\n"
     ]
    }
   ],
   "source": [
    "train.info()"
   ]
  },
  {
   "cell_type": "code",
   "execution_count": 55,
   "metadata": {},
   "outputs": [
    {
     "name": "stdout",
     "output_type": "stream",
     "text": [
      "<class 'pandas.core.frame.DataFrame'>\n",
      "Int64Index: 418 entries, 0 to 417\n",
      "Data columns (total 27 columns):\n",
      "PassengerId       418 non-null int64\n",
      "Age               418 non-null float64\n",
      "Fare              418 non-null float64\n",
      "Ticket_encoded    418 non-null float64\n",
      "Pclass_1          418 non-null uint8\n",
      "Pclass_2          418 non-null uint8\n",
      "Pclass_3          418 non-null uint8\n",
      "Sex_female        418 non-null uint8\n",
      "Sex_male          418 non-null uint8\n",
      "SibSp_0           418 non-null uint8\n",
      "SibSp_1           418 non-null uint8\n",
      "SibSp_2           418 non-null uint8\n",
      "SibSp_3           418 non-null uint8\n",
      "SibSp_4           418 non-null uint8\n",
      "SibSp_5           418 non-null uint8\n",
      "SibSp_8           418 non-null uint8\n",
      "Parch_0           418 non-null uint8\n",
      "Parch_1           418 non-null uint8\n",
      "Parch_2           418 non-null uint8\n",
      "Parch_3           418 non-null uint8\n",
      "Parch_4           418 non-null uint8\n",
      "Parch_5           418 non-null uint8\n",
      "Parch_6           418 non-null uint8\n",
      "Parch_9           418 non-null uint8\n",
      "Embarked_C        418 non-null uint8\n",
      "Embarked_Q        418 non-null uint8\n",
      "Embarked_S        418 non-null uint8\n",
      "dtypes: float64(3), int64(1), uint8(23)\n",
      "memory usage: 25.7 KB\n"
     ]
    }
   ],
   "source": [
    "test.info()"
   ]
  },
  {
   "cell_type": "code",
   "execution_count": 56,
   "metadata": {},
   "outputs": [
    {
     "name": "stderr",
     "output_type": "stream",
     "text": [
      "/usr/local/lib/python3.5/dist-packages/pandas/core/frame.py:3940: SettingWithCopyWarning: \n",
      "A value is trying to be set on a copy of a slice from a DataFrame\n",
      "\n",
      "See the caveats in the documentation: http://pandas.pydata.org/pandas-docs/stable/indexing.html#indexing-view-versus-copy\n",
      "  errors=errors)\n"
     ]
    }
   ],
   "source": [
    "train.drop([\"PassengerId\"], axis = 1, inplace = True)\n",
    "passengerIdTest = test[\"PassengerId\"]\n",
    "test.drop([\"PassengerId\"], axis = 1, inplace = True)"
   ]
  },
  {
   "cell_type": "code",
   "execution_count": 57,
   "metadata": {},
   "outputs": [],
   "source": [
    "#Normalizing the data\n",
    "from sklearn.preprocessing import StandardScaler\n",
    "sc = StandardScaler()\n",
    "train = sc.fit_transform(train)\n",
    "test = sc.fit_transform(test)"
   ]
  },
  {
   "cell_type": "markdown",
   "metadata": {},
   "source": [
    "# Modelling Time"
   ]
  },
  {
   "cell_type": "code",
   "execution_count": 58,
   "metadata": {},
   "outputs": [],
   "source": [
    "from sklearn.model_selection import train_test_split\n",
    "X_train,X_test,y_train,y_test=train_test_split(train,label,test_size=0.25,random_state=0)"
   ]
  },
  {
   "cell_type": "code",
   "execution_count": 59,
   "metadata": {},
   "outputs": [
    {
     "name": "stderr",
     "output_type": "stream",
     "text": [
      "Using TensorFlow backend.\n"
     ]
    }
   ],
   "source": [
    "#add DL here\n",
    "#Dependencies\n",
    "import keras\n",
    "from keras.models import Sequential\n",
    "from keras.layers import Dense\n",
    "from keras.layers import Dropout\n",
    "from keras.callbacks import EarlyStopping\n",
    "from keras import regularizers\n",
    "\n",
    "#activation for last layr can be tanh or sigmoid. Try both.\n",
    "#kernel_initializer could be also normal or uniform. Try both. \n",
    "# Neural network\n",
    "model = Sequential()\n",
    "model.add(Dense(26, input_dim = 26, activation='relu'))\n",
    "model.add(Dropout(0.4))\n",
    "model.add(Dense(10, activation='relu'))\n",
    "model.add(Dropout(0.4))\n",
    "model.add(Dense(5, activation='relu'))\n",
    "model.add(Dropout(0.4))\n",
    "model.add(Dense(2, activation='sigmoid'))"
   ]
  },
  {
   "cell_type": "code",
   "execution_count": 60,
   "metadata": {},
   "outputs": [
    {
     "name": "stdout",
     "output_type": "stream",
     "text": [
      "Train on 668 samples, validate on 223 samples\n",
      "Epoch 1/500\n",
      "668/668 [==============================] - 0s 433us/step - loss: 0.7127 - accuracy: 0.5561 - val_loss: 0.6660 - val_accuracy: 0.6637\n",
      "Epoch 2/500\n",
      "668/668 [==============================] - 0s 91us/step - loss: 0.7112 - accuracy: 0.5749 - val_loss: 0.6587 - val_accuracy: 0.6502\n",
      "Epoch 3/500\n",
      "668/668 [==============================] - 0s 85us/step - loss: 0.6992 - accuracy: 0.5831 - val_loss: 0.6531 - val_accuracy: 0.6502\n",
      "Epoch 4/500\n",
      "668/668 [==============================] - 0s 75us/step - loss: 0.7139 - accuracy: 0.5741 - val_loss: 0.6502 - val_accuracy: 0.6300\n",
      "Epoch 5/500\n",
      "668/668 [==============================] - 0s 85us/step - loss: 0.6929 - accuracy: 0.5846 - val_loss: 0.6492 - val_accuracy: 0.6368\n",
      "Epoch 6/500\n",
      "668/668 [==============================] - 0s 78us/step - loss: 0.6867 - accuracy: 0.6055 - val_loss: 0.6464 - val_accuracy: 0.6323\n",
      "Epoch 7/500\n",
      "668/668 [==============================] - 0s 82us/step - loss: 0.6885 - accuracy: 0.5928 - val_loss: 0.6433 - val_accuracy: 0.6300\n",
      "Epoch 8/500\n",
      "668/668 [==============================] - 0s 77us/step - loss: 0.6747 - accuracy: 0.6138 - val_loss: 0.6386 - val_accuracy: 0.6300\n",
      "Epoch 9/500\n",
      "668/668 [==============================] - 0s 74us/step - loss: 0.6680 - accuracy: 0.6183 - val_loss: 0.6357 - val_accuracy: 0.6278\n",
      "Epoch 10/500\n",
      "668/668 [==============================] - 0s 77us/step - loss: 0.6647 - accuracy: 0.6175 - val_loss: 0.6324 - val_accuracy: 0.6256\n",
      "Epoch 11/500\n",
      "668/668 [==============================] - 0s 82us/step - loss: 0.6671 - accuracy: 0.6123 - val_loss: 0.6305 - val_accuracy: 0.6256\n",
      "Epoch 12/500\n",
      "668/668 [==============================] - 0s 79us/step - loss: 0.6643 - accuracy: 0.6198 - val_loss: 0.6297 - val_accuracy: 0.6256\n",
      "Epoch 13/500\n",
      "668/668 [==============================] - 0s 77us/step - loss: 0.6588 - accuracy: 0.6078 - val_loss: 0.6270 - val_accuracy: 0.6256\n",
      "Epoch 14/500\n",
      "668/668 [==============================] - 0s 83us/step - loss: 0.6560 - accuracy: 0.6183 - val_loss: 0.6256 - val_accuracy: 0.6256\n",
      "Epoch 15/500\n",
      "668/668 [==============================] - 0s 79us/step - loss: 0.6415 - accuracy: 0.6205 - val_loss: 0.6238 - val_accuracy: 0.6256\n",
      "Epoch 16/500\n",
      "668/668 [==============================] - 0s 75us/step - loss: 0.6579 - accuracy: 0.6183 - val_loss: 0.6233 - val_accuracy: 0.6256\n",
      "Epoch 17/500\n",
      "668/668 [==============================] - 0s 78us/step - loss: 0.6319 - accuracy: 0.6325 - val_loss: 0.6191 - val_accuracy: 0.6256\n",
      "Epoch 18/500\n",
      "668/668 [==============================] - 0s 83us/step - loss: 0.6472 - accuracy: 0.6437 - val_loss: 0.6167 - val_accuracy: 0.6323\n",
      "Epoch 19/500\n",
      "668/668 [==============================] - 0s 88us/step - loss: 0.6494 - accuracy: 0.6287 - val_loss: 0.6146 - val_accuracy: 0.6390\n",
      "Epoch 20/500\n",
      "668/668 [==============================] - 0s 95us/step - loss: 0.6488 - accuracy: 0.6287 - val_loss: 0.6135 - val_accuracy: 0.6525\n",
      "Epoch 21/500\n",
      "668/668 [==============================] - 0s 86us/step - loss: 0.6445 - accuracy: 0.6347 - val_loss: 0.6125 - val_accuracy: 0.6547\n",
      "Epoch 22/500\n",
      "668/668 [==============================] - 0s 79us/step - loss: 0.6264 - accuracy: 0.6295 - val_loss: 0.6091 - val_accuracy: 0.6570\n",
      "Epoch 23/500\n",
      "668/668 [==============================] - 0s 84us/step - loss: 0.6376 - accuracy: 0.6355 - val_loss: 0.6052 - val_accuracy: 0.6659\n",
      "Epoch 24/500\n",
      "668/668 [==============================] - 0s 82us/step - loss: 0.6440 - accuracy: 0.6617 - val_loss: 0.6016 - val_accuracy: 0.6704\n",
      "Epoch 25/500\n",
      "668/668 [==============================] - 0s 79us/step - loss: 0.6429 - accuracy: 0.6467 - val_loss: 0.6001 - val_accuracy: 0.6794\n",
      "Epoch 26/500\n",
      "668/668 [==============================] - 0s 85us/step - loss: 0.6384 - accuracy: 0.6430 - val_loss: 0.5967 - val_accuracy: 0.6749\n",
      "Epoch 27/500\n",
      "668/668 [==============================] - 0s 80us/step - loss: 0.6315 - accuracy: 0.6392 - val_loss: 0.5951 - val_accuracy: 0.6726\n",
      "Epoch 28/500\n",
      "668/668 [==============================] - 0s 85us/step - loss: 0.6338 - accuracy: 0.6602 - val_loss: 0.5907 - val_accuracy: 0.6861\n",
      "Epoch 29/500\n",
      "668/668 [==============================] - 0s 78us/step - loss: 0.6288 - accuracy: 0.6460 - val_loss: 0.5880 - val_accuracy: 0.6861\n",
      "Epoch 30/500\n",
      "668/668 [==============================] - 0s 83us/step - loss: 0.6396 - accuracy: 0.6602 - val_loss: 0.5864 - val_accuracy: 0.6906\n",
      "Epoch 31/500\n",
      "668/668 [==============================] - 0s 84us/step - loss: 0.6186 - accuracy: 0.6632 - val_loss: 0.5807 - val_accuracy: 0.7040\n",
      "Epoch 32/500\n",
      "668/668 [==============================] - 0s 85us/step - loss: 0.6139 - accuracy: 0.6557 - val_loss: 0.5750 - val_accuracy: 0.7130\n",
      "Epoch 33/500\n",
      "668/668 [==============================] - 0s 86us/step - loss: 0.6210 - accuracy: 0.6751 - val_loss: 0.5704 - val_accuracy: 0.7175\n",
      "Epoch 34/500\n",
      "668/668 [==============================] - 0s 80us/step - loss: 0.6141 - accuracy: 0.6617 - val_loss: 0.5665 - val_accuracy: 0.7197\n",
      "Epoch 35/500\n",
      "668/668 [==============================] - 0s 88us/step - loss: 0.5945 - accuracy: 0.6744 - val_loss: 0.5594 - val_accuracy: 0.7265\n",
      "Epoch 36/500\n",
      "668/668 [==============================] - 0s 86us/step - loss: 0.6232 - accuracy: 0.6751 - val_loss: 0.5581 - val_accuracy: 0.7309\n",
      "Epoch 37/500\n",
      "668/668 [==============================] - 0s 94us/step - loss: 0.5892 - accuracy: 0.6939 - val_loss: 0.5511 - val_accuracy: 0.7534\n",
      "Epoch 38/500\n",
      "668/668 [==============================] - 0s 115us/step - loss: 0.5916 - accuracy: 0.6826 - val_loss: 0.5459 - val_accuracy: 0.7466\n",
      "Epoch 39/500\n",
      "668/668 [==============================] - 0s 114us/step - loss: 0.5873 - accuracy: 0.6834 - val_loss: 0.5383 - val_accuracy: 0.7668\n",
      "Epoch 40/500\n",
      "668/668 [==============================] - 0s 104us/step - loss: 0.6180 - accuracy: 0.6744 - val_loss: 0.5372 - val_accuracy: 0.7668\n",
      "Epoch 41/500\n",
      "668/668 [==============================] - 0s 88us/step - loss: 0.6138 - accuracy: 0.6751 - val_loss: 0.5373 - val_accuracy: 0.7713\n",
      "Epoch 42/500\n",
      "668/668 [==============================] - 0s 88us/step - loss: 0.5978 - accuracy: 0.6766 - val_loss: 0.5352 - val_accuracy: 0.7668\n",
      "Epoch 43/500\n",
      "668/668 [==============================] - 0s 91us/step - loss: 0.5892 - accuracy: 0.6774 - val_loss: 0.5294 - val_accuracy: 0.7691\n",
      "Epoch 44/500\n",
      "668/668 [==============================] - 0s 93us/step - loss: 0.6024 - accuracy: 0.6834 - val_loss: 0.5255 - val_accuracy: 0.7780\n",
      "Epoch 45/500\n",
      "668/668 [==============================] - 0s 97us/step - loss: 0.6006 - accuracy: 0.7058 - val_loss: 0.5220 - val_accuracy: 0.7758\n",
      "Epoch 46/500\n",
      "668/668 [==============================] - 0s 92us/step - loss: 0.5810 - accuracy: 0.7111 - val_loss: 0.5158 - val_accuracy: 0.7780\n",
      "Epoch 47/500\n",
      "668/668 [==============================] - 0s 82us/step - loss: 0.5818 - accuracy: 0.7028 - val_loss: 0.5119 - val_accuracy: 0.7870\n",
      "Epoch 48/500\n",
      "668/668 [==============================] - 0s 76us/step - loss: 0.5967 - accuracy: 0.6946 - val_loss: 0.5101 - val_accuracy: 0.7848\n",
      "Epoch 49/500\n",
      "668/668 [==============================] - 0s 79us/step - loss: 0.6118 - accuracy: 0.6804 - val_loss: 0.5087 - val_accuracy: 0.7870\n",
      "Epoch 50/500\n",
      "668/668 [==============================] - 0s 81us/step - loss: 0.5716 - accuracy: 0.7126 - val_loss: 0.5074 - val_accuracy: 0.7915\n",
      "Epoch 51/500\n",
      "668/668 [==============================] - 0s 89us/step - loss: 0.5924 - accuracy: 0.6976 - val_loss: 0.5045 - val_accuracy: 0.7892\n",
      "Epoch 52/500\n",
      "668/668 [==============================] - 0s 81us/step - loss: 0.5845 - accuracy: 0.7051 - val_loss: 0.4988 - val_accuracy: 0.7960\n",
      "Epoch 53/500\n",
      "668/668 [==============================] - 0s 79us/step - loss: 0.5742 - accuracy: 0.6976 - val_loss: 0.4953 - val_accuracy: 0.7982\n",
      "Epoch 54/500\n",
      "668/668 [==============================] - 0s 92us/step - loss: 0.5771 - accuracy: 0.7335 - val_loss: 0.4910 - val_accuracy: 0.7982\n",
      "Epoch 55/500\n",
      "668/668 [==============================] - 0s 93us/step - loss: 0.5834 - accuracy: 0.7231 - val_loss: 0.4871 - val_accuracy: 0.8004\n",
      "Epoch 56/500\n",
      "668/668 [==============================] - 0s 90us/step - loss: 0.5623 - accuracy: 0.7253 - val_loss: 0.4855 - val_accuracy: 0.8004\n",
      "Epoch 57/500\n"
     ]
    },
    {
     "name": "stdout",
     "output_type": "stream",
     "text": [
      "668/668 [==============================] - 0s 87us/step - loss: 0.5937 - accuracy: 0.7133 - val_loss: 0.4852 - val_accuracy: 0.7960\n",
      "Epoch 58/500\n",
      "668/668 [==============================] - 0s 84us/step - loss: 0.5713 - accuracy: 0.7148 - val_loss: 0.4832 - val_accuracy: 0.8004\n",
      "Epoch 59/500\n",
      "668/668 [==============================] - 0s 82us/step - loss: 0.5847 - accuracy: 0.7163 - val_loss: 0.4823 - val_accuracy: 0.8027\n",
      "Epoch 60/500\n",
      "668/668 [==============================] - 0s 81us/step - loss: 0.5646 - accuracy: 0.7208 - val_loss: 0.4784 - val_accuracy: 0.8027\n",
      "Epoch 61/500\n",
      "668/668 [==============================] - 0s 81us/step - loss: 0.5860 - accuracy: 0.7096 - val_loss: 0.4790 - val_accuracy: 0.8049\n",
      "Epoch 62/500\n",
      "668/668 [==============================] - 0s 79us/step - loss: 0.5612 - accuracy: 0.7253 - val_loss: 0.4751 - val_accuracy: 0.8072\n",
      "Epoch 63/500\n",
      "668/668 [==============================] - 0s 76us/step - loss: 0.5680 - accuracy: 0.7208 - val_loss: 0.4709 - val_accuracy: 0.8049\n",
      "Epoch 64/500\n",
      "668/668 [==============================] - 0s 90us/step - loss: 0.5596 - accuracy: 0.7193 - val_loss: 0.4706 - val_accuracy: 0.8072\n",
      "Epoch 65/500\n",
      "668/668 [==============================] - 0s 105us/step - loss: 0.5590 - accuracy: 0.7141 - val_loss: 0.4686 - val_accuracy: 0.8117\n",
      "Epoch 66/500\n",
      "668/668 [==============================] - 0s 106us/step - loss: 0.5719 - accuracy: 0.7298 - val_loss: 0.4677 - val_accuracy: 0.8094\n",
      "Epoch 67/500\n",
      "668/668 [==============================] - 0s 100us/step - loss: 0.5543 - accuracy: 0.7365 - val_loss: 0.4649 - val_accuracy: 0.8117\n",
      "Epoch 68/500\n",
      "668/668 [==============================] - 0s 84us/step - loss: 0.5469 - accuracy: 0.7193 - val_loss: 0.4608 - val_accuracy: 0.8094\n",
      "Epoch 69/500\n",
      "668/668 [==============================] - 0s 85us/step - loss: 0.5547 - accuracy: 0.7283 - val_loss: 0.4581 - val_accuracy: 0.8117\n",
      "Epoch 70/500\n",
      "668/668 [==============================] - 0s 85us/step - loss: 0.5584 - accuracy: 0.7365 - val_loss: 0.4551 - val_accuracy: 0.8117\n",
      "Epoch 71/500\n",
      "668/668 [==============================] - 0s 74us/step - loss: 0.5514 - accuracy: 0.7373 - val_loss: 0.4541 - val_accuracy: 0.8117\n",
      "Epoch 72/500\n",
      "668/668 [==============================] - 0s 80us/step - loss: 0.5363 - accuracy: 0.7537 - val_loss: 0.4501 - val_accuracy: 0.8117\n",
      "Epoch 73/500\n",
      "668/668 [==============================] - 0s 104us/step - loss: 0.5736 - accuracy: 0.7298 - val_loss: 0.4497 - val_accuracy: 0.8184\n",
      "Epoch 74/500\n",
      "668/668 [==============================] - 0s 103us/step - loss: 0.5768 - accuracy: 0.7410 - val_loss: 0.4512 - val_accuracy: 0.8184\n",
      "Epoch 75/500\n",
      "668/668 [==============================] - 0s 91us/step - loss: 0.5460 - accuracy: 0.7365 - val_loss: 0.4500 - val_accuracy: 0.8206\n",
      "Epoch 76/500\n",
      "668/668 [==============================] - 0s 91us/step - loss: 0.5432 - accuracy: 0.7335 - val_loss: 0.4489 - val_accuracy: 0.8184\n",
      "Epoch 77/500\n",
      "668/668 [==============================] - 0s 87us/step - loss: 0.5628 - accuracy: 0.7253 - val_loss: 0.4503 - val_accuracy: 0.8161\n",
      "Epoch 78/500\n",
      "668/668 [==============================] - 0s 83us/step - loss: 0.5500 - accuracy: 0.7365 - val_loss: 0.4496 - val_accuracy: 0.8161\n",
      "Epoch 79/500\n",
      "668/668 [==============================] - 0s 78us/step - loss: 0.5469 - accuracy: 0.7425 - val_loss: 0.4487 - val_accuracy: 0.8206\n",
      "Epoch 80/500\n",
      "668/668 [==============================] - 0s 84us/step - loss: 0.5318 - accuracy: 0.7418 - val_loss: 0.4451 - val_accuracy: 0.8206\n",
      "Epoch 81/500\n",
      "668/668 [==============================] - 0s 85us/step - loss: 0.5192 - accuracy: 0.7687 - val_loss: 0.4424 - val_accuracy: 0.8229\n",
      "Epoch 82/500\n",
      "668/668 [==============================] - 0s 77us/step - loss: 0.5618 - accuracy: 0.7253 - val_loss: 0.4435 - val_accuracy: 0.8229\n",
      "Epoch 83/500\n",
      "668/668 [==============================] - 0s 79us/step - loss: 0.5456 - accuracy: 0.7470 - val_loss: 0.4444 - val_accuracy: 0.8206\n",
      "Epoch 84/500\n",
      "668/668 [==============================] - 0s 77us/step - loss: 0.5420 - accuracy: 0.7485 - val_loss: 0.4437 - val_accuracy: 0.8206\n",
      "Epoch 85/500\n",
      "668/668 [==============================] - 0s 79us/step - loss: 0.5495 - accuracy: 0.7403 - val_loss: 0.4420 - val_accuracy: 0.8229\n",
      "Epoch 86/500\n",
      "668/668 [==============================] - 0s 90us/step - loss: 0.5618 - accuracy: 0.7350 - val_loss: 0.4425 - val_accuracy: 0.8229\n",
      "Epoch 87/500\n",
      "668/668 [==============================] - 0s 101us/step - loss: 0.5374 - accuracy: 0.7470 - val_loss: 0.4416 - val_accuracy: 0.8206\n",
      "Epoch 88/500\n",
      "668/668 [==============================] - 0s 90us/step - loss: 0.5517 - accuracy: 0.7448 - val_loss: 0.4408 - val_accuracy: 0.8229\n",
      "Epoch 89/500\n",
      "668/668 [==============================] - 0s 87us/step - loss: 0.5404 - accuracy: 0.7463 - val_loss: 0.4410 - val_accuracy: 0.8229\n",
      "Epoch 90/500\n",
      "668/668 [==============================] - 0s 82us/step - loss: 0.5392 - accuracy: 0.7328 - val_loss: 0.4397 - val_accuracy: 0.8251\n",
      "Epoch 91/500\n",
      "668/668 [==============================] - 0s 87us/step - loss: 0.5330 - accuracy: 0.7567 - val_loss: 0.4386 - val_accuracy: 0.8274\n",
      "Epoch 92/500\n",
      "668/668 [==============================] - 0s 82us/step - loss: 0.5295 - accuracy: 0.7582 - val_loss: 0.4393 - val_accuracy: 0.8229\n",
      "Epoch 93/500\n",
      "668/668 [==============================] - 0s 76us/step - loss: 0.5297 - accuracy: 0.7455 - val_loss: 0.4381 - val_accuracy: 0.8229\n",
      "Epoch 94/500\n",
      "668/668 [==============================] - 0s 76us/step - loss: 0.5529 - accuracy: 0.7350 - val_loss: 0.4384 - val_accuracy: 0.8274\n",
      "Epoch 95/500\n",
      "668/668 [==============================] - 0s 79us/step - loss: 0.5562 - accuracy: 0.7350 - val_loss: 0.4388 - val_accuracy: 0.8274\n",
      "Epoch 96/500\n",
      "668/668 [==============================] - 0s 78us/step - loss: 0.5534 - accuracy: 0.7522 - val_loss: 0.4392 - val_accuracy: 0.8274\n",
      "Epoch 97/500\n",
      "668/668 [==============================] - 0s 75us/step - loss: 0.5208 - accuracy: 0.7575 - val_loss: 0.4385 - val_accuracy: 0.8229\n",
      "Epoch 98/500\n",
      "668/668 [==============================] - 0s 75us/step - loss: 0.5359 - accuracy: 0.7358 - val_loss: 0.4376 - val_accuracy: 0.8274\n",
      "Epoch 99/500\n",
      "668/668 [==============================] - 0s 81us/step - loss: 0.5418 - accuracy: 0.7448 - val_loss: 0.4382 - val_accuracy: 0.8274\n",
      "Epoch 100/500\n",
      "668/668 [==============================] - 0s 76us/step - loss: 0.5242 - accuracy: 0.7552 - val_loss: 0.4373 - val_accuracy: 0.8274\n",
      "Epoch 101/500\n",
      "668/668 [==============================] - 0s 76us/step - loss: 0.5237 - accuracy: 0.7597 - val_loss: 0.4366 - val_accuracy: 0.8274\n",
      "Epoch 102/500\n",
      "668/668 [==============================] - 0s 82us/step - loss: 0.5305 - accuracy: 0.7575 - val_loss: 0.4337 - val_accuracy: 0.8296\n",
      "Epoch 103/500\n",
      "668/668 [==============================] - 0s 76us/step - loss: 0.5338 - accuracy: 0.7560 - val_loss: 0.4358 - val_accuracy: 0.8274\n",
      "Epoch 104/500\n",
      "668/668 [==============================] - 0s 83us/step - loss: 0.5406 - accuracy: 0.7612 - val_loss: 0.4379 - val_accuracy: 0.8274\n",
      "Epoch 105/500\n",
      "668/668 [==============================] - 0s 76us/step - loss: 0.5279 - accuracy: 0.7552 - val_loss: 0.4359 - val_accuracy: 0.8274\n",
      "Epoch 106/500\n",
      "668/668 [==============================] - 0s 83us/step - loss: 0.5327 - accuracy: 0.7470 - val_loss: 0.4323 - val_accuracy: 0.8296\n",
      "Epoch 107/500\n",
      "668/668 [==============================] - 0s 78us/step - loss: 0.5682 - accuracy: 0.7605 - val_loss: 0.4341 - val_accuracy: 0.8274\n",
      "Epoch 108/500\n",
      "668/668 [==============================] - 0s 84us/step - loss: 0.5306 - accuracy: 0.7522 - val_loss: 0.4342 - val_accuracy: 0.8274\n",
      "Epoch 109/500\n",
      "668/668 [==============================] - 0s 76us/step - loss: 0.5354 - accuracy: 0.7537 - val_loss: 0.4347 - val_accuracy: 0.8296\n",
      "Epoch 110/500\n",
      "668/668 [==============================] - 0s 80us/step - loss: 0.5212 - accuracy: 0.7635 - val_loss: 0.4325 - val_accuracy: 0.8318\n",
      "Epoch 111/500\n",
      "668/668 [==============================] - 0s 75us/step - loss: 0.5334 - accuracy: 0.7537 - val_loss: 0.4312 - val_accuracy: 0.8318\n",
      "Epoch 112/500\n",
      "668/668 [==============================] - 0s 82us/step - loss: 0.5180 - accuracy: 0.7635 - val_loss: 0.4306 - val_accuracy: 0.8318\n",
      "Epoch 113/500\n"
     ]
    },
    {
     "name": "stdout",
     "output_type": "stream",
     "text": [
      "668/668 [==============================] - 0s 76us/step - loss: 0.5312 - accuracy: 0.7627 - val_loss: 0.4314 - val_accuracy: 0.8318\n",
      "Epoch 114/500\n",
      "668/668 [==============================] - 0s 81us/step - loss: 0.5468 - accuracy: 0.7493 - val_loss: 0.4317 - val_accuracy: 0.8318\n",
      "Epoch 115/500\n",
      "668/668 [==============================] - 0s 76us/step - loss: 0.5448 - accuracy: 0.7635 - val_loss: 0.4333 - val_accuracy: 0.8296\n",
      "Epoch 116/500\n",
      "668/668 [==============================] - 0s 80us/step - loss: 0.5336 - accuracy: 0.7590 - val_loss: 0.4334 - val_accuracy: 0.8318\n",
      "Epoch 117/500\n",
      "668/668 [==============================] - 0s 81us/step - loss: 0.5332 - accuracy: 0.7470 - val_loss: 0.4324 - val_accuracy: 0.8318\n",
      "Epoch 118/500\n",
      "668/668 [==============================] - 0s 78us/step - loss: 0.5256 - accuracy: 0.7657 - val_loss: 0.4330 - val_accuracy: 0.8318\n",
      "Epoch 119/500\n",
      "668/668 [==============================] - 0s 79us/step - loss: 0.5398 - accuracy: 0.7545 - val_loss: 0.4340 - val_accuracy: 0.8318\n",
      "Epoch 120/500\n",
      "668/668 [==============================] - 0s 78us/step - loss: 0.5109 - accuracy: 0.7680 - val_loss: 0.4336 - val_accuracy: 0.8318\n",
      "Epoch 121/500\n",
      "668/668 [==============================] - 0s 80us/step - loss: 0.5131 - accuracy: 0.7702 - val_loss: 0.4305 - val_accuracy: 0.8318\n",
      "Epoch 122/500\n",
      "668/668 [==============================] - 0s 79us/step - loss: 0.5155 - accuracy: 0.7725 - val_loss: 0.4300 - val_accuracy: 0.8274\n",
      "Epoch 123/500\n",
      "668/668 [==============================] - 0s 78us/step - loss: 0.5133 - accuracy: 0.7657 - val_loss: 0.4284 - val_accuracy: 0.8274\n",
      "Epoch 124/500\n",
      "668/668 [==============================] - 0s 72us/step - loss: 0.5172 - accuracy: 0.7777 - val_loss: 0.4285 - val_accuracy: 0.8296\n",
      "Epoch 125/500\n",
      "668/668 [==============================] - 0s 77us/step - loss: 0.5079 - accuracy: 0.7740 - val_loss: 0.4275 - val_accuracy: 0.8296\n",
      "Epoch 126/500\n",
      "668/668 [==============================] - 0s 74us/step - loss: 0.5292 - accuracy: 0.7440 - val_loss: 0.4249 - val_accuracy: 0.8318\n",
      "Epoch 127/500\n",
      "668/668 [==============================] - 0s 79us/step - loss: 0.5332 - accuracy: 0.7582 - val_loss: 0.4242 - val_accuracy: 0.8318\n",
      "Epoch 128/500\n",
      "668/668 [==============================] - 0s 81us/step - loss: 0.5422 - accuracy: 0.7515 - val_loss: 0.4234 - val_accuracy: 0.8318\n",
      "Epoch 129/500\n",
      "668/668 [==============================] - 0s 76us/step - loss: 0.5144 - accuracy: 0.7620 - val_loss: 0.4228 - val_accuracy: 0.8318\n",
      "Epoch 130/500\n",
      "668/668 [==============================] - 0s 80us/step - loss: 0.5454 - accuracy: 0.7463 - val_loss: 0.4248 - val_accuracy: 0.8318\n",
      "Epoch 131/500\n",
      "668/668 [==============================] - 0s 79us/step - loss: 0.5129 - accuracy: 0.7522 - val_loss: 0.4245 - val_accuracy: 0.8318\n",
      "Epoch 132/500\n",
      "668/668 [==============================] - 0s 82us/step - loss: 0.5170 - accuracy: 0.7642 - val_loss: 0.4233 - val_accuracy: 0.8318\n",
      "Epoch 133/500\n",
      "668/668 [==============================] - 0s 79us/step - loss: 0.5244 - accuracy: 0.7777 - val_loss: 0.4239 - val_accuracy: 0.8318\n",
      "Epoch 134/500\n",
      "668/668 [==============================] - 0s 81us/step - loss: 0.5075 - accuracy: 0.7642 - val_loss: 0.4233 - val_accuracy: 0.8341\n",
      "Epoch 135/500\n",
      "668/668 [==============================] - 0s 78us/step - loss: 0.5037 - accuracy: 0.7702 - val_loss: 0.4227 - val_accuracy: 0.8318\n",
      "Epoch 136/500\n",
      "668/668 [==============================] - 0s 76us/step - loss: 0.5213 - accuracy: 0.7762 - val_loss: 0.4227 - val_accuracy: 0.8296\n",
      "Epoch 137/500\n",
      "668/668 [==============================] - 0s 76us/step - loss: 0.5346 - accuracy: 0.7433 - val_loss: 0.4238 - val_accuracy: 0.8296\n",
      "Epoch 138/500\n",
      "668/668 [==============================] - 0s 80us/step - loss: 0.5217 - accuracy: 0.7717 - val_loss: 0.4247 - val_accuracy: 0.8341\n",
      "Epoch 139/500\n",
      "668/668 [==============================] - 0s 74us/step - loss: 0.5310 - accuracy: 0.7657 - val_loss: 0.4249 - val_accuracy: 0.8318\n",
      "Epoch 140/500\n",
      "668/668 [==============================] - 0s 80us/step - loss: 0.4912 - accuracy: 0.7710 - val_loss: 0.4241 - val_accuracy: 0.8296\n",
      "Epoch 141/500\n",
      "668/668 [==============================] - 0s 79us/step - loss: 0.5063 - accuracy: 0.7717 - val_loss: 0.4223 - val_accuracy: 0.8296\n",
      "Epoch 142/500\n",
      "668/668 [==============================] - 0s 78us/step - loss: 0.5140 - accuracy: 0.7522 - val_loss: 0.4210 - val_accuracy: 0.8341\n",
      "Epoch 143/500\n",
      "668/668 [==============================] - 0s 74us/step - loss: 0.5005 - accuracy: 0.7814 - val_loss: 0.4194 - val_accuracy: 0.8296\n",
      "Epoch 144/500\n",
      "668/668 [==============================] - 0s 81us/step - loss: 0.5390 - accuracy: 0.7575 - val_loss: 0.4200 - val_accuracy: 0.8296\n",
      "Epoch 145/500\n",
      "668/668 [==============================] - 0s 99us/step - loss: 0.5237 - accuracy: 0.7687 - val_loss: 0.4212 - val_accuracy: 0.8318\n",
      "Epoch 146/500\n",
      "668/668 [==============================] - 0s 98us/step - loss: 0.5075 - accuracy: 0.7567 - val_loss: 0.4212 - val_accuracy: 0.8341\n",
      "Epoch 147/500\n",
      "668/668 [==============================] - 0s 104us/step - loss: 0.5213 - accuracy: 0.7665 - val_loss: 0.4222 - val_accuracy: 0.8341\n",
      "Epoch 148/500\n",
      "668/668 [==============================] - 0s 95us/step - loss: 0.5351 - accuracy: 0.7717 - val_loss: 0.4228 - val_accuracy: 0.8341\n",
      "Epoch 149/500\n",
      "668/668 [==============================] - 0s 95us/step - loss: 0.5075 - accuracy: 0.7710 - val_loss: 0.4210 - val_accuracy: 0.8341\n",
      "Epoch 150/500\n",
      "668/668 [==============================] - 0s 86us/step - loss: 0.5070 - accuracy: 0.7740 - val_loss: 0.4201 - val_accuracy: 0.8296\n",
      "Epoch 151/500\n",
      "668/668 [==============================] - 0s 91us/step - loss: 0.4904 - accuracy: 0.7717 - val_loss: 0.4185 - val_accuracy: 0.8296\n",
      "Epoch 152/500\n",
      "668/668 [==============================] - 0s 84us/step - loss: 0.5152 - accuracy: 0.7754 - val_loss: 0.4185 - val_accuracy: 0.8318\n",
      "Epoch 153/500\n",
      "668/668 [==============================] - 0s 83us/step - loss: 0.4972 - accuracy: 0.7829 - val_loss: 0.4183 - val_accuracy: 0.8363\n",
      "Epoch 154/500\n",
      "668/668 [==============================] - 0s 84us/step - loss: 0.4958 - accuracy: 0.7687 - val_loss: 0.4182 - val_accuracy: 0.8363\n",
      "Epoch 155/500\n",
      "668/668 [==============================] - 0s 79us/step - loss: 0.5030 - accuracy: 0.7934 - val_loss: 0.4175 - val_accuracy: 0.8296\n",
      "Epoch 156/500\n",
      "668/668 [==============================] - 0s 80us/step - loss: 0.5211 - accuracy: 0.7620 - val_loss: 0.4173 - val_accuracy: 0.8296\n",
      "Epoch 157/500\n",
      "668/668 [==============================] - 0s 94us/step - loss: 0.4810 - accuracy: 0.7874 - val_loss: 0.4164 - val_accuracy: 0.8274\n",
      "Epoch 158/500\n",
      "668/668 [==============================] - 0s 98us/step - loss: 0.5078 - accuracy: 0.7777 - val_loss: 0.4175 - val_accuracy: 0.8274\n",
      "Epoch 159/500\n",
      "668/668 [==============================] - 0s 102us/step - loss: 0.5023 - accuracy: 0.7725 - val_loss: 0.4177 - val_accuracy: 0.8274\n",
      "Epoch 160/500\n",
      "668/668 [==============================] - 0s 92us/step - loss: 0.5065 - accuracy: 0.7717 - val_loss: 0.4164 - val_accuracy: 0.8274\n",
      "Epoch 161/500\n",
      "668/668 [==============================] - 0s 83us/step - loss: 0.4990 - accuracy: 0.7642 - val_loss: 0.4146 - val_accuracy: 0.8296\n",
      "Epoch 162/500\n",
      "668/668 [==============================] - 0s 80us/step - loss: 0.4935 - accuracy: 0.7687 - val_loss: 0.4142 - val_accuracy: 0.8296\n",
      "Epoch 163/500\n",
      "668/668 [==============================] - 0s 75us/step - loss: 0.5050 - accuracy: 0.7882 - val_loss: 0.4157 - val_accuracy: 0.8296\n",
      "Epoch 164/500\n",
      "668/668 [==============================] - 0s 78us/step - loss: 0.4968 - accuracy: 0.7912 - val_loss: 0.4153 - val_accuracy: 0.8296\n",
      "Epoch 165/500\n",
      "668/668 [==============================] - 0s 78us/step - loss: 0.5012 - accuracy: 0.7612 - val_loss: 0.4146 - val_accuracy: 0.8296\n",
      "Epoch 166/500\n",
      "668/668 [==============================] - 0s 80us/step - loss: 0.5097 - accuracy: 0.7777 - val_loss: 0.4142 - val_accuracy: 0.8296\n",
      "Epoch 167/500\n",
      "668/668 [==============================] - 0s 74us/step - loss: 0.5283 - accuracy: 0.7687 - val_loss: 0.4140 - val_accuracy: 0.8296\n",
      "Epoch 168/500\n",
      "668/668 [==============================] - 0s 71us/step - loss: 0.5078 - accuracy: 0.7642 - val_loss: 0.4144 - val_accuracy: 0.8296\n",
      "Epoch 169/500\n"
     ]
    },
    {
     "name": "stdout",
     "output_type": "stream",
     "text": [
      "668/668 [==============================] - 0s 79us/step - loss: 0.5147 - accuracy: 0.7717 - val_loss: 0.4141 - val_accuracy: 0.8251\n",
      "Epoch 170/500\n",
      "668/668 [==============================] - 0s 81us/step - loss: 0.5043 - accuracy: 0.7717 - val_loss: 0.4143 - val_accuracy: 0.8274\n",
      "Epoch 171/500\n",
      "668/668 [==============================] - 0s 79us/step - loss: 0.5072 - accuracy: 0.7650 - val_loss: 0.4152 - val_accuracy: 0.8296\n",
      "Epoch 172/500\n",
      "668/668 [==============================] - 0s 82us/step - loss: 0.5152 - accuracy: 0.7657 - val_loss: 0.4148 - val_accuracy: 0.8318\n",
      "Epoch 173/500\n",
      "668/668 [==============================] - 0s 80us/step - loss: 0.4998 - accuracy: 0.7859 - val_loss: 0.4142 - val_accuracy: 0.8318\n",
      "Epoch 174/500\n",
      "668/668 [==============================] - 0s 80us/step - loss: 0.4922 - accuracy: 0.7687 - val_loss: 0.4138 - val_accuracy: 0.8296\n",
      "Epoch 175/500\n",
      "668/668 [==============================] - 0s 79us/step - loss: 0.4866 - accuracy: 0.7919 - val_loss: 0.4134 - val_accuracy: 0.8318\n",
      "Epoch 176/500\n",
      "668/668 [==============================] - 0s 76us/step - loss: 0.4905 - accuracy: 0.7912 - val_loss: 0.4137 - val_accuracy: 0.8274\n",
      "Epoch 177/500\n",
      "668/668 [==============================] - 0s 76us/step - loss: 0.4865 - accuracy: 0.7837 - val_loss: 0.4131 - val_accuracy: 0.8318\n",
      "Epoch 178/500\n",
      "668/668 [==============================] - 0s 79us/step - loss: 0.5332 - accuracy: 0.7792 - val_loss: 0.4130 - val_accuracy: 0.8341\n",
      "Epoch 179/500\n",
      "668/668 [==============================] - 0s 80us/step - loss: 0.4890 - accuracy: 0.7882 - val_loss: 0.4130 - val_accuracy: 0.8318\n",
      "Epoch 180/500\n",
      "668/668 [==============================] - 0s 79us/step - loss: 0.5116 - accuracy: 0.7717 - val_loss: 0.4143 - val_accuracy: 0.8363\n",
      "Epoch 181/500\n",
      "668/668 [==============================] - 0s 79us/step - loss: 0.4953 - accuracy: 0.7867 - val_loss: 0.4135 - val_accuracy: 0.8229\n",
      "Epoch 182/500\n",
      "668/668 [==============================] - 0s 78us/step - loss: 0.4998 - accuracy: 0.7710 - val_loss: 0.4128 - val_accuracy: 0.8296\n",
      "Epoch 183/500\n",
      "668/668 [==============================] - 0s 81us/step - loss: 0.5104 - accuracy: 0.7672 - val_loss: 0.4121 - val_accuracy: 0.8341\n",
      "Epoch 184/500\n",
      "668/668 [==============================] - 0s 80us/step - loss: 0.5006 - accuracy: 0.7769 - val_loss: 0.4116 - val_accuracy: 0.8318\n",
      "Epoch 185/500\n",
      "668/668 [==============================] - 0s 75us/step - loss: 0.4974 - accuracy: 0.7717 - val_loss: 0.4108 - val_accuracy: 0.8296\n",
      "Epoch 186/500\n",
      "668/668 [==============================] - 0s 76us/step - loss: 0.5106 - accuracy: 0.7732 - val_loss: 0.4102 - val_accuracy: 0.8296\n",
      "Epoch 187/500\n",
      "668/668 [==============================] - 0s 77us/step - loss: 0.5126 - accuracy: 0.7829 - val_loss: 0.4106 - val_accuracy: 0.8296\n",
      "Epoch 188/500\n",
      "668/668 [==============================] - 0s 80us/step - loss: 0.4991 - accuracy: 0.7545 - val_loss: 0.4100 - val_accuracy: 0.8296\n",
      "Epoch 189/500\n",
      "668/668 [==============================] - 0s 80us/step - loss: 0.5067 - accuracy: 0.7762 - val_loss: 0.4091 - val_accuracy: 0.8296\n",
      "Epoch 190/500\n",
      "668/668 [==============================] - 0s 81us/step - loss: 0.4924 - accuracy: 0.7889 - val_loss: 0.4104 - val_accuracy: 0.8296\n",
      "Epoch 191/500\n",
      "668/668 [==============================] - 0s 85us/step - loss: 0.5272 - accuracy: 0.7792 - val_loss: 0.4121 - val_accuracy: 0.8296\n",
      "Epoch 192/500\n",
      "668/668 [==============================] - 0s 84us/step - loss: 0.5009 - accuracy: 0.7822 - val_loss: 0.4126 - val_accuracy: 0.8296\n",
      "Epoch 193/500\n",
      "668/668 [==============================] - 0s 97us/step - loss: 0.4687 - accuracy: 0.7927 - val_loss: 0.4116 - val_accuracy: 0.8296\n",
      "Epoch 194/500\n",
      "668/668 [==============================] - 0s 87us/step - loss: 0.5191 - accuracy: 0.7732 - val_loss: 0.4121 - val_accuracy: 0.8296\n",
      "Epoch 195/500\n",
      "668/668 [==============================] - 0s 83us/step - loss: 0.5178 - accuracy: 0.7874 - val_loss: 0.4116 - val_accuracy: 0.8318\n",
      "Epoch 196/500\n",
      "668/668 [==============================] - 0s 87us/step - loss: 0.4950 - accuracy: 0.7852 - val_loss: 0.4121 - val_accuracy: 0.8296\n",
      "Epoch 197/500\n",
      "668/668 [==============================] - 0s 95us/step - loss: 0.5018 - accuracy: 0.7807 - val_loss: 0.4112 - val_accuracy: 0.8296\n",
      "Epoch 198/500\n",
      "668/668 [==============================] - 0s 100us/step - loss: 0.5063 - accuracy: 0.7814 - val_loss: 0.4113 - val_accuracy: 0.8296\n",
      "Epoch 199/500\n",
      "668/668 [==============================] - 0s 104us/step - loss: 0.5007 - accuracy: 0.7837 - val_loss: 0.4104 - val_accuracy: 0.8296\n",
      "Epoch 200/500\n",
      "668/668 [==============================] - 0s 89us/step - loss: 0.5218 - accuracy: 0.7867 - val_loss: 0.4107 - val_accuracy: 0.8318\n",
      "Epoch 201/500\n",
      "668/668 [==============================] - 0s 84us/step - loss: 0.4976 - accuracy: 0.7837 - val_loss: 0.4115 - val_accuracy: 0.8341\n",
      "Epoch 202/500\n",
      "668/668 [==============================] - 0s 90us/step - loss: 0.4842 - accuracy: 0.7882 - val_loss: 0.4109 - val_accuracy: 0.8318\n",
      "Epoch 203/500\n",
      "668/668 [==============================] - 0s 79us/step - loss: 0.5417 - accuracy: 0.7680 - val_loss: 0.4116 - val_accuracy: 0.8296\n",
      "Epoch 204/500\n",
      "668/668 [==============================] - 0s 81us/step - loss: 0.5047 - accuracy: 0.7859 - val_loss: 0.4116 - val_accuracy: 0.8341\n",
      "Epoch 205/500\n",
      "668/668 [==============================] - 0s 89us/step - loss: 0.4708 - accuracy: 0.7942 - val_loss: 0.4107 - val_accuracy: 0.8341\n",
      "Epoch 206/500\n",
      "668/668 [==============================] - 0s 82us/step - loss: 0.5038 - accuracy: 0.7754 - val_loss: 0.4101 - val_accuracy: 0.8296\n",
      "Epoch 207/500\n",
      "668/668 [==============================] - 0s 83us/step - loss: 0.4894 - accuracy: 0.7777 - val_loss: 0.4092 - val_accuracy: 0.8296\n",
      "Epoch 208/500\n",
      "668/668 [==============================] - 0s 85us/step - loss: 0.4641 - accuracy: 0.7972 - val_loss: 0.4077 - val_accuracy: 0.8296\n",
      "Epoch 209/500\n",
      "668/668 [==============================] - 0s 84us/step - loss: 0.5002 - accuracy: 0.7777 - val_loss: 0.4065 - val_accuracy: 0.8296\n",
      "Epoch 210/500\n",
      "668/668 [==============================] - 0s 83us/step - loss: 0.4947 - accuracy: 0.7792 - val_loss: 0.4066 - val_accuracy: 0.8318\n",
      "Epoch 211/500\n",
      "668/668 [==============================] - 0s 84us/step - loss: 0.5095 - accuracy: 0.7537 - val_loss: 0.4077 - val_accuracy: 0.8341\n",
      "Epoch 212/500\n",
      "668/668 [==============================] - 0s 80us/step - loss: 0.4973 - accuracy: 0.7725 - val_loss: 0.4083 - val_accuracy: 0.8341\n",
      "Epoch 213/500\n",
      "668/668 [==============================] - 0s 83us/step - loss: 0.5145 - accuracy: 0.7792 - val_loss: 0.4082 - val_accuracy: 0.8296\n",
      "Epoch 214/500\n",
      "668/668 [==============================] - 0s 85us/step - loss: 0.5390 - accuracy: 0.7680 - val_loss: 0.4088 - val_accuracy: 0.8296\n",
      "Epoch 215/500\n",
      "668/668 [==============================] - 0s 81us/step - loss: 0.5105 - accuracy: 0.7732 - val_loss: 0.4099 - val_accuracy: 0.8341\n",
      "Epoch 216/500\n",
      "668/668 [==============================] - 0s 90us/step - loss: 0.4912 - accuracy: 0.7979 - val_loss: 0.4105 - val_accuracy: 0.8318\n",
      "Epoch 217/500\n",
      "668/668 [==============================] - 0s 85us/step - loss: 0.4962 - accuracy: 0.7814 - val_loss: 0.4108 - val_accuracy: 0.8341\n",
      "Epoch 218/500\n",
      "668/668 [==============================] - 0s 85us/step - loss: 0.4905 - accuracy: 0.7799 - val_loss: 0.4109 - val_accuracy: 0.8341\n",
      "Epoch 219/500\n",
      "668/668 [==============================] - 0s 87us/step - loss: 0.4769 - accuracy: 0.7942 - val_loss: 0.4092 - val_accuracy: 0.8318\n",
      "Epoch 220/500\n",
      "668/668 [==============================] - 0s 75us/step - loss: 0.5030 - accuracy: 0.7710 - val_loss: 0.4088 - val_accuracy: 0.8341\n",
      "Epoch 221/500\n",
      "668/668 [==============================] - 0s 81us/step - loss: 0.4882 - accuracy: 0.7754 - val_loss: 0.4081 - val_accuracy: 0.8274\n",
      "Epoch 222/500\n",
      "668/668 [==============================] - 0s 75us/step - loss: 0.4929 - accuracy: 0.7837 - val_loss: 0.4072 - val_accuracy: 0.8251\n",
      "Epoch 223/500\n",
      "668/668 [==============================] - 0s 81us/step - loss: 0.4827 - accuracy: 0.7882 - val_loss: 0.4063 - val_accuracy: 0.8251\n",
      "Epoch 224/500\n",
      "668/668 [==============================] - 0s 80us/step - loss: 0.5130 - accuracy: 0.7829 - val_loss: 0.4070 - val_accuracy: 0.8274\n",
      "Epoch 225/500\n"
     ]
    },
    {
     "name": "stdout",
     "output_type": "stream",
     "text": [
      "668/668 [==============================] - 0s 73us/step - loss: 0.4762 - accuracy: 0.7927 - val_loss: 0.4065 - val_accuracy: 0.8274\n",
      "Epoch 226/500\n",
      "668/668 [==============================] - 0s 78us/step - loss: 0.4779 - accuracy: 0.7859 - val_loss: 0.4051 - val_accuracy: 0.8229\n",
      "Epoch 227/500\n",
      "668/668 [==============================] - 0s 86us/step - loss: 0.5025 - accuracy: 0.7837 - val_loss: 0.4055 - val_accuracy: 0.8229\n",
      "Epoch 228/500\n",
      "668/668 [==============================] - 0s 77us/step - loss: 0.5127 - accuracy: 0.7672 - val_loss: 0.4065 - val_accuracy: 0.8229\n",
      "Epoch 229/500\n",
      "668/668 [==============================] - 0s 78us/step - loss: 0.4723 - accuracy: 0.7844 - val_loss: 0.4062 - val_accuracy: 0.8229\n",
      "Epoch 230/500\n",
      "668/668 [==============================] - 0s 83us/step - loss: 0.5030 - accuracy: 0.7882 - val_loss: 0.4055 - val_accuracy: 0.8251\n",
      "Epoch 231/500\n",
      "668/668 [==============================] - 0s 82us/step - loss: 0.4892 - accuracy: 0.7897 - val_loss: 0.4055 - val_accuracy: 0.8251\n",
      "Epoch 232/500\n",
      "668/668 [==============================] - 0s 80us/step - loss: 0.5090 - accuracy: 0.7799 - val_loss: 0.4059 - val_accuracy: 0.8251\n",
      "Epoch 233/500\n",
      "668/668 [==============================] - 0s 81us/step - loss: 0.4881 - accuracy: 0.7897 - val_loss: 0.4064 - val_accuracy: 0.8274\n",
      "Epoch 234/500\n",
      "668/668 [==============================] - 0s 84us/step - loss: 0.4582 - accuracy: 0.7972 - val_loss: 0.4052 - val_accuracy: 0.8296\n",
      "Epoch 235/500\n",
      "668/668 [==============================] - 0s 86us/step - loss: 0.4859 - accuracy: 0.7837 - val_loss: 0.4047 - val_accuracy: 0.8274\n",
      "Epoch 236/500\n",
      "668/668 [==============================] - 0s 86us/step - loss: 0.4713 - accuracy: 0.8016 - val_loss: 0.4046 - val_accuracy: 0.8229\n",
      "Epoch 237/500\n",
      "668/668 [==============================] - 0s 82us/step - loss: 0.4911 - accuracy: 0.7710 - val_loss: 0.4045 - val_accuracy: 0.8229\n",
      "Epoch 238/500\n",
      "668/668 [==============================] - 0s 83us/step - loss: 0.4956 - accuracy: 0.7769 - val_loss: 0.4038 - val_accuracy: 0.8229\n",
      "Epoch 239/500\n",
      "668/668 [==============================] - 0s 82us/step - loss: 0.5119 - accuracy: 0.7740 - val_loss: 0.4039 - val_accuracy: 0.8206\n",
      "Epoch 240/500\n",
      "668/668 [==============================] - 0s 83us/step - loss: 0.4800 - accuracy: 0.7844 - val_loss: 0.4034 - val_accuracy: 0.8184\n",
      "Epoch 241/500\n",
      "668/668 [==============================] - 0s 85us/step - loss: 0.4760 - accuracy: 0.7987 - val_loss: 0.4022 - val_accuracy: 0.8184\n",
      "Epoch 242/500\n",
      "668/668 [==============================] - 0s 84us/step - loss: 0.4757 - accuracy: 0.7942 - val_loss: 0.4016 - val_accuracy: 0.8229\n",
      "Epoch 243/500\n",
      "668/668 [==============================] - 0s 84us/step - loss: 0.4896 - accuracy: 0.7919 - val_loss: 0.4022 - val_accuracy: 0.8251\n",
      "Epoch 244/500\n",
      "668/668 [==============================] - 0s 82us/step - loss: 0.4480 - accuracy: 0.8121 - val_loss: 0.4022 - val_accuracy: 0.8206\n",
      "Epoch 245/500\n",
      "668/668 [==============================] - 0s 84us/step - loss: 0.4876 - accuracy: 0.7904 - val_loss: 0.4021 - val_accuracy: 0.8251\n",
      "Epoch 246/500\n",
      "668/668 [==============================] - 0s 83us/step - loss: 0.4759 - accuracy: 0.7934 - val_loss: 0.4016 - val_accuracy: 0.8251\n",
      "Epoch 247/500\n",
      "668/668 [==============================] - 0s 83us/step - loss: 0.4910 - accuracy: 0.7754 - val_loss: 0.4010 - val_accuracy: 0.8206\n",
      "Epoch 248/500\n",
      "668/668 [==============================] - 0s 86us/step - loss: 0.5018 - accuracy: 0.7837 - val_loss: 0.4024 - val_accuracy: 0.8206\n",
      "Epoch 249/500\n",
      "668/668 [==============================] - 0s 87us/step - loss: 0.4850 - accuracy: 0.7829 - val_loss: 0.4030 - val_accuracy: 0.8206\n",
      "Epoch 250/500\n",
      "668/668 [==============================] - 0s 84us/step - loss: 0.4812 - accuracy: 0.8046 - val_loss: 0.4034 - val_accuracy: 0.8206\n",
      "Epoch 251/500\n",
      "668/668 [==============================] - 0s 85us/step - loss: 0.4991 - accuracy: 0.8009 - val_loss: 0.4046 - val_accuracy: 0.8206\n",
      "Epoch 252/500\n",
      "668/668 [==============================] - 0s 84us/step - loss: 0.5059 - accuracy: 0.7784 - val_loss: 0.4044 - val_accuracy: 0.8206\n",
      "Epoch 253/500\n",
      "668/668 [==============================] - 0s 78us/step - loss: 0.5074 - accuracy: 0.7627 - val_loss: 0.4059 - val_accuracy: 0.8251\n",
      "Epoch 254/500\n",
      "668/668 [==============================] - 0s 89us/step - loss: 0.4925 - accuracy: 0.7844 - val_loss: 0.4057 - val_accuracy: 0.8341\n",
      "Epoch 255/500\n",
      "668/668 [==============================] - 0s 89us/step - loss: 0.4978 - accuracy: 0.7889 - val_loss: 0.4070 - val_accuracy: 0.8296\n",
      "Epoch 256/500\n",
      "668/668 [==============================] - 0s 89us/step - loss: 0.4840 - accuracy: 0.7919 - val_loss: 0.4066 - val_accuracy: 0.8296\n",
      "Epoch 257/500\n",
      "668/668 [==============================] - 0s 81us/step - loss: 0.4771 - accuracy: 0.7852 - val_loss: 0.4063 - val_accuracy: 0.8296\n",
      "Epoch 258/500\n",
      "668/668 [==============================] - 0s 87us/step - loss: 0.5145 - accuracy: 0.7844 - val_loss: 0.4071 - val_accuracy: 0.8296\n",
      "Epoch 259/500\n",
      "668/668 [==============================] - 0s 76us/step - loss: 0.4895 - accuracy: 0.7859 - val_loss: 0.4064 - val_accuracy: 0.8296\n",
      "Epoch 260/500\n",
      "668/668 [==============================] - 0s 94us/step - loss: 0.4739 - accuracy: 0.7837 - val_loss: 0.4056 - val_accuracy: 0.8296\n",
      "Epoch 261/500\n",
      "668/668 [==============================] - 0s 91us/step - loss: 0.4624 - accuracy: 0.7994 - val_loss: 0.4059 - val_accuracy: 0.8274\n",
      "Epoch 262/500\n",
      "668/668 [==============================] - 0s 90us/step - loss: 0.4843 - accuracy: 0.7949 - val_loss: 0.4054 - val_accuracy: 0.8251\n",
      "Epoch 263/500\n",
      "668/668 [==============================] - 0s 88us/step - loss: 0.5041 - accuracy: 0.7754 - val_loss: 0.4056 - val_accuracy: 0.8251\n",
      "Epoch 264/500\n",
      "668/668 [==============================] - 0s 82us/step - loss: 0.4914 - accuracy: 0.7799 - val_loss: 0.4053 - val_accuracy: 0.8117\n",
      "Epoch 265/500\n",
      "668/668 [==============================] - 0s 85us/step - loss: 0.4669 - accuracy: 0.7874 - val_loss: 0.4034 - val_accuracy: 0.8251\n",
      "Epoch 266/500\n",
      "668/668 [==============================] - 0s 79us/step - loss: 0.4854 - accuracy: 0.7769 - val_loss: 0.4030 - val_accuracy: 0.8251\n",
      "Epoch 267/500\n",
      "668/668 [==============================] - 0s 84us/step - loss: 0.4748 - accuracy: 0.7904 - val_loss: 0.4024 - val_accuracy: 0.8206\n",
      "Epoch 268/500\n",
      "668/668 [==============================] - 0s 90us/step - loss: 0.5086 - accuracy: 0.7852 - val_loss: 0.4028 - val_accuracy: 0.8229\n",
      "Epoch 269/500\n",
      "668/668 [==============================] - 0s 91us/step - loss: 0.4998 - accuracy: 0.7852 - val_loss: 0.4032 - val_accuracy: 0.8229\n",
      "Epoch 270/500\n",
      "668/668 [==============================] - 0s 81us/step - loss: 0.4792 - accuracy: 0.7912 - val_loss: 0.4033 - val_accuracy: 0.8251\n",
      "Epoch 271/500\n",
      "668/668 [==============================] - 0s 82us/step - loss: 0.4757 - accuracy: 0.7867 - val_loss: 0.4026 - val_accuracy: 0.8184\n",
      "Epoch 272/500\n",
      "668/668 [==============================] - 0s 85us/step - loss: 0.4910 - accuracy: 0.7822 - val_loss: 0.4042 - val_accuracy: 0.8161\n",
      "Epoch 273/500\n",
      "668/668 [==============================] - 0s 83us/step - loss: 0.4983 - accuracy: 0.7942 - val_loss: 0.4042 - val_accuracy: 0.8161\n",
      "Epoch 274/500\n",
      "668/668 [==============================] - 0s 87us/step - loss: 0.4823 - accuracy: 0.7859 - val_loss: 0.4044 - val_accuracy: 0.8161\n",
      "Epoch 275/500\n",
      "668/668 [==============================] - 0s 81us/step - loss: 0.4596 - accuracy: 0.7912 - val_loss: 0.4042 - val_accuracy: 0.8184\n",
      "Epoch 276/500\n",
      "668/668 [==============================] - 0s 88us/step - loss: 0.4562 - accuracy: 0.8159 - val_loss: 0.4039 - val_accuracy: 0.8161\n",
      "Epoch 277/500\n",
      "668/668 [==============================] - 0s 89us/step - loss: 0.4840 - accuracy: 0.7979 - val_loss: 0.4037 - val_accuracy: 0.8251\n",
      "Epoch 278/500\n",
      "668/668 [==============================] - 0s 84us/step - loss: 0.5019 - accuracy: 0.7889 - val_loss: 0.4029 - val_accuracy: 0.8274\n",
      "Epoch 279/500\n",
      "668/668 [==============================] - 0s 89us/step - loss: 0.4648 - accuracy: 0.8009 - val_loss: 0.4016 - val_accuracy: 0.8206\n",
      "Epoch 280/500\n",
      "668/668 [==============================] - 0s 88us/step - loss: 0.4762 - accuracy: 0.7889 - val_loss: 0.4016 - val_accuracy: 0.8251\n",
      "Epoch 281/500\n"
     ]
    },
    {
     "name": "stdout",
     "output_type": "stream",
     "text": [
      "668/668 [==============================] - 0s 88us/step - loss: 0.4583 - accuracy: 0.8009 - val_loss: 0.4005 - val_accuracy: 0.8251\n",
      "Epoch 282/500\n",
      "668/668 [==============================] - 0s 86us/step - loss: 0.4745 - accuracy: 0.7904 - val_loss: 0.4000 - val_accuracy: 0.8251\n",
      "Epoch 283/500\n",
      "668/668 [==============================] - 0s 84us/step - loss: 0.4769 - accuracy: 0.7934 - val_loss: 0.3988 - val_accuracy: 0.8251\n",
      "Epoch 284/500\n",
      "668/668 [==============================] - 0s 87us/step - loss: 0.4557 - accuracy: 0.8054 - val_loss: 0.3984 - val_accuracy: 0.8251\n",
      "Epoch 285/500\n",
      "668/668 [==============================] - 0s 83us/step - loss: 0.4529 - accuracy: 0.8016 - val_loss: 0.3985 - val_accuracy: 0.8251\n",
      "Epoch 286/500\n",
      "668/668 [==============================] - 0s 86us/step - loss: 0.4648 - accuracy: 0.8106 - val_loss: 0.3981 - val_accuracy: 0.8251\n",
      "Epoch 287/500\n",
      "668/668 [==============================] - 0s 88us/step - loss: 0.4785 - accuracy: 0.7964 - val_loss: 0.3984 - val_accuracy: 0.8251\n",
      "Epoch 288/500\n",
      "668/668 [==============================] - 0s 82us/step - loss: 0.4952 - accuracy: 0.7792 - val_loss: 0.3991 - val_accuracy: 0.8251\n",
      "Epoch 289/500\n",
      "668/668 [==============================] - 0s 88us/step - loss: 0.4711 - accuracy: 0.8016 - val_loss: 0.3985 - val_accuracy: 0.8251\n",
      "Epoch 290/500\n",
      "668/668 [==============================] - 0s 82us/step - loss: 0.4790 - accuracy: 0.8076 - val_loss: 0.3995 - val_accuracy: 0.8229\n",
      "Epoch 291/500\n",
      "668/668 [==============================] - 0s 81us/step - loss: 0.4819 - accuracy: 0.7867 - val_loss: 0.3985 - val_accuracy: 0.8206\n",
      "Epoch 292/500\n",
      "668/668 [==============================] - 0s 81us/step - loss: 0.4893 - accuracy: 0.8024 - val_loss: 0.3995 - val_accuracy: 0.8251\n",
      "Epoch 293/500\n",
      "668/668 [==============================] - 0s 87us/step - loss: 0.4842 - accuracy: 0.7949 - val_loss: 0.3994 - val_accuracy: 0.8251\n",
      "Epoch 294/500\n",
      "668/668 [==============================] - 0s 85us/step - loss: 0.4462 - accuracy: 0.8076 - val_loss: 0.3986 - val_accuracy: 0.8251\n",
      "Epoch 295/500\n",
      "668/668 [==============================] - 0s 85us/step - loss: 0.4811 - accuracy: 0.7859 - val_loss: 0.3990 - val_accuracy: 0.8161\n",
      "Epoch 296/500\n",
      "668/668 [==============================] - 0s 84us/step - loss: 0.4695 - accuracy: 0.8031 - val_loss: 0.3988 - val_accuracy: 0.8184\n",
      "Epoch 297/500\n",
      "668/668 [==============================] - 0s 80us/step - loss: 0.4547 - accuracy: 0.8024 - val_loss: 0.3989 - val_accuracy: 0.8161\n",
      "Epoch 298/500\n",
      "668/668 [==============================] - 0s 83us/step - loss: 0.4836 - accuracy: 0.7882 - val_loss: 0.3981 - val_accuracy: 0.8184\n",
      "Epoch 299/500\n",
      "668/668 [==============================] - 0s 84us/step - loss: 0.4476 - accuracy: 0.8024 - val_loss: 0.3984 - val_accuracy: 0.8184\n",
      "Epoch 300/500\n",
      "668/668 [==============================] - 0s 82us/step - loss: 0.4826 - accuracy: 0.7927 - val_loss: 0.3988 - val_accuracy: 0.8161\n",
      "Epoch 301/500\n",
      "668/668 [==============================] - 0s 87us/step - loss: 0.4957 - accuracy: 0.7837 - val_loss: 0.3989 - val_accuracy: 0.8184\n",
      "Epoch 302/500\n",
      "668/668 [==============================] - 0s 87us/step - loss: 0.4419 - accuracy: 0.8196 - val_loss: 0.3982 - val_accuracy: 0.8229\n",
      "Epoch 303/500\n",
      "668/668 [==============================] - 0s 82us/step - loss: 0.4741 - accuracy: 0.7942 - val_loss: 0.3982 - val_accuracy: 0.8251\n",
      "Epoch 304/500\n",
      "668/668 [==============================] - 0s 79us/step - loss: 0.4840 - accuracy: 0.7732 - val_loss: 0.3992 - val_accuracy: 0.8206\n",
      "Epoch 305/500\n",
      "668/668 [==============================] - 0s 91us/step - loss: 0.4658 - accuracy: 0.7897 - val_loss: 0.3997 - val_accuracy: 0.8161\n",
      "Epoch 306/500\n",
      "668/668 [==============================] - 0s 88us/step - loss: 0.4588 - accuracy: 0.7987 - val_loss: 0.3979 - val_accuracy: 0.8161\n",
      "Epoch 307/500\n",
      "668/668 [==============================] - 0s 81us/step - loss: 0.4797 - accuracy: 0.7949 - val_loss: 0.3981 - val_accuracy: 0.8161\n",
      "Epoch 308/500\n",
      "668/668 [==============================] - 0s 85us/step - loss: 0.4790 - accuracy: 0.8039 - val_loss: 0.3992 - val_accuracy: 0.8206\n",
      "Epoch 309/500\n",
      "668/668 [==============================] - 0s 88us/step - loss: 0.4882 - accuracy: 0.7927 - val_loss: 0.3996 - val_accuracy: 0.8251\n",
      "Epoch 310/500\n",
      "668/668 [==============================] - 0s 80us/step - loss: 0.4296 - accuracy: 0.8144 - val_loss: 0.3990 - val_accuracy: 0.8161\n",
      "Epoch 311/500\n",
      "668/668 [==============================] - 0s 77us/step - loss: 0.4800 - accuracy: 0.7889 - val_loss: 0.3990 - val_accuracy: 0.8161\n",
      "Epoch 312/500\n",
      "668/668 [==============================] - 0s 87us/step - loss: 0.4615 - accuracy: 0.8106 - val_loss: 0.3984 - val_accuracy: 0.8161\n",
      "Epoch 313/500\n",
      "668/668 [==============================] - 0s 84us/step - loss: 0.4848 - accuracy: 0.7934 - val_loss: 0.3981 - val_accuracy: 0.8206\n",
      "Epoch 314/500\n",
      "668/668 [==============================] - 0s 80us/step - loss: 0.4521 - accuracy: 0.8219 - val_loss: 0.3987 - val_accuracy: 0.8206\n",
      "Epoch 315/500\n",
      "668/668 [==============================] - 0s 90us/step - loss: 0.4608 - accuracy: 0.8031 - val_loss: 0.3991 - val_accuracy: 0.8206\n",
      "Epoch 316/500\n",
      "668/668 [==============================] - 0s 85us/step - loss: 0.4513 - accuracy: 0.8174 - val_loss: 0.3989 - val_accuracy: 0.8206\n",
      "Epoch 317/500\n",
      "668/668 [==============================] - 0s 80us/step - loss: 0.4931 - accuracy: 0.7725 - val_loss: 0.3999 - val_accuracy: 0.8161\n",
      "Epoch 318/500\n",
      "668/668 [==============================] - 0s 90us/step - loss: 0.4981 - accuracy: 0.8061 - val_loss: 0.4003 - val_accuracy: 0.8206\n",
      "Epoch 319/500\n",
      "668/668 [==============================] - 0s 87us/step - loss: 0.4515 - accuracy: 0.7987 - val_loss: 0.4005 - val_accuracy: 0.8251\n",
      "Epoch 320/500\n",
      "668/668 [==============================] - 0s 84us/step - loss: 0.4856 - accuracy: 0.7844 - val_loss: 0.4011 - val_accuracy: 0.8206\n",
      "Epoch 321/500\n",
      "668/668 [==============================] - 0s 86us/step - loss: 0.4812 - accuracy: 0.7957 - val_loss: 0.4014 - val_accuracy: 0.8229\n",
      "Epoch 322/500\n",
      "668/668 [==============================] - 0s 90us/step - loss: 0.4618 - accuracy: 0.8219 - val_loss: 0.4012 - val_accuracy: 0.8206\n",
      "Epoch 323/500\n",
      "668/668 [==============================] - 0s 88us/step - loss: 0.4657 - accuracy: 0.7904 - val_loss: 0.4021 - val_accuracy: 0.8206\n",
      "Epoch 324/500\n",
      "668/668 [==============================] - 0s 82us/step - loss: 0.4839 - accuracy: 0.7942 - val_loss: 0.4032 - val_accuracy: 0.8251\n",
      "Epoch 325/500\n",
      "668/668 [==============================] - 0s 82us/step - loss: 0.4597 - accuracy: 0.7994 - val_loss: 0.4036 - val_accuracy: 0.8206\n",
      "Epoch 326/500\n",
      "668/668 [==============================] - 0s 79us/step - loss: 0.4835 - accuracy: 0.8031 - val_loss: 0.4031 - val_accuracy: 0.8251\n",
      "Epoch 327/500\n",
      "668/668 [==============================] - 0s 81us/step - loss: 0.4523 - accuracy: 0.8024 - val_loss: 0.4036 - val_accuracy: 0.8251\n",
      "Epoch 328/500\n",
      "668/668 [==============================] - 0s 132us/step - loss: 0.4893 - accuracy: 0.8001 - val_loss: 0.4033 - val_accuracy: 0.8251\n",
      "Epoch 329/500\n",
      "668/668 [==============================] - 0s 91us/step - loss: 0.4637 - accuracy: 0.7964 - val_loss: 0.4036 - val_accuracy: 0.8251\n",
      "Epoch 330/500\n",
      "668/668 [==============================] - 0s 90us/step - loss: 0.4802 - accuracy: 0.7837 - val_loss: 0.4041 - val_accuracy: 0.8251\n",
      "Epoch 331/500\n",
      "668/668 [==============================] - 0s 85us/step - loss: 0.4597 - accuracy: 0.8106 - val_loss: 0.4036 - val_accuracy: 0.8251\n",
      "Epoch 332/500\n",
      "668/668 [==============================] - 0s 87us/step - loss: 0.4535 - accuracy: 0.8241 - val_loss: 0.4030 - val_accuracy: 0.8251\n",
      "Epoch 333/500\n",
      "668/668 [==============================] - 0s 83us/step - loss: 0.4922 - accuracy: 0.7904 - val_loss: 0.4044 - val_accuracy: 0.8251\n",
      "Epoch 334/500\n",
      "668/668 [==============================] - 0s 89us/step - loss: 0.4492 - accuracy: 0.8189 - val_loss: 0.4039 - val_accuracy: 0.8251\n",
      "Epoch 335/500\n",
      "668/668 [==============================] - 0s 99us/step - loss: 0.4576 - accuracy: 0.8046 - val_loss: 0.4040 - val_accuracy: 0.8229\n",
      "Epoch 336/500\n",
      "668/668 [==============================] - 0s 91us/step - loss: 0.4687 - accuracy: 0.8151 - val_loss: 0.4041 - val_accuracy: 0.8206\n",
      "Epoch 337/500\n"
     ]
    },
    {
     "name": "stdout",
     "output_type": "stream",
     "text": [
      "668/668 [==============================] - 0s 77us/step - loss: 0.4864 - accuracy: 0.7904 - val_loss: 0.4043 - val_accuracy: 0.8206\n",
      "Epoch 338/500\n",
      "668/668 [==============================] - 0s 83us/step - loss: 0.4548 - accuracy: 0.8009 - val_loss: 0.4046 - val_accuracy: 0.8206\n",
      "Epoch 339/500\n",
      "668/668 [==============================] - 0s 86us/step - loss: 0.4522 - accuracy: 0.8136 - val_loss: 0.4046 - val_accuracy: 0.8251\n",
      "Epoch 340/500\n",
      "668/668 [==============================] - 0s 80us/step - loss: 0.4499 - accuracy: 0.8114 - val_loss: 0.4037 - val_accuracy: 0.8251\n",
      "Epoch 341/500\n",
      "668/668 [==============================] - 0s 87us/step - loss: 0.4607 - accuracy: 0.8129 - val_loss: 0.4046 - val_accuracy: 0.8206\n",
      "Epoch 342/500\n",
      "668/668 [==============================] - 0s 84us/step - loss: 0.4440 - accuracy: 0.8076 - val_loss: 0.4044 - val_accuracy: 0.8206\n",
      "Epoch 343/500\n",
      "668/668 [==============================] - 0s 82us/step - loss: 0.4460 - accuracy: 0.8136 - val_loss: 0.4039 - val_accuracy: 0.8206\n",
      "Epoch 344/500\n",
      "668/668 [==============================] - 0s 84us/step - loss: 0.4805 - accuracy: 0.7919 - val_loss: 0.4041 - val_accuracy: 0.8206\n",
      "Epoch 345/500\n",
      "668/668 [==============================] - 0s 84us/step - loss: 0.4581 - accuracy: 0.7994 - val_loss: 0.4044 - val_accuracy: 0.8251\n",
      "Epoch 346/500\n",
      "668/668 [==============================] - 0s 97us/step - loss: 0.4510 - accuracy: 0.8211 - val_loss: 0.4050 - val_accuracy: 0.8206\n",
      "Epoch 347/500\n",
      "668/668 [==============================] - 0s 85us/step - loss: 0.4676 - accuracy: 0.7927 - val_loss: 0.4054 - val_accuracy: 0.8206\n",
      "Epoch 348/500\n",
      "668/668 [==============================] - 0s 86us/step - loss: 0.4400 - accuracy: 0.8159 - val_loss: 0.4055 - val_accuracy: 0.8206\n",
      "Epoch 349/500\n",
      "668/668 [==============================] - 0s 88us/step - loss: 0.4574 - accuracy: 0.8136 - val_loss: 0.4044 - val_accuracy: 0.8251\n",
      "Epoch 350/500\n",
      "668/668 [==============================] - 0s 80us/step - loss: 0.4477 - accuracy: 0.8106 - val_loss: 0.4049 - val_accuracy: 0.8251\n",
      "Epoch 351/500\n",
      "668/668 [==============================] - 0s 83us/step - loss: 0.4805 - accuracy: 0.8031 - val_loss: 0.4046 - val_accuracy: 0.8206\n",
      "Epoch 352/500\n",
      "668/668 [==============================] - 0s 81us/step - loss: 0.4422 - accuracy: 0.8046 - val_loss: 0.4045 - val_accuracy: 0.8206\n",
      "Epoch 353/500\n",
      "668/668 [==============================] - 0s 81us/step - loss: 0.4410 - accuracy: 0.8114 - val_loss: 0.4040 - val_accuracy: 0.8206\n",
      "Epoch 354/500\n",
      "668/668 [==============================] - 0s 82us/step - loss: 0.4747 - accuracy: 0.7957 - val_loss: 0.4042 - val_accuracy: 0.8206\n",
      "Epoch 355/500\n",
      "668/668 [==============================] - 0s 84us/step - loss: 0.4785 - accuracy: 0.8091 - val_loss: 0.4049 - val_accuracy: 0.8206\n",
      "Epoch 356/500\n",
      "668/668 [==============================] - 0s 79us/step - loss: 0.4693 - accuracy: 0.7844 - val_loss: 0.4046 - val_accuracy: 0.8206\n",
      "Epoch 357/500\n",
      "668/668 [==============================] - 0s 87us/step - loss: 0.4616 - accuracy: 0.8204 - val_loss: 0.4046 - val_accuracy: 0.8229\n",
      "Epoch 358/500\n",
      "668/668 [==============================] - 0s 79us/step - loss: 0.4364 - accuracy: 0.7987 - val_loss: 0.4054 - val_accuracy: 0.8184\n",
      "Epoch 359/500\n",
      "668/668 [==============================] - 0s 83us/step - loss: 0.4631 - accuracy: 0.8009 - val_loss: 0.4048 - val_accuracy: 0.8206\n",
      "Epoch 360/500\n",
      "668/668 [==============================] - 0s 80us/step - loss: 0.4705 - accuracy: 0.7987 - val_loss: 0.4046 - val_accuracy: 0.8206\n",
      "Epoch 361/500\n",
      "668/668 [==============================] - 0s 76us/step - loss: 0.4526 - accuracy: 0.8069 - val_loss: 0.4059 - val_accuracy: 0.8161\n",
      "Epoch 362/500\n",
      "668/668 [==============================] - 0s 76us/step - loss: 0.4581 - accuracy: 0.8009 - val_loss: 0.4058 - val_accuracy: 0.8161\n",
      "Epoch 363/500\n",
      "668/668 [==============================] - 0s 85us/step - loss: 0.4870 - accuracy: 0.7987 - val_loss: 0.4055 - val_accuracy: 0.8161\n",
      "Epoch 364/500\n",
      "668/668 [==============================] - 0s 78us/step - loss: 0.4547 - accuracy: 0.8039 - val_loss: 0.4057 - val_accuracy: 0.8161\n",
      "Epoch 365/500\n",
      "668/668 [==============================] - 0s 98us/step - loss: 0.4454 - accuracy: 0.7942 - val_loss: 0.4064 - val_accuracy: 0.8117\n",
      "Epoch 366/500\n",
      "668/668 [==============================] - 0s 89us/step - loss: 0.4561 - accuracy: 0.8061 - val_loss: 0.4067 - val_accuracy: 0.8117\n",
      "Epoch 367/500\n",
      "668/668 [==============================] - 0s 83us/step - loss: 0.4632 - accuracy: 0.7994 - val_loss: 0.4071 - val_accuracy: 0.8117\n",
      "Epoch 368/500\n",
      "668/668 [==============================] - 0s 85us/step - loss: 0.4775 - accuracy: 0.8129 - val_loss: 0.4081 - val_accuracy: 0.8117\n",
      "Epoch 369/500\n",
      "668/668 [==============================] - 0s 81us/step - loss: 0.4261 - accuracy: 0.8106 - val_loss: 0.4079 - val_accuracy: 0.8117\n",
      "Epoch 370/500\n",
      "668/668 [==============================] - 0s 87us/step - loss: 0.4346 - accuracy: 0.8151 - val_loss: 0.4081 - val_accuracy: 0.8161\n",
      "Epoch 371/500\n",
      "668/668 [==============================] - 0s 82us/step - loss: 0.4401 - accuracy: 0.8144 - val_loss: 0.4088 - val_accuracy: 0.8161\n",
      "Epoch 372/500\n",
      "668/668 [==============================] - 0s 81us/step - loss: 0.4531 - accuracy: 0.7927 - val_loss: 0.4077 - val_accuracy: 0.8161\n",
      "Epoch 373/500\n",
      "668/668 [==============================] - 0s 88us/step - loss: 0.4578 - accuracy: 0.8174 - val_loss: 0.4077 - val_accuracy: 0.8117\n",
      "Epoch 374/500\n",
      "668/668 [==============================] - 0s 90us/step - loss: 0.4533 - accuracy: 0.8106 - val_loss: 0.4076 - val_accuracy: 0.8161\n",
      "Epoch 375/500\n",
      "668/668 [==============================] - 0s 82us/step - loss: 0.4718 - accuracy: 0.7949 - val_loss: 0.4081 - val_accuracy: 0.8161\n",
      "Epoch 376/500\n",
      "668/668 [==============================] - 0s 83us/step - loss: 0.4713 - accuracy: 0.8009 - val_loss: 0.4083 - val_accuracy: 0.8161\n",
      "Epoch 377/500\n",
      "668/668 [==============================] - 0s 75us/step - loss: 0.4474 - accuracy: 0.8114 - val_loss: 0.4073 - val_accuracy: 0.8117\n",
      "Epoch 378/500\n",
      "668/668 [==============================] - 0s 86us/step - loss: 0.4279 - accuracy: 0.8046 - val_loss: 0.4067 - val_accuracy: 0.8094\n",
      "Epoch 379/500\n",
      "668/668 [==============================] - 0s 84us/step - loss: 0.4670 - accuracy: 0.7949 - val_loss: 0.4065 - val_accuracy: 0.8072\n",
      "Epoch 380/500\n",
      "668/668 [==============================] - 0s 84us/step - loss: 0.4764 - accuracy: 0.7979 - val_loss: 0.4074 - val_accuracy: 0.8139\n",
      "Epoch 381/500\n",
      "668/668 [==============================] - 0s 83us/step - loss: 0.4397 - accuracy: 0.8076 - val_loss: 0.4068 - val_accuracy: 0.8161\n",
      "Epoch 382/500\n",
      "668/668 [==============================] - 0s 86us/step - loss: 0.4349 - accuracy: 0.8129 - val_loss: 0.4061 - val_accuracy: 0.8117\n",
      "Epoch 383/500\n",
      "668/668 [==============================] - 0s 89us/step - loss: 0.4916 - accuracy: 0.7889 - val_loss: 0.4055 - val_accuracy: 0.8117\n",
      "Epoch 384/500\n",
      "668/668 [==============================] - 0s 92us/step - loss: 0.4676 - accuracy: 0.7994 - val_loss: 0.4057 - val_accuracy: 0.8117\n",
      "Epoch 385/500\n",
      "668/668 [==============================] - 0s 91us/step - loss: 0.4744 - accuracy: 0.8076 - val_loss: 0.4051 - val_accuracy: 0.8184\n",
      "Epoch 386/500\n",
      "668/668 [==============================] - 0s 99us/step - loss: 0.4440 - accuracy: 0.7979 - val_loss: 0.4053 - val_accuracy: 0.8117\n",
      "Epoch 387/500\n",
      "668/668 [==============================] - 0s 89us/step - loss: 0.4543 - accuracy: 0.8009 - val_loss: 0.4062 - val_accuracy: 0.8117\n",
      "Epoch 388/500\n",
      "668/668 [==============================] - 0s 81us/step - loss: 0.4622 - accuracy: 0.8278 - val_loss: 0.4070 - val_accuracy: 0.8139\n",
      "Epoch 389/500\n",
      "668/668 [==============================] - 0s 81us/step - loss: 0.4431 - accuracy: 0.8069 - val_loss: 0.4067 - val_accuracy: 0.8117\n",
      "Epoch 390/500\n",
      "668/668 [==============================] - 0s 78us/step - loss: 0.4743 - accuracy: 0.7934 - val_loss: 0.4068 - val_accuracy: 0.8139\n",
      "Epoch 391/500\n",
      "668/668 [==============================] - 0s 77us/step - loss: 0.4518 - accuracy: 0.8189 - val_loss: 0.4073 - val_accuracy: 0.8161\n",
      "Epoch 392/500\n",
      "668/668 [==============================] - 0s 82us/step - loss: 0.4321 - accuracy: 0.8159 - val_loss: 0.4074 - val_accuracy: 0.8161\n",
      "Epoch 393/500\n"
     ]
    },
    {
     "name": "stdout",
     "output_type": "stream",
     "text": [
      "668/668 [==============================] - 0s 80us/step - loss: 0.4786 - accuracy: 0.7964 - val_loss: 0.4064 - val_accuracy: 0.8184\n",
      "Epoch 394/500\n",
      "668/668 [==============================] - 0s 85us/step - loss: 0.4401 - accuracy: 0.8241 - val_loss: 0.4070 - val_accuracy: 0.8117\n",
      "Epoch 395/500\n",
      "668/668 [==============================] - 0s 84us/step - loss: 0.4644 - accuracy: 0.8009 - val_loss: 0.4066 - val_accuracy: 0.8139\n",
      "Epoch 396/500\n",
      "668/668 [==============================] - 0s 81us/step - loss: 0.4576 - accuracy: 0.7994 - val_loss: 0.4061 - val_accuracy: 0.8094\n",
      "Epoch 397/500\n",
      "668/668 [==============================] - 0s 84us/step - loss: 0.4541 - accuracy: 0.8091 - val_loss: 0.4060 - val_accuracy: 0.8094\n",
      "Epoch 398/500\n",
      "668/668 [==============================] - 0s 83us/step - loss: 0.4663 - accuracy: 0.8054 - val_loss: 0.4059 - val_accuracy: 0.8072\n",
      "Epoch 399/500\n",
      "668/668 [==============================] - 0s 83us/step - loss: 0.4375 - accuracy: 0.8219 - val_loss: 0.4072 - val_accuracy: 0.8049\n",
      "Epoch 400/500\n",
      "668/668 [==============================] - 0s 83us/step - loss: 0.4673 - accuracy: 0.7942 - val_loss: 0.4078 - val_accuracy: 0.8049\n",
      "Epoch 401/500\n",
      "668/668 [==============================] - 0s 81us/step - loss: 0.4673 - accuracy: 0.7934 - val_loss: 0.4078 - val_accuracy: 0.8072\n",
      "Epoch 402/500\n",
      "668/668 [==============================] - 0s 85us/step - loss: 0.4696 - accuracy: 0.7949 - val_loss: 0.4079 - val_accuracy: 0.8049\n",
      "Epoch 403/500\n",
      "668/668 [==============================] - 0s 78us/step - loss: 0.4533 - accuracy: 0.8024 - val_loss: 0.4085 - val_accuracy: 0.8049\n",
      "Epoch 404/500\n",
      "668/668 [==============================] - 0s 77us/step - loss: 0.4663 - accuracy: 0.7972 - val_loss: 0.4081 - val_accuracy: 0.8049\n",
      "Epoch 405/500\n",
      "668/668 [==============================] - 0s 81us/step - loss: 0.4718 - accuracy: 0.7957 - val_loss: 0.4069 - val_accuracy: 0.8094\n",
      "Epoch 406/500\n",
      "668/668 [==============================] - 0s 79us/step - loss: 0.4225 - accuracy: 0.8241 - val_loss: 0.4065 - val_accuracy: 0.8049\n",
      "Epoch 407/500\n",
      "668/668 [==============================] - 0s 78us/step - loss: 0.4537 - accuracy: 0.8084 - val_loss: 0.4056 - val_accuracy: 0.8049\n",
      "Epoch 408/500\n",
      "668/668 [==============================] - 0s 78us/step - loss: 0.4808 - accuracy: 0.8039 - val_loss: 0.4069 - val_accuracy: 0.8072\n",
      "Epoch 409/500\n",
      "668/668 [==============================] - 0s 73us/step - loss: 0.4725 - accuracy: 0.8016 - val_loss: 0.4064 - val_accuracy: 0.8072\n",
      "Epoch 410/500\n",
      "668/668 [==============================] - 0s 81us/step - loss: 0.4831 - accuracy: 0.8129 - val_loss: 0.4073 - val_accuracy: 0.8072\n",
      "Epoch 411/500\n",
      "668/668 [==============================] - 0s 80us/step - loss: 0.4538 - accuracy: 0.8106 - val_loss: 0.4078 - val_accuracy: 0.8049\n",
      "Epoch 412/500\n",
      "668/668 [==============================] - 0s 73us/step - loss: 0.4311 - accuracy: 0.8121 - val_loss: 0.4076 - val_accuracy: 0.8027\n",
      "Epoch 413/500\n",
      "668/668 [==============================] - 0s 78us/step - loss: 0.4666 - accuracy: 0.8054 - val_loss: 0.4078 - val_accuracy: 0.8027\n",
      "Epoch 414/500\n",
      "668/668 [==============================] - 0s 90us/step - loss: 0.4581 - accuracy: 0.8024 - val_loss: 0.4074 - val_accuracy: 0.8027\n",
      "Epoch 415/500\n",
      "668/668 [==============================] - 0s 103us/step - loss: 0.4427 - accuracy: 0.8016 - val_loss: 0.4074 - val_accuracy: 0.8049\n",
      "Epoch 416/500\n",
      "668/668 [==============================] - 0s 88us/step - loss: 0.4509 - accuracy: 0.8121 - val_loss: 0.4063 - val_accuracy: 0.8072\n",
      "Epoch 417/500\n",
      "668/668 [==============================] - 0s 89us/step - loss: 0.4338 - accuracy: 0.8159 - val_loss: 0.4060 - val_accuracy: 0.8027\n",
      "Epoch 418/500\n",
      "668/668 [==============================] - 0s 79us/step - loss: 0.4343 - accuracy: 0.8196 - val_loss: 0.4065 - val_accuracy: 0.8004\n",
      "Epoch 419/500\n",
      "668/668 [==============================] - 0s 97us/step - loss: 0.4620 - accuracy: 0.8174 - val_loss: 0.4062 - val_accuracy: 0.8072\n",
      "Epoch 420/500\n",
      "668/668 [==============================] - 0s 90us/step - loss: 0.4407 - accuracy: 0.8226 - val_loss: 0.4073 - val_accuracy: 0.8072\n",
      "Epoch 421/500\n",
      "668/668 [==============================] - 0s 86us/step - loss: 0.4611 - accuracy: 0.7927 - val_loss: 0.4075 - val_accuracy: 0.8117\n",
      "Epoch 422/500\n",
      "668/668 [==============================] - 0s 96us/step - loss: 0.4656 - accuracy: 0.7964 - val_loss: 0.4082 - val_accuracy: 0.8117\n",
      "Epoch 423/500\n",
      "668/668 [==============================] - 0s 83us/step - loss: 0.4320 - accuracy: 0.8129 - val_loss: 0.4068 - val_accuracy: 0.8117\n",
      "Epoch 424/500\n",
      "668/668 [==============================] - 0s 85us/step - loss: 0.4704 - accuracy: 0.8211 - val_loss: 0.4070 - val_accuracy: 0.8094\n",
      "Epoch 425/500\n",
      "668/668 [==============================] - 0s 99us/step - loss: 0.4520 - accuracy: 0.7994 - val_loss: 0.4081 - val_accuracy: 0.8117\n",
      "Epoch 426/500\n",
      "668/668 [==============================] - 0s 90us/step - loss: 0.4425 - accuracy: 0.8069 - val_loss: 0.4084 - val_accuracy: 0.8072\n",
      "Epoch 427/500\n",
      "668/668 [==============================] - 0s 85us/step - loss: 0.4357 - accuracy: 0.8256 - val_loss: 0.4088 - val_accuracy: 0.8117\n",
      "Epoch 428/500\n",
      "668/668 [==============================] - 0s 85us/step - loss: 0.4740 - accuracy: 0.7844 - val_loss: 0.4094 - val_accuracy: 0.8117\n",
      "Epoch 429/500\n",
      "668/668 [==============================] - 0s 91us/step - loss: 0.4764 - accuracy: 0.8106 - val_loss: 0.4098 - val_accuracy: 0.8117\n",
      "Epoch 430/500\n",
      "668/668 [==============================] - 0s 86us/step - loss: 0.4436 - accuracy: 0.8196 - val_loss: 0.4096 - val_accuracy: 0.8094\n",
      "Epoch 431/500\n",
      "668/668 [==============================] - 0s 84us/step - loss: 0.4757 - accuracy: 0.8114 - val_loss: 0.4099 - val_accuracy: 0.8117\n",
      "Epoch 432/500\n",
      "668/668 [==============================] - 0s 81us/step - loss: 0.4433 - accuracy: 0.8054 - val_loss: 0.4101 - val_accuracy: 0.8049\n",
      "Epoch 433/500\n",
      "668/668 [==============================] - 0s 79us/step - loss: 0.4227 - accuracy: 0.8106 - val_loss: 0.4104 - val_accuracy: 0.8072\n",
      "Epoch 434/500\n",
      "668/668 [==============================] - 0s 85us/step - loss: 0.4542 - accuracy: 0.8159 - val_loss: 0.4106 - val_accuracy: 0.8072\n",
      "Epoch 435/500\n",
      "668/668 [==============================] - 0s 85us/step - loss: 0.4505 - accuracy: 0.8114 - val_loss: 0.4120 - val_accuracy: 0.8027\n",
      "Epoch 436/500\n",
      "668/668 [==============================] - 0s 78us/step - loss: 0.4542 - accuracy: 0.8031 - val_loss: 0.4127 - val_accuracy: 0.8049\n",
      "Epoch 437/500\n",
      "668/668 [==============================] - 0s 82us/step - loss: 0.4297 - accuracy: 0.8061 - val_loss: 0.4123 - val_accuracy: 0.8027\n",
      "Epoch 438/500\n",
      "668/668 [==============================] - 0s 75us/step - loss: 0.4409 - accuracy: 0.8129 - val_loss: 0.4124 - val_accuracy: 0.8072\n",
      "Epoch 439/500\n",
      "668/668 [==============================] - 0s 77us/step - loss: 0.4552 - accuracy: 0.8001 - val_loss: 0.4121 - val_accuracy: 0.8139\n",
      "Epoch 440/500\n",
      "668/668 [==============================] - 0s 81us/step - loss: 0.4401 - accuracy: 0.8016 - val_loss: 0.4119 - val_accuracy: 0.8049\n",
      "Epoch 441/500\n",
      "668/668 [==============================] - 0s 77us/step - loss: 0.4744 - accuracy: 0.7979 - val_loss: 0.4109 - val_accuracy: 0.8027\n",
      "Epoch 442/500\n",
      "668/668 [==============================] - 0s 84us/step - loss: 0.4617 - accuracy: 0.8091 - val_loss: 0.4106 - val_accuracy: 0.8049\n",
      "Epoch 443/500\n",
      "668/668 [==============================] - 0s 90us/step - loss: 0.4490 - accuracy: 0.8114 - val_loss: 0.4104 - val_accuracy: 0.8004\n",
      "Epoch 444/500\n",
      "668/668 [==============================] - 0s 90us/step - loss: 0.4483 - accuracy: 0.8211 - val_loss: 0.4109 - val_accuracy: 0.8004\n",
      "Epoch 445/500\n",
      "668/668 [==============================] - 0s 85us/step - loss: 0.4547 - accuracy: 0.8076 - val_loss: 0.4111 - val_accuracy: 0.8004\n",
      "Epoch 446/500\n",
      "668/668 [==============================] - 0s 83us/step - loss: 0.4449 - accuracy: 0.8054 - val_loss: 0.4124 - val_accuracy: 0.7982\n",
      "Epoch 447/500\n",
      "668/668 [==============================] - 0s 84us/step - loss: 0.4992 - accuracy: 0.7912 - val_loss: 0.4138 - val_accuracy: 0.8004\n",
      "Epoch 448/500\n",
      "668/668 [==============================] - 0s 84us/step - loss: 0.4444 - accuracy: 0.8211 - val_loss: 0.4124 - val_accuracy: 0.8027\n",
      "Epoch 449/500\n"
     ]
    },
    {
     "name": "stdout",
     "output_type": "stream",
     "text": [
      "668/668 [==============================] - 0s 78us/step - loss: 0.4284 - accuracy: 0.8204 - val_loss: 0.4123 - val_accuracy: 0.8004\n",
      "Epoch 450/500\n",
      "668/668 [==============================] - 0s 96us/step - loss: 0.4612 - accuracy: 0.8144 - val_loss: 0.4113 - val_accuracy: 0.7982\n",
      "Epoch 451/500\n",
      "668/668 [==============================] - 0s 86us/step - loss: 0.4410 - accuracy: 0.8181 - val_loss: 0.4107 - val_accuracy: 0.7982\n",
      "Epoch 452/500\n",
      "668/668 [==============================] - 0s 79us/step - loss: 0.4577 - accuracy: 0.7979 - val_loss: 0.4101 - val_accuracy: 0.7982\n",
      "Epoch 453/500\n",
      "668/668 [==============================] - 0s 81us/step - loss: 0.4392 - accuracy: 0.8174 - val_loss: 0.4096 - val_accuracy: 0.7982\n",
      "Epoch 454/500\n",
      "668/668 [==============================] - 0s 79us/step - loss: 0.4553 - accuracy: 0.8099 - val_loss: 0.4087 - val_accuracy: 0.7982\n",
      "Epoch 455/500\n",
      "668/668 [==============================] - 0s 86us/step - loss: 0.4439 - accuracy: 0.8144 - val_loss: 0.4077 - val_accuracy: 0.7982\n",
      "Epoch 456/500\n",
      "668/668 [==============================] - 0s 85us/step - loss: 0.4457 - accuracy: 0.7994 - val_loss: 0.4083 - val_accuracy: 0.8004\n",
      "Epoch 457/500\n",
      "668/668 [==============================] - 0s 80us/step - loss: 0.4584 - accuracy: 0.7927 - val_loss: 0.4073 - val_accuracy: 0.8027\n",
      "Epoch 458/500\n",
      "668/668 [==============================] - 0s 87us/step - loss: 0.4471 - accuracy: 0.8181 - val_loss: 0.4082 - val_accuracy: 0.8027\n",
      "Epoch 459/500\n",
      "668/668 [==============================] - 0s 87us/step - loss: 0.4392 - accuracy: 0.8263 - val_loss: 0.4086 - val_accuracy: 0.8004\n",
      "Epoch 460/500\n",
      "668/668 [==============================] - 0s 88us/step - loss: 0.4498 - accuracy: 0.8204 - val_loss: 0.4082 - val_accuracy: 0.8027\n",
      "Epoch 461/500\n",
      "668/668 [==============================] - 0s 81us/step - loss: 0.4397 - accuracy: 0.8069 - val_loss: 0.4078 - val_accuracy: 0.8004\n",
      "Epoch 462/500\n",
      "668/668 [==============================] - 0s 87us/step - loss: 0.4243 - accuracy: 0.8338 - val_loss: 0.4079 - val_accuracy: 0.8004\n",
      "Epoch 463/500\n",
      "668/668 [==============================] - 0s 89us/step - loss: 0.4361 - accuracy: 0.8151 - val_loss: 0.4073 - val_accuracy: 0.8027\n",
      "Epoch 464/500\n",
      "668/668 [==============================] - 0s 85us/step - loss: 0.4350 - accuracy: 0.8249 - val_loss: 0.4074 - val_accuracy: 0.8049\n",
      "Epoch 465/500\n",
      "668/668 [==============================] - 0s 81us/step - loss: 0.4512 - accuracy: 0.7987 - val_loss: 0.4077 - val_accuracy: 0.8049\n",
      "Epoch 466/500\n",
      "668/668 [==============================] - 0s 86us/step - loss: 0.4564 - accuracy: 0.8031 - val_loss: 0.4078 - val_accuracy: 0.8049\n",
      "Epoch 467/500\n",
      "668/668 [==============================] - 0s 84us/step - loss: 0.4655 - accuracy: 0.7949 - val_loss: 0.4079 - val_accuracy: 0.8049\n",
      "Epoch 468/500\n",
      "668/668 [==============================] - 0s 82us/step - loss: 0.4467 - accuracy: 0.8039 - val_loss: 0.4086 - val_accuracy: 0.8027\n",
      "Epoch 469/500\n",
      "668/668 [==============================] - 0s 101us/step - loss: 0.4391 - accuracy: 0.8211 - val_loss: 0.4080 - val_accuracy: 0.8027\n",
      "Epoch 470/500\n",
      "668/668 [==============================] - 0s 88us/step - loss: 0.4605 - accuracy: 0.8009 - val_loss: 0.4089 - val_accuracy: 0.8004\n",
      "Epoch 471/500\n",
      "668/668 [==============================] - 0s 87us/step - loss: 0.4285 - accuracy: 0.8159 - val_loss: 0.4095 - val_accuracy: 0.8049\n",
      "Epoch 472/500\n",
      "668/668 [==============================] - 0s 84us/step - loss: 0.4574 - accuracy: 0.8114 - val_loss: 0.4093 - val_accuracy: 0.8049\n",
      "Epoch 473/500\n",
      "668/668 [==============================] - 0s 85us/step - loss: 0.4636 - accuracy: 0.7904 - val_loss: 0.4092 - val_accuracy: 0.8027\n",
      "Epoch 474/500\n",
      "668/668 [==============================] - 0s 86us/step - loss: 0.4558 - accuracy: 0.8009 - val_loss: 0.4103 - val_accuracy: 0.8027\n",
      "Epoch 475/500\n",
      "668/668 [==============================] - 0s 84us/step - loss: 0.4755 - accuracy: 0.8054 - val_loss: 0.4096 - val_accuracy: 0.7982\n",
      "Epoch 476/500\n",
      "668/668 [==============================] - 0s 79us/step - loss: 0.4513 - accuracy: 0.8204 - val_loss: 0.4098 - val_accuracy: 0.7960\n",
      "Epoch 477/500\n",
      "668/668 [==============================] - 0s 71us/step - loss: 0.4583 - accuracy: 0.8076 - val_loss: 0.4102 - val_accuracy: 0.7960\n",
      "Epoch 478/500\n",
      "668/668 [==============================] - 0s 79us/step - loss: 0.4732 - accuracy: 0.7949 - val_loss: 0.4101 - val_accuracy: 0.7960\n",
      "Epoch 479/500\n",
      "668/668 [==============================] - 0s 89us/step - loss: 0.4465 - accuracy: 0.8024 - val_loss: 0.4099 - val_accuracy: 0.7960\n",
      "Epoch 480/500\n",
      "668/668 [==============================] - 0s 115us/step - loss: 0.4380 - accuracy: 0.8099 - val_loss: 0.4096 - val_accuracy: 0.8004\n",
      "Epoch 481/500\n",
      "668/668 [==============================] - 0s 88us/step - loss: 0.4509 - accuracy: 0.8076 - val_loss: 0.4091 - val_accuracy: 0.8004\n",
      "Epoch 482/500\n",
      "668/668 [==============================] - 0s 83us/step - loss: 0.4689 - accuracy: 0.7949 - val_loss: 0.4108 - val_accuracy: 0.7982\n",
      "Epoch 483/500\n",
      "668/668 [==============================] - 0s 92us/step - loss: 0.4338 - accuracy: 0.8076 - val_loss: 0.4110 - val_accuracy: 0.7982\n",
      "Epoch 484/500\n",
      "668/668 [==============================] - 0s 88us/step - loss: 0.4433 - accuracy: 0.8024 - val_loss: 0.4102 - val_accuracy: 0.8004\n",
      "Epoch 485/500\n",
      "668/668 [==============================] - 0s 83us/step - loss: 0.4591 - accuracy: 0.8084 - val_loss: 0.4100 - val_accuracy: 0.7960\n",
      "Epoch 486/500\n",
      "668/668 [==============================] - 0s 92us/step - loss: 0.4340 - accuracy: 0.8144 - val_loss: 0.4107 - val_accuracy: 0.8004\n",
      "Epoch 487/500\n",
      "668/668 [==============================] - 0s 91us/step - loss: 0.4458 - accuracy: 0.8181 - val_loss: 0.4113 - val_accuracy: 0.7982\n",
      "Epoch 488/500\n",
      "668/668 [==============================] - 0s 85us/step - loss: 0.4471 - accuracy: 0.7994 - val_loss: 0.4111 - val_accuracy: 0.7982\n",
      "Epoch 489/500\n",
      "668/668 [==============================] - 0s 77us/step - loss: 0.4508 - accuracy: 0.8196 - val_loss: 0.4103 - val_accuracy: 0.8004\n",
      "Epoch 490/500\n",
      "668/668 [==============================] - 0s 76us/step - loss: 0.4376 - accuracy: 0.8398 - val_loss: 0.4100 - val_accuracy: 0.7960\n",
      "Epoch 491/500\n",
      "668/668 [==============================] - 0s 82us/step - loss: 0.4549 - accuracy: 0.8121 - val_loss: 0.4108 - val_accuracy: 0.7960\n",
      "Epoch 492/500\n",
      "668/668 [==============================] - 0s 78us/step - loss: 0.4467 - accuracy: 0.8263 - val_loss: 0.4098 - val_accuracy: 0.8004\n",
      "Epoch 493/500\n",
      "668/668 [==============================] - 0s 78us/step - loss: 0.4604 - accuracy: 0.8054 - val_loss: 0.4102 - val_accuracy: 0.7960\n",
      "Epoch 494/500\n",
      "668/668 [==============================] - 0s 86us/step - loss: 0.4444 - accuracy: 0.8144 - val_loss: 0.4107 - val_accuracy: 0.7982\n",
      "Epoch 495/500\n",
      "668/668 [==============================] - 0s 89us/step - loss: 0.4506 - accuracy: 0.8151 - val_loss: 0.4116 - val_accuracy: 0.7960\n",
      "Epoch 496/500\n",
      "668/668 [==============================] - 0s 95us/step - loss: 0.4470 - accuracy: 0.8106 - val_loss: 0.4111 - val_accuracy: 0.7960\n",
      "Epoch 497/500\n",
      "668/668 [==============================] - 0s 87us/step - loss: 0.4467 - accuracy: 0.8076 - val_loss: 0.4110 - val_accuracy: 0.8027\n",
      "Epoch 498/500\n",
      "668/668 [==============================] - 0s 88us/step - loss: 0.4386 - accuracy: 0.8189 - val_loss: 0.4110 - val_accuracy: 0.8027\n",
      "Epoch 499/500\n",
      "668/668 [==============================] - 0s 82us/step - loss: 0.4412 - accuracy: 0.8151 - val_loss: 0.4102 - val_accuracy: 0.8004\n",
      "Epoch 500/500\n",
      "668/668 [==============================] - 0s 82us/step - loss: 0.4307 - accuracy: 0.8084 - val_loss: 0.4102 - val_accuracy: 0.8027\n"
     ]
    }
   ],
   "source": [
    "model.compile(loss='binary_crossentropy', optimizer='adamax', metrics=['accuracy'])\n",
    "es = EarlyStopping(monitor='val_loss', mode='min', verbose=1, patience = 200)\n",
    "###FOR TRAIN AND VALIDATION, USE HERE!\n",
    "history = model.fit(X_train, y_train,validation_data = (X_test,y_test), epochs=500,  batch_size=16, callbacks=[es])\n",
    "###FOR INFERENCE, USE THIS LINE!\n",
    "#history = model.fit(train, label, epochs=500,  batch_size=64, callbacks=[es])"
   ]
  },
  {
   "cell_type": "code",
   "execution_count": 61,
   "metadata": {},
   "outputs": [],
   "source": [
    "import numpy as np\n",
    "y_pred = model.predict(test)\n",
    "#Converting predictions to label\n",
    "pred = list()\n",
    "for i in range(len(y_pred)):\n",
    "    pred.append(np.argmax(y_pred[i]))\n"
   ]
  },
  {
   "cell_type": "code",
   "execution_count": 62,
   "metadata": {},
   "outputs": [],
   "source": [
    "#For training part, change the one-hot encoding back to normal for y_test label data.\n",
    "testy = list()\n",
    "for i in range( len(y_test) ):\n",
    "   testy.append(0 if y_test.iloc[i][0] == 1 else 1)"
   ]
  },
  {
   "cell_type": "code",
   "execution_count": 63,
   "metadata": {},
   "outputs": [],
   "source": [
    "from sklearn.metrics import accuracy_score\n",
    "#accuracy_score(testy, pred)"
   ]
  },
  {
   "cell_type": "markdown",
   "metadata": {},
   "source": [
    "# Data Preparation for Submission"
   ]
  },
  {
   "cell_type": "code",
   "execution_count": 64,
   "metadata": {},
   "outputs": [],
   "source": [
    "import numpy as np\n",
    "submission = pd.DataFrame({'PassengerId':passengerIdTest,'Survived':pred})\n",
    "filename = 'submissionDL.csv'\n",
    "submission.to_csv(filename,index=False)"
   ]
  },
  {
   "cell_type": "code",
   "execution_count": 65,
   "metadata": {},
   "outputs": [],
   "source": [
    "#pred"
   ]
  },
  {
   "cell_type": "code",
   "execution_count": 66,
   "metadata": {},
   "outputs": [],
   "source": [
    "#Kaggle inference result is 0.81339"
   ]
  }
 ],
 "metadata": {
  "kernelspec": {
   "display_name": "Python 3",
   "language": "python",
   "name": "python3"
  },
  "language_info": {
   "codemirror_mode": {
    "name": "ipython",
    "version": 3
   },
   "file_extension": ".py",
   "mimetype": "text/x-python",
   "name": "python",
   "nbconvert_exporter": "python",
   "pygments_lexer": "ipython3",
   "version": "3.5.2"
  }
 },
 "nbformat": 4,
 "nbformat_minor": 2
}
