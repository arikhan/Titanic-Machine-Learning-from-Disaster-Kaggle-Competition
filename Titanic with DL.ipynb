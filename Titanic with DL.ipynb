{
 "cells": [
  {
   "cell_type": "code",
   "execution_count": 1,
   "metadata": {},
   "outputs": [],
   "source": [
    "import pandas as pd\n",
    "import seaborn as sb"
   ]
  },
  {
   "cell_type": "code",
   "execution_count": 2,
   "metadata": {},
   "outputs": [],
   "source": [
    "train = pd.read_csv(\"train.csv\")"
   ]
  },
  {
   "cell_type": "markdown",
   "metadata": {},
   "source": [
    "# EDA"
   ]
  },
  {
   "cell_type": "code",
   "execution_count": 3,
   "metadata": {},
   "outputs": [
    {
     "data": {
      "text/html": [
       "<div>\n",
       "<style scoped>\n",
       "    .dataframe tbody tr th:only-of-type {\n",
       "        vertical-align: middle;\n",
       "    }\n",
       "\n",
       "    .dataframe tbody tr th {\n",
       "        vertical-align: top;\n",
       "    }\n",
       "\n",
       "    .dataframe thead th {\n",
       "        text-align: right;\n",
       "    }\n",
       "</style>\n",
       "<table border=\"1\" class=\"dataframe\">\n",
       "  <thead>\n",
       "    <tr style=\"text-align: right;\">\n",
       "      <th></th>\n",
       "      <th>PassengerId</th>\n",
       "      <th>Survived</th>\n",
       "      <th>Pclass</th>\n",
       "      <th>Name</th>\n",
       "      <th>Sex</th>\n",
       "      <th>Age</th>\n",
       "      <th>SibSp</th>\n",
       "      <th>Parch</th>\n",
       "      <th>Ticket</th>\n",
       "      <th>Fare</th>\n",
       "      <th>Cabin</th>\n",
       "      <th>Embarked</th>\n",
       "    </tr>\n",
       "  </thead>\n",
       "  <tbody>\n",
       "    <tr>\n",
       "      <th>0</th>\n",
       "      <td>1</td>\n",
       "      <td>0</td>\n",
       "      <td>3</td>\n",
       "      <td>Braund, Mr. Owen Harris</td>\n",
       "      <td>male</td>\n",
       "      <td>22.0</td>\n",
       "      <td>1</td>\n",
       "      <td>0</td>\n",
       "      <td>A/5 21171</td>\n",
       "      <td>7.2500</td>\n",
       "      <td>NaN</td>\n",
       "      <td>S</td>\n",
       "    </tr>\n",
       "    <tr>\n",
       "      <th>1</th>\n",
       "      <td>2</td>\n",
       "      <td>1</td>\n",
       "      <td>1</td>\n",
       "      <td>Cumings, Mrs. John Bradley (Florence Briggs Th...</td>\n",
       "      <td>female</td>\n",
       "      <td>38.0</td>\n",
       "      <td>1</td>\n",
       "      <td>0</td>\n",
       "      <td>PC 17599</td>\n",
       "      <td>71.2833</td>\n",
       "      <td>C85</td>\n",
       "      <td>C</td>\n",
       "    </tr>\n",
       "    <tr>\n",
       "      <th>2</th>\n",
       "      <td>3</td>\n",
       "      <td>1</td>\n",
       "      <td>3</td>\n",
       "      <td>Heikkinen, Miss. Laina</td>\n",
       "      <td>female</td>\n",
       "      <td>26.0</td>\n",
       "      <td>0</td>\n",
       "      <td>0</td>\n",
       "      <td>STON/O2. 3101282</td>\n",
       "      <td>7.9250</td>\n",
       "      <td>NaN</td>\n",
       "      <td>S</td>\n",
       "    </tr>\n",
       "    <tr>\n",
       "      <th>3</th>\n",
       "      <td>4</td>\n",
       "      <td>1</td>\n",
       "      <td>1</td>\n",
       "      <td>Futrelle, Mrs. Jacques Heath (Lily May Peel)</td>\n",
       "      <td>female</td>\n",
       "      <td>35.0</td>\n",
       "      <td>1</td>\n",
       "      <td>0</td>\n",
       "      <td>113803</td>\n",
       "      <td>53.1000</td>\n",
       "      <td>C123</td>\n",
       "      <td>S</td>\n",
       "    </tr>\n",
       "    <tr>\n",
       "      <th>4</th>\n",
       "      <td>5</td>\n",
       "      <td>0</td>\n",
       "      <td>3</td>\n",
       "      <td>Allen, Mr. William Henry</td>\n",
       "      <td>male</td>\n",
       "      <td>35.0</td>\n",
       "      <td>0</td>\n",
       "      <td>0</td>\n",
       "      <td>373450</td>\n",
       "      <td>8.0500</td>\n",
       "      <td>NaN</td>\n",
       "      <td>S</td>\n",
       "    </tr>\n",
       "    <tr>\n",
       "      <th>5</th>\n",
       "      <td>6</td>\n",
       "      <td>0</td>\n",
       "      <td>3</td>\n",
       "      <td>Moran, Mr. James</td>\n",
       "      <td>male</td>\n",
       "      <td>NaN</td>\n",
       "      <td>0</td>\n",
       "      <td>0</td>\n",
       "      <td>330877</td>\n",
       "      <td>8.4583</td>\n",
       "      <td>NaN</td>\n",
       "      <td>Q</td>\n",
       "    </tr>\n",
       "    <tr>\n",
       "      <th>6</th>\n",
       "      <td>7</td>\n",
       "      <td>0</td>\n",
       "      <td>1</td>\n",
       "      <td>McCarthy, Mr. Timothy J</td>\n",
       "      <td>male</td>\n",
       "      <td>54.0</td>\n",
       "      <td>0</td>\n",
       "      <td>0</td>\n",
       "      <td>17463</td>\n",
       "      <td>51.8625</td>\n",
       "      <td>E46</td>\n",
       "      <td>S</td>\n",
       "    </tr>\n",
       "    <tr>\n",
       "      <th>7</th>\n",
       "      <td>8</td>\n",
       "      <td>0</td>\n",
       "      <td>3</td>\n",
       "      <td>Palsson, Master. Gosta Leonard</td>\n",
       "      <td>male</td>\n",
       "      <td>2.0</td>\n",
       "      <td>3</td>\n",
       "      <td>1</td>\n",
       "      <td>349909</td>\n",
       "      <td>21.0750</td>\n",
       "      <td>NaN</td>\n",
       "      <td>S</td>\n",
       "    </tr>\n",
       "    <tr>\n",
       "      <th>8</th>\n",
       "      <td>9</td>\n",
       "      <td>1</td>\n",
       "      <td>3</td>\n",
       "      <td>Johnson, Mrs. Oscar W (Elisabeth Vilhelmina Berg)</td>\n",
       "      <td>female</td>\n",
       "      <td>27.0</td>\n",
       "      <td>0</td>\n",
       "      <td>2</td>\n",
       "      <td>347742</td>\n",
       "      <td>11.1333</td>\n",
       "      <td>NaN</td>\n",
       "      <td>S</td>\n",
       "    </tr>\n",
       "    <tr>\n",
       "      <th>9</th>\n",
       "      <td>10</td>\n",
       "      <td>1</td>\n",
       "      <td>2</td>\n",
       "      <td>Nasser, Mrs. Nicholas (Adele Achem)</td>\n",
       "      <td>female</td>\n",
       "      <td>14.0</td>\n",
       "      <td>1</td>\n",
       "      <td>0</td>\n",
       "      <td>237736</td>\n",
       "      <td>30.0708</td>\n",
       "      <td>NaN</td>\n",
       "      <td>C</td>\n",
       "    </tr>\n",
       "  </tbody>\n",
       "</table>\n",
       "</div>"
      ],
      "text/plain": [
       "   PassengerId  Survived  Pclass  \\\n",
       "0            1         0       3   \n",
       "1            2         1       1   \n",
       "2            3         1       3   \n",
       "3            4         1       1   \n",
       "4            5         0       3   \n",
       "5            6         0       3   \n",
       "6            7         0       1   \n",
       "7            8         0       3   \n",
       "8            9         1       3   \n",
       "9           10         1       2   \n",
       "\n",
       "                                                Name     Sex   Age  SibSp  \\\n",
       "0                            Braund, Mr. Owen Harris    male  22.0      1   \n",
       "1  Cumings, Mrs. John Bradley (Florence Briggs Th...  female  38.0      1   \n",
       "2                             Heikkinen, Miss. Laina  female  26.0      0   \n",
       "3       Futrelle, Mrs. Jacques Heath (Lily May Peel)  female  35.0      1   \n",
       "4                           Allen, Mr. William Henry    male  35.0      0   \n",
       "5                                   Moran, Mr. James    male   NaN      0   \n",
       "6                            McCarthy, Mr. Timothy J    male  54.0      0   \n",
       "7                     Palsson, Master. Gosta Leonard    male   2.0      3   \n",
       "8  Johnson, Mrs. Oscar W (Elisabeth Vilhelmina Berg)  female  27.0      0   \n",
       "9                Nasser, Mrs. Nicholas (Adele Achem)  female  14.0      1   \n",
       "\n",
       "   Parch            Ticket     Fare Cabin Embarked  \n",
       "0      0         A/5 21171   7.2500   NaN        S  \n",
       "1      0          PC 17599  71.2833   C85        C  \n",
       "2      0  STON/O2. 3101282   7.9250   NaN        S  \n",
       "3      0            113803  53.1000  C123        S  \n",
       "4      0            373450   8.0500   NaN        S  \n",
       "5      0            330877   8.4583   NaN        Q  \n",
       "6      0             17463  51.8625   E46        S  \n",
       "7      1            349909  21.0750   NaN        S  \n",
       "8      2            347742  11.1333   NaN        S  \n",
       "9      0            237736  30.0708   NaN        C  "
      ]
     },
     "execution_count": 3,
     "metadata": {},
     "output_type": "execute_result"
    }
   ],
   "source": [
    "train.head(10)"
   ]
  },
  {
   "cell_type": "code",
   "execution_count": 4,
   "metadata": {},
   "outputs": [
    {
     "data": {
      "text/html": [
       "<div>\n",
       "<style scoped>\n",
       "    .dataframe tbody tr th:only-of-type {\n",
       "        vertical-align: middle;\n",
       "    }\n",
       "\n",
       "    .dataframe tbody tr th {\n",
       "        vertical-align: top;\n",
       "    }\n",
       "\n",
       "    .dataframe thead th {\n",
       "        text-align: right;\n",
       "    }\n",
       "</style>\n",
       "<table border=\"1\" class=\"dataframe\">\n",
       "  <thead>\n",
       "    <tr style=\"text-align: right;\">\n",
       "      <th></th>\n",
       "      <th>PassengerId</th>\n",
       "      <th>Survived</th>\n",
       "      <th>Pclass</th>\n",
       "      <th>Age</th>\n",
       "      <th>SibSp</th>\n",
       "      <th>Parch</th>\n",
       "      <th>Fare</th>\n",
       "    </tr>\n",
       "  </thead>\n",
       "  <tbody>\n",
       "    <tr>\n",
       "      <th>count</th>\n",
       "      <td>891.000000</td>\n",
       "      <td>891.000000</td>\n",
       "      <td>891.000000</td>\n",
       "      <td>714.000000</td>\n",
       "      <td>891.000000</td>\n",
       "      <td>891.000000</td>\n",
       "      <td>891.000000</td>\n",
       "    </tr>\n",
       "    <tr>\n",
       "      <th>mean</th>\n",
       "      <td>446.000000</td>\n",
       "      <td>0.383838</td>\n",
       "      <td>2.308642</td>\n",
       "      <td>29.699118</td>\n",
       "      <td>0.523008</td>\n",
       "      <td>0.381594</td>\n",
       "      <td>32.204208</td>\n",
       "    </tr>\n",
       "    <tr>\n",
       "      <th>std</th>\n",
       "      <td>257.353842</td>\n",
       "      <td>0.486592</td>\n",
       "      <td>0.836071</td>\n",
       "      <td>14.526497</td>\n",
       "      <td>1.102743</td>\n",
       "      <td>0.806057</td>\n",
       "      <td>49.693429</td>\n",
       "    </tr>\n",
       "    <tr>\n",
       "      <th>min</th>\n",
       "      <td>1.000000</td>\n",
       "      <td>0.000000</td>\n",
       "      <td>1.000000</td>\n",
       "      <td>0.420000</td>\n",
       "      <td>0.000000</td>\n",
       "      <td>0.000000</td>\n",
       "      <td>0.000000</td>\n",
       "    </tr>\n",
       "    <tr>\n",
       "      <th>25%</th>\n",
       "      <td>223.500000</td>\n",
       "      <td>0.000000</td>\n",
       "      <td>2.000000</td>\n",
       "      <td>20.125000</td>\n",
       "      <td>0.000000</td>\n",
       "      <td>0.000000</td>\n",
       "      <td>7.910400</td>\n",
       "    </tr>\n",
       "    <tr>\n",
       "      <th>50%</th>\n",
       "      <td>446.000000</td>\n",
       "      <td>0.000000</td>\n",
       "      <td>3.000000</td>\n",
       "      <td>28.000000</td>\n",
       "      <td>0.000000</td>\n",
       "      <td>0.000000</td>\n",
       "      <td>14.454200</td>\n",
       "    </tr>\n",
       "    <tr>\n",
       "      <th>75%</th>\n",
       "      <td>668.500000</td>\n",
       "      <td>1.000000</td>\n",
       "      <td>3.000000</td>\n",
       "      <td>38.000000</td>\n",
       "      <td>1.000000</td>\n",
       "      <td>0.000000</td>\n",
       "      <td>31.000000</td>\n",
       "    </tr>\n",
       "    <tr>\n",
       "      <th>max</th>\n",
       "      <td>891.000000</td>\n",
       "      <td>1.000000</td>\n",
       "      <td>3.000000</td>\n",
       "      <td>80.000000</td>\n",
       "      <td>8.000000</td>\n",
       "      <td>6.000000</td>\n",
       "      <td>512.329200</td>\n",
       "    </tr>\n",
       "  </tbody>\n",
       "</table>\n",
       "</div>"
      ],
      "text/plain": [
       "       PassengerId    Survived      Pclass         Age       SibSp  \\\n",
       "count   891.000000  891.000000  891.000000  714.000000  891.000000   \n",
       "mean    446.000000    0.383838    2.308642   29.699118    0.523008   \n",
       "std     257.353842    0.486592    0.836071   14.526497    1.102743   \n",
       "min       1.000000    0.000000    1.000000    0.420000    0.000000   \n",
       "25%     223.500000    0.000000    2.000000   20.125000    0.000000   \n",
       "50%     446.000000    0.000000    3.000000   28.000000    0.000000   \n",
       "75%     668.500000    1.000000    3.000000   38.000000    1.000000   \n",
       "max     891.000000    1.000000    3.000000   80.000000    8.000000   \n",
       "\n",
       "            Parch        Fare  \n",
       "count  891.000000  891.000000  \n",
       "mean     0.381594   32.204208  \n",
       "std      0.806057   49.693429  \n",
       "min      0.000000    0.000000  \n",
       "25%      0.000000    7.910400  \n",
       "50%      0.000000   14.454200  \n",
       "75%      0.000000   31.000000  \n",
       "max      6.000000  512.329200  "
      ]
     },
     "execution_count": 4,
     "metadata": {},
     "output_type": "execute_result"
    }
   ],
   "source": [
    "train.describe()"
   ]
  },
  {
   "cell_type": "code",
   "execution_count": 5,
   "metadata": {},
   "outputs": [
    {
     "data": {
      "text/plain": [
       "PassengerId      0\n",
       "Survived         0\n",
       "Pclass           0\n",
       "Name             0\n",
       "Sex              0\n",
       "Age            177\n",
       "SibSp            0\n",
       "Parch            0\n",
       "Ticket           0\n",
       "Fare             0\n",
       "Cabin          687\n",
       "Embarked         2\n",
       "dtype: int64"
      ]
     },
     "execution_count": 5,
     "metadata": {},
     "output_type": "execute_result"
    }
   ],
   "source": [
    "train.isna().sum()"
   ]
  },
  {
   "cell_type": "code",
   "execution_count": 6,
   "metadata": {},
   "outputs": [
    {
     "data": {
      "text/plain": [
       "<matplotlib.axes._subplots.AxesSubplot at 0x7f2b77960898>"
      ]
     },
     "execution_count": 6,
     "metadata": {},
     "output_type": "execute_result"
    },
    {
     "data": {
      "image/png": "[encoded data removed]",
      "text/plain": [
       "<Figure size 432x288 with 1 Axes>"
      ]
     },
     "metadata": {
      "needs_background": "light"
     },
     "output_type": "display_data"
    }
   ],
   "source": [
    "sb.distplot(train[\"Fare\"])"
   ]
  },
  {
   "cell_type": "code",
   "execution_count": 7,
   "metadata": {},
   "outputs": [
    {
     "data": {
      "text/plain": [
       "count    891.000000\n",
       "mean      32.204208\n",
       "std       49.693429\n",
       "min        0.000000\n",
       "25%        7.910400\n",
       "50%       14.454200\n",
       "75%       31.000000\n",
       "max      512.329200\n",
       "Name: Fare, dtype: float64"
      ]
     },
     "execution_count": 7,
     "metadata": {},
     "output_type": "execute_result"
    }
   ],
   "source": [
    "train[\"Fare\"].describe()"
   ]
  },
  {
   "cell_type": "code",
   "execution_count": 8,
   "metadata": {},
   "outputs": [
    {
     "name": "stderr",
     "output_type": "stream",
     "text": [
      "/usr/local/lib/python3.5/dist-packages/pandas/core/indexing.py:190: SettingWithCopyWarning: \n",
      "A value is trying to be set on a copy of a slice from a DataFrame\n",
      "\n",
      "See the caveats in the documentation: http://pandas.pydata.org/pandas-docs/stable/indexing.html#indexing-view-versus-copy\n",
      "  self._setitem_with_indexer(indexer, value)\n"
     ]
    }
   ],
   "source": [
    "import numpy as np\n",
    "for i in range(len(train[\"Fare\"])):\n",
    "    if train[\"Fare\"].iloc()[i] < 1:\n",
    "        train[\"Fare\"].iloc()[i] = 1"
   ]
  },
  {
   "cell_type": "code",
   "execution_count": 9,
   "metadata": {},
   "outputs": [
    {
     "data": {
      "text/plain": [
       "<matplotlib.axes._subplots.AxesSubplot at 0x7f2b758aff28>"
      ]
     },
     "execution_count": 9,
     "metadata": {},
     "output_type": "execute_result"
    },
    {
     "data": {
      "image/png": "[encoded data removed]",
      "text/plain": [
       "<Figure size 432x288 with 1 Axes>"
      ]
     },
     "metadata": {
      "needs_background": "light"
     },
     "output_type": "display_data"
    }
   ],
   "source": [
    "train[\"Fare\"] = pd.Series(np.log(train[\"Fare\"]))\n",
    "sb.distplot(train[\"Fare\"])"
   ]
  },
  {
   "cell_type": "code",
   "execution_count": 10,
   "metadata": {},
   "outputs": [
    {
     "data": {
      "text/plain": [
       "687"
      ]
     },
     "execution_count": 10,
     "metadata": {},
     "output_type": "execute_result"
    }
   ],
   "source": [
    "train[\"Cabin\"].isna().sum()"
   ]
  },
  {
   "cell_type": "code",
   "execution_count": 11,
   "metadata": {},
   "outputs": [
    {
     "data": {
      "text/plain": [
       "891"
      ]
     },
     "execution_count": 11,
     "metadata": {},
     "output_type": "execute_result"
    }
   ],
   "source": [
    "train[\"Cabin\"].size"
   ]
  },
  {
   "cell_type": "code",
   "execution_count": 12,
   "metadata": {},
   "outputs": [
    {
     "data": {
      "text/plain": [
       "<matplotlib.axes._subplots.AxesSubplot at 0x7f2b737e5e80>"
      ]
     },
     "execution_count": 12,
     "metadata": {},
     "output_type": "execute_result"
    },
    {
     "data": {
      "image/png": "[encoded data removed]",
      "text/plain": [
       "<Figure size 432x288 with 1 Axes>"
      ]
     },
     "metadata": {
      "needs_background": "light"
     },
     "output_type": "display_data"
    }
   ],
   "source": [
    "sb.distplot(train[\"Cabin\"].value_counts())"
   ]
  },
  {
   "cell_type": "code",
   "execution_count": 13,
   "metadata": {},
   "outputs": [
    {
     "name": "stdout",
     "output_type": "stream",
     "text": [
      "Null value percentage for Cabin column is: %77.10437710437711\n"
     ]
    }
   ],
   "source": [
    "print(\"Null value percentage for Cabin column is: %\" + str(train[\"Cabin\"].isna().sum()* 100/ train[\"Cabin\"].size))"
   ]
  },
  {
   "cell_type": "code",
   "execution_count": 14,
   "metadata": {},
   "outputs": [
    {
     "name": "stdout",
     "output_type": "stream",
     "text": [
      "<class 'pandas.core.frame.DataFrame'>\n",
      "RangeIndex: 891 entries, 0 to 890\n",
      "Data columns (total 12 columns):\n",
      "PassengerId    891 non-null int64\n",
      "Survived       891 non-null int64\n",
      "Pclass         891 non-null int64\n",
      "Name           891 non-null object\n",
      "Sex            891 non-null object\n",
      "Age            714 non-null float64\n",
      "SibSp          891 non-null int64\n",
      "Parch          891 non-null int64\n",
      "Ticket         891 non-null object\n",
      "Fare           891 non-null float64\n",
      "Cabin          204 non-null object\n",
      "Embarked       889 non-null object\n",
      "dtypes: float64(2), int64(5), object(5)\n",
      "memory usage: 83.6+ KB\n"
     ]
    }
   ],
   "source": [
    "train.info()"
   ]
  },
  {
   "cell_type": "code",
   "execution_count": 15,
   "metadata": {},
   "outputs": [
    {
     "data": {
      "text/plain": [
       "<matplotlib.axes._subplots.AxesSubplot at 0x7f2b7378b400>"
      ]
     },
     "execution_count": 15,
     "metadata": {},
     "output_type": "execute_result"
    },
    {
     "data": {
      "image/png": "[encoded data removed]",
      "text/plain": [
       "<Figure size 432x288 with 1 Axes>"
      ]
     },
     "metadata": {
      "needs_background": "light"
     },
     "output_type": "display_data"
    }
   ],
   "source": [
    "sb.distplot(train[\"Survived\"])"
   ]
  },
  {
   "cell_type": "code",
   "execution_count": 16,
   "metadata": {},
   "outputs": [
    {
     "data": {
      "text/plain": [
       "0    549\n",
       "1    342\n",
       "Name: Survived, dtype: int64"
      ]
     },
     "execution_count": 16,
     "metadata": {},
     "output_type": "execute_result"
    }
   ],
   "source": [
    "train[\"Survived\"].value_counts()"
   ]
  },
  {
   "cell_type": "code",
   "execution_count": 17,
   "metadata": {},
   "outputs": [
    {
     "data": {
      "text/plain": [
       "0    678\n",
       "1    118\n",
       "2     80\n",
       "5      5\n",
       "3      5\n",
       "4      4\n",
       "6      1\n",
       "Name: Parch, dtype: int64"
      ]
     },
     "execution_count": 17,
     "metadata": {},
     "output_type": "execute_result"
    }
   ],
   "source": [
    "train[\"Parch\"].value_counts()"
   ]
  },
  {
   "cell_type": "code",
   "execution_count": 18,
   "metadata": {},
   "outputs": [
    {
     "data": {
      "text/plain": [
       "<matplotlib.axes._subplots.AxesSubplot at 0x7f2b737092e8>"
      ]
     },
     "execution_count": 18,
     "metadata": {},
     "output_type": "execute_result"
    },
    {
     "data": {
      "image/png": "[encoded data removed]",
      "text/plain": [
       "<Figure size 432x288 with 1 Axes>"
      ]
     },
     "metadata": {
      "needs_background": "light"
     },
     "output_type": "display_data"
    }
   ],
   "source": [
    "sb.distplot(train[\"Parch\"])"
   ]
  },
  {
   "cell_type": "code",
   "execution_count": 19,
   "metadata": {},
   "outputs": [
    {
     "data": {
      "text/plain": [
       "0    608\n",
       "1    209\n",
       "2     28\n",
       "4     18\n",
       "3     16\n",
       "8      7\n",
       "5      5\n",
       "Name: SibSp, dtype: int64"
      ]
     },
     "execution_count": 19,
     "metadata": {},
     "output_type": "execute_result"
    }
   ],
   "source": [
    "train[\"SibSp\"].value_counts()"
   ]
  },
  {
   "cell_type": "code",
   "execution_count": 20,
   "metadata": {},
   "outputs": [
    {
     "data": {
      "text/plain": [
       "<matplotlib.axes._subplots.AxesSubplot at 0x7f2b736724e0>"
      ]
     },
     "execution_count": 20,
     "metadata": {},
     "output_type": "execute_result"
    },
    {
     "data": {
      "image/png": "[encoded data removed]",
      "text/plain": [
       "<Figure size 432x288 with 1 Axes>"
      ]
     },
     "metadata": {
      "needs_background": "light"
     },
     "output_type": "display_data"
    }
   ],
   "source": [
    "sb.distplot(train[\"SibSp\"])"
   ]
  },
  {
   "cell_type": "code",
   "execution_count": 21,
   "metadata": {},
   "outputs": [
    {
     "data": {
      "text/plain": [
       "count    714.000000\n",
       "mean      29.699118\n",
       "std       14.526497\n",
       "min        0.420000\n",
       "25%       20.125000\n",
       "50%       28.000000\n",
       "75%       38.000000\n",
       "max       80.000000\n",
       "Name: Age, dtype: float64"
      ]
     },
     "execution_count": 21,
     "metadata": {},
     "output_type": "execute_result"
    }
   ],
   "source": [
    "train[\"Age\"].describe()"
   ]
  },
  {
   "cell_type": "code",
   "execution_count": 22,
   "metadata": {},
   "outputs": [
    {
     "data": {
      "text/plain": [
       "count    714.000000\n",
       "mean      29.693277\n",
       "std       14.524527\n",
       "min        0.000000\n",
       "25%       20.000000\n",
       "50%       28.000000\n",
       "75%       38.000000\n",
       "max       80.000000\n",
       "Name: Age, dtype: float64"
      ]
     },
     "execution_count": 22,
     "metadata": {},
     "output_type": "execute_result"
    }
   ],
   "source": [
    "train[\"Age\"].round().describe()"
   ]
  },
  {
   "cell_type": "code",
   "execution_count": 23,
   "metadata": {},
   "outputs": [],
   "source": [
    "train[\"Age\"] = train[\"Age\"].round()"
   ]
  },
  {
   "cell_type": "code",
   "execution_count": 24,
   "metadata": {},
   "outputs": [],
   "source": [
    "train['Age'].fillna(train['Age'].mean(), inplace=True)"
   ]
  },
  {
   "cell_type": "code",
   "execution_count": 25,
   "metadata": {},
   "outputs": [
    {
     "data": {
      "text/plain": [
       "count    891.000000\n",
       "mean      29.693277\n",
       "std       13.000252\n",
       "min        0.000000\n",
       "25%       22.000000\n",
       "50%       29.693277\n",
       "75%       35.000000\n",
       "max       80.000000\n",
       "Name: Age, dtype: float64"
      ]
     },
     "execution_count": 25,
     "metadata": {},
     "output_type": "execute_result"
    }
   ],
   "source": [
    "train[\"Age\"].describe()"
   ]
  },
  {
   "cell_type": "code",
   "execution_count": 26,
   "metadata": {},
   "outputs": [
    {
     "data": {
      "text/plain": [
       "<matplotlib.axes._subplots.AxesSubplot at 0x7f2b77936e80>"
      ]
     },
     "execution_count": 26,
     "metadata": {},
     "output_type": "execute_result"
    },
    {
     "data": {
      "image/png": "[encoded data removed]",
      "text/plain": [
       "<Figure size 432x288 with 1 Axes>"
      ]
     },
     "metadata": {
      "needs_background": "light"
     },
     "output_type": "display_data"
    }
   ],
   "source": [
    "sb.distplot(train[\"Age\"])"
   ]
  },
  {
   "cell_type": "code",
   "execution_count": 27,
   "metadata": {},
   "outputs": [
    {
     "data": {
      "text/plain": [
       "<matplotlib.axes._subplots.AxesSubplot at 0x7f2b7588d908>"
      ]
     },
     "execution_count": 27,
     "metadata": {},
     "output_type": "execute_result"
    },
    {
     "data": {
      "image/png": "[encoded data removed]",
      "text/plain": [
       "<Figure size 432x288 with 1 Axes>"
      ]
     },
     "metadata": {
      "needs_background": "light"
     },
     "output_type": "display_data"
    }
   ],
   "source": [
    "for i in range(len(train[\"Age\"])):\n",
    "    if train[\"Age\"].iloc()[i] < 1:\n",
    "        train[\"Age\"].iloc()[i] = 1\n",
    "train[\"Age\"] = pd.Series(np.log(train[\"Age\"]))\n",
    "sb.distplot(train[\"Age\"])"
   ]
  },
  {
   "cell_type": "code",
   "execution_count": 28,
   "metadata": {},
   "outputs": [
    {
     "data": {
      "text/plain": [
       "Givard, Mr. Hans Kristensen                                      1\n",
       "Panula, Mr. Jaako Arnold                                         1\n",
       "Moutal, Mr. Rahamin Haim                                         1\n",
       "Goodwin, Mr. Charles Edward                                      1\n",
       "Turkula, Mrs. (Hedwig)                                           1\n",
       "Kink, Mr. Vincenz                                                1\n",
       "Goldsmith, Mrs. Frank John (Emily Alice Brown)                   1\n",
       "Yousseff, Mr. Gerious                                            1\n",
       "Jerwan, Mrs. Amin S (Marie Marthe Thuillard)                     1\n",
       "Coleff, Mr. Peju                                                 1\n",
       "Futrelle, Mr. Jacques Heath                                      1\n",
       "Campbell, Mr. William                                            1\n",
       "Hansen, Mr. Henrik Juul                                          1\n",
       "Bourke, Miss. Mary                                               1\n",
       "Shutes, Miss. Elizabeth W                                        1\n",
       "O'Leary, Miss. Hanora \"Norah\"                                    1\n",
       "O'Brien, Mrs. Thomas (Johanna \"Hannah\" Godfrey)                  1\n",
       "Allum, Mr. Owen George                                           1\n",
       "Wheadon, Mr. Edward H                                            1\n",
       "Yrois, Miss. Henriette (\"Mrs Harbeck\")                           1\n",
       "Eitemiller, Mr. George Floyd                                     1\n",
       "Todoroff, Mr. Lalio                                              1\n",
       "Keane, Miss. Nora A                                              1\n",
       "Peter, Miss. Anna                                                1\n",
       "Kallio, Mr. Nikolai Erland                                       1\n",
       "Sundman, Mr. Johan Julian                                        1\n",
       "Jalsevac, Mr. Ivan                                               1\n",
       "Torber, Mr. Ernst William                                        1\n",
       "Keefe, Mr. Arthur                                                1\n",
       "Karlsson, Mr. Nils August                                        1\n",
       "                                                                ..\n",
       "Bonnell, Miss. Elizabeth                                         1\n",
       "Andersson, Mrs. Anders Johan (Alfrida Konstantia Brogren)        1\n",
       "Ward, Miss. Anna                                                 1\n",
       "Jonkoff, Mr. Lalio                                               1\n",
       "Carter, Miss. Lucile Polk                                        1\n",
       "Strom, Miss. Telma Matilda                                       1\n",
       "Van der hoef, Mr. Wyckoff                                        1\n",
       "Louch, Mrs. Charles Alexander (Alice Adelaide Slow)              1\n",
       "Roebling, Mr. Washington Augustus II                             1\n",
       "Blackwell, Mr. Stephen Weart                                     1\n",
       "Pears, Mr. Thomas Clinton                                        1\n",
       "Abbing, Mr. Anthony                                              1\n",
       "Connolly, Miss. Kate                                             1\n",
       "Beavan, Mr. William Thomas                                       1\n",
       "Bishop, Mr. Dickinson H                                          1\n",
       "Gheorgheff, Mr. Stanio                                           1\n",
       "Sawyer, Mr. Frederick Charles                                    1\n",
       "Karaic, Mr. Milan                                                1\n",
       "Hassan, Mr. Houssein G N                                         1\n",
       "Herman, Miss. Alice                                              1\n",
       "Calderhead, Mr. Edward Pennington                                1\n",
       "Coleridge, Mr. Reginald Charles                                  1\n",
       "Cor, Mr. Liudevit                                                1\n",
       "Lefebre, Miss. Mathilde                                          1\n",
       "Brown, Mrs. Thomas William Solomon (Elizabeth Catherine Ford)    1\n",
       "Bowen, Mr. David John \"Dai\"                                      1\n",
       "Ford, Miss. Doolina Margaret \"Daisy\"                             1\n",
       "Brown, Mrs. James Joseph (Margaret Tobin)                        1\n",
       "Plotcharsky, Mr. Vasil                                           1\n",
       "Mangan, Miss. Mary                                               1\n",
       "Name: Name, Length: 891, dtype: int64"
      ]
     },
     "execution_count": 28,
     "metadata": {},
     "output_type": "execute_result"
    }
   ],
   "source": [
    "train[\"Name\"].value_counts() \n",
    "#Since names are highly unlikely to have any significance with the problem,\n",
    "# we will drop this column."
   ]
  },
  {
   "cell_type": "code",
   "execution_count": 29,
   "metadata": {},
   "outputs": [],
   "source": [
    "train.drop([\"Name\"], axis=1, inplace = True)"
   ]
  },
  {
   "cell_type": "code",
   "execution_count": 30,
   "metadata": {},
   "outputs": [],
   "source": [
    "#We need to convert some columns to type of objects, because they \n",
    "#represent categorical variables, e.g. Pclass\n",
    "train[\"Pclass\"] = train[\"Pclass\"].astype(\"object\")\n",
    "train[\"SibSp\"] = train[\"SibSp\"].astype(\"object\")\n",
    "train[\"Parch\"] = train[\"Parch\"].astype(\"object\")"
   ]
  },
  {
   "cell_type": "code",
   "execution_count": 31,
   "metadata": {},
   "outputs": [
    {
     "name": "stdout",
     "output_type": "stream",
     "text": [
      "<class 'pandas.core.frame.DataFrame'>\n",
      "RangeIndex: 891 entries, 0 to 890\n",
      "Data columns (total 11 columns):\n",
      "PassengerId    891 non-null int64\n",
      "Survived       891 non-null int64\n",
      "Pclass         891 non-null object\n",
      "Sex            891 non-null object\n",
      "Age            891 non-null float64\n",
      "SibSp          891 non-null object\n",
      "Parch          891 non-null object\n",
      "Ticket         891 non-null object\n",
      "Fare           891 non-null float64\n",
      "Cabin          204 non-null object\n",
      "Embarked       889 non-null object\n",
      "dtypes: float64(2), int64(2), object(7)\n",
      "memory usage: 76.6+ KB\n"
     ]
    }
   ],
   "source": [
    "train.info()"
   ]
  },
  {
   "cell_type": "code",
   "execution_count": 32,
   "metadata": {},
   "outputs": [],
   "source": [
    "#Lets also drop Cabin column since it has many null values.\n",
    "train.drop([\"Cabin\"], axis=1, inplace = True)"
   ]
  },
  {
   "cell_type": "code",
   "execution_count": 33,
   "metadata": {},
   "outputs": [],
   "source": [
    "label = pd.get_dummies(pd.Series(train[\"Survived\"], dtype='object'))\n",
    "train.drop([\"Survived\"], axis = 1, inplace = True)"
   ]
  },
  {
   "cell_type": "code",
   "execution_count": 34,
   "metadata": {},
   "outputs": [
    {
     "data": {
      "text/html": [
       "<div>\n",
       "<style scoped>\n",
       "    .dataframe tbody tr th:only-of-type {\n",
       "        vertical-align: middle;\n",
       "    }\n",
       "\n",
       "    .dataframe tbody tr th {\n",
       "        vertical-align: top;\n",
       "    }\n",
       "\n",
       "    .dataframe thead th {\n",
       "        text-align: right;\n",
       "    }\n",
       "</style>\n",
       "<table border=\"1\" class=\"dataframe\">\n",
       "  <thead>\n",
       "    <tr style=\"text-align: right;\">\n",
       "      <th></th>\n",
       "      <th>PassengerId</th>\n",
       "      <th>Pclass</th>\n",
       "      <th>Sex</th>\n",
       "      <th>Age</th>\n",
       "      <th>SibSp</th>\n",
       "      <th>Parch</th>\n",
       "      <th>Ticket</th>\n",
       "      <th>Fare</th>\n",
       "      <th>Embarked</th>\n",
       "    </tr>\n",
       "  </thead>\n",
       "  <tbody>\n",
       "    <tr>\n",
       "      <th>0</th>\n",
       "      <td>1</td>\n",
       "      <td>3</td>\n",
       "      <td>male</td>\n",
       "      <td>3.091042</td>\n",
       "      <td>1</td>\n",
       "      <td>0</td>\n",
       "      <td>A/5 21171</td>\n",
       "      <td>1.981001</td>\n",
       "      <td>S</td>\n",
       "    </tr>\n",
       "    <tr>\n",
       "      <th>1</th>\n",
       "      <td>2</td>\n",
       "      <td>1</td>\n",
       "      <td>female</td>\n",
       "      <td>3.637586</td>\n",
       "      <td>1</td>\n",
       "      <td>0</td>\n",
       "      <td>PC 17599</td>\n",
       "      <td>4.266662</td>\n",
       "      <td>C</td>\n",
       "    </tr>\n",
       "    <tr>\n",
       "      <th>2</th>\n",
       "      <td>3</td>\n",
       "      <td>3</td>\n",
       "      <td>female</td>\n",
       "      <td>3.258097</td>\n",
       "      <td>0</td>\n",
       "      <td>0</td>\n",
       "      <td>STON/O2. 3101282</td>\n",
       "      <td>2.070022</td>\n",
       "      <td>S</td>\n",
       "    </tr>\n",
       "    <tr>\n",
       "      <th>3</th>\n",
       "      <td>4</td>\n",
       "      <td>1</td>\n",
       "      <td>female</td>\n",
       "      <td>3.555348</td>\n",
       "      <td>1</td>\n",
       "      <td>0</td>\n",
       "      <td>113803</td>\n",
       "      <td>3.972177</td>\n",
       "      <td>S</td>\n",
       "    </tr>\n",
       "    <tr>\n",
       "      <th>4</th>\n",
       "      <td>5</td>\n",
       "      <td>3</td>\n",
       "      <td>male</td>\n",
       "      <td>3.555348</td>\n",
       "      <td>0</td>\n",
       "      <td>0</td>\n",
       "      <td>373450</td>\n",
       "      <td>2.085672</td>\n",
       "      <td>S</td>\n",
       "    </tr>\n",
       "    <tr>\n",
       "      <th>5</th>\n",
       "      <td>6</td>\n",
       "      <td>3</td>\n",
       "      <td>male</td>\n",
       "      <td>3.390921</td>\n",
       "      <td>0</td>\n",
       "      <td>0</td>\n",
       "      <td>330877</td>\n",
       "      <td>2.135148</td>\n",
       "      <td>Q</td>\n",
       "    </tr>\n",
       "    <tr>\n",
       "      <th>6</th>\n",
       "      <td>7</td>\n",
       "      <td>1</td>\n",
       "      <td>male</td>\n",
       "      <td>3.988984</td>\n",
       "      <td>0</td>\n",
       "      <td>0</td>\n",
       "      <td>17463</td>\n",
       "      <td>3.948596</td>\n",
       "      <td>S</td>\n",
       "    </tr>\n",
       "    <tr>\n",
       "      <th>7</th>\n",
       "      <td>8</td>\n",
       "      <td>3</td>\n",
       "      <td>male</td>\n",
       "      <td>0.693147</td>\n",
       "      <td>3</td>\n",
       "      <td>1</td>\n",
       "      <td>349909</td>\n",
       "      <td>3.048088</td>\n",
       "      <td>S</td>\n",
       "    </tr>\n",
       "    <tr>\n",
       "      <th>8</th>\n",
       "      <td>9</td>\n",
       "      <td>3</td>\n",
       "      <td>female</td>\n",
       "      <td>3.295837</td>\n",
       "      <td>0</td>\n",
       "      <td>2</td>\n",
       "      <td>347742</td>\n",
       "      <td>2.409941</td>\n",
       "      <td>S</td>\n",
       "    </tr>\n",
       "    <tr>\n",
       "      <th>9</th>\n",
       "      <td>10</td>\n",
       "      <td>2</td>\n",
       "      <td>female</td>\n",
       "      <td>2.639057</td>\n",
       "      <td>1</td>\n",
       "      <td>0</td>\n",
       "      <td>237736</td>\n",
       "      <td>3.403555</td>\n",
       "      <td>C</td>\n",
       "    </tr>\n",
       "  </tbody>\n",
       "</table>\n",
       "</div>"
      ],
      "text/plain": [
       "   PassengerId Pclass     Sex       Age SibSp Parch            Ticket  \\\n",
       "0            1      3    male  3.091042     1     0         A/5 21171   \n",
       "1            2      1  female  3.637586     1     0          PC 17599   \n",
       "2            3      3  female  3.258097     0     0  STON/O2. 3101282   \n",
       "3            4      1  female  3.555348     1     0            113803   \n",
       "4            5      3    male  3.555348     0     0            373450   \n",
       "5            6      3    male  3.390921     0     0            330877   \n",
       "6            7      1    male  3.988984     0     0             17463   \n",
       "7            8      3    male  0.693147     3     1            349909   \n",
       "8            9      3  female  3.295837     0     2            347742   \n",
       "9           10      2  female  2.639057     1     0            237736   \n",
       "\n",
       "       Fare Embarked  \n",
       "0  1.981001        S  \n",
       "1  4.266662        C  \n",
       "2  2.070022        S  \n",
       "3  3.972177        S  \n",
       "4  2.085672        S  \n",
       "5  2.135148        Q  \n",
       "6  3.948596        S  \n",
       "7  3.048088        S  \n",
       "8  2.409941        S  \n",
       "9  3.403555        C  "
      ]
     },
     "execution_count": 34,
     "metadata": {},
     "output_type": "execute_result"
    }
   ],
   "source": [
    "train.head(10)"
   ]
  },
  {
   "cell_type": "code",
   "execution_count": 35,
   "metadata": {},
   "outputs": [
    {
     "name": "stdout",
     "output_type": "stream",
     "text": [
      "<class 'pandas.core.frame.DataFrame'>\n",
      "RangeIndex: 891 entries, 0 to 890\n",
      "Data columns (total 9 columns):\n",
      "PassengerId    891 non-null int64\n",
      "Pclass         891 non-null object\n",
      "Sex            891 non-null object\n",
      "Age            891 non-null float64\n",
      "SibSp          891 non-null object\n",
      "Parch          891 non-null object\n",
      "Ticket         891 non-null object\n",
      "Fare           891 non-null float64\n",
      "Embarked       889 non-null object\n",
      "dtypes: float64(2), int64(1), object(6)\n",
      "memory usage: 62.7+ KB\n"
     ]
    }
   ],
   "source": [
    "train.info()"
   ]
  },
  {
   "cell_type": "code",
   "execution_count": 36,
   "metadata": {},
   "outputs": [
    {
     "data": {
      "text/plain": [
       "PassengerId    0\n",
       "Pclass         0\n",
       "Sex            0\n",
       "Age            0\n",
       "SibSp          0\n",
       "Parch          0\n",
       "Ticket         0\n",
       "Fare           0\n",
       "Embarked       2\n",
       "dtype: int64"
      ]
     },
     "execution_count": 36,
     "metadata": {},
     "output_type": "execute_result"
    }
   ],
   "source": [
    "train.isna().sum()"
   ]
  },
  {
   "cell_type": "markdown",
   "metadata": {},
   "source": [
    "# Test set conversions"
   ]
  },
  {
   "cell_type": "code",
   "execution_count": 37,
   "metadata": {},
   "outputs": [
    {
     "data": {
      "text/plain": [
       "PassengerId    0\n",
       "Pclass         0\n",
       "Sex            0\n",
       "Age            0\n",
       "SibSp          0\n",
       "Parch          0\n",
       "Ticket         0\n",
       "Fare           0\n",
       "Embarked       0\n",
       "dtype: int64"
      ]
     },
     "execution_count": 37,
     "metadata": {},
     "output_type": "execute_result"
    }
   ],
   "source": [
    "test = pd.read_csv(\"test.csv\")\n",
    "test[\"Pclass\"] = test[\"Pclass\"].astype(\"object\")\n",
    "test[\"SibSp\"] = test[\"SibSp\"].astype(\"object\")\n",
    "test[\"Parch\"] = test[\"Parch\"].astype(\"object\")\n",
    "test.drop([\"Cabin\"], axis=1, inplace = True)\n",
    "test.drop([\"Name\"], axis=1, inplace = True)\n",
    "test[\"Age\"] = test[\"Age\"].round()\n",
    "test['Age'].fillna(test['Age'].mean(), inplace=True)\n",
    "test['Fare'].fillna(test['Fare'].mean(), inplace=True)\n",
    "\n",
    "test.isna().sum()"
   ]
  },
  {
   "cell_type": "code",
   "execution_count": 38,
   "metadata": {},
   "outputs": [
    {
     "data": {
      "text/plain": [
       "<matplotlib.axes._subplots.AxesSubplot at 0x7f2b735fd828>"
      ]
     },
     "execution_count": 38,
     "metadata": {},
     "output_type": "execute_result"
    },
    {
     "data": {
      "image/png": "[encoded data removed]",
      "text/plain": [
       "<Figure size 432x288 with 1 Axes>"
      ]
     },
     "metadata": {
      "needs_background": "light"
     },
     "output_type": "display_data"
    }
   ],
   "source": [
    "sb.distplot(test[\"Fare\"])"
   ]
  },
  {
   "cell_type": "code",
   "execution_count": 39,
   "metadata": {},
   "outputs": [],
   "source": [
    "for i in range(len(test[\"Fare\"])):\n",
    "    if test[\"Fare\"].iloc()[i] < 1:\n",
    "        test[\"Fare\"].iloc()[i] = 1\n",
    "test[\"Fare\"] = pd.Series(np.log(test[\"Fare\"]))\n"
   ]
  },
  {
   "cell_type": "code",
   "execution_count": 40,
   "metadata": {},
   "outputs": [
    {
     "data": {
      "text/plain": [
       "<matplotlib.axes._subplots.AxesSubplot at 0x7f2b7354d128>"
      ]
     },
     "execution_count": 40,
     "metadata": {},
     "output_type": "execute_result"
    },
    {
     "data": {
      "image/png": "[encoded data removed]",
      "text/plain": [
       "<Figure size 432x288 with 1 Axes>"
      ]
     },
     "metadata": {
      "needs_background": "light"
     },
     "output_type": "display_data"
    }
   ],
   "source": [
    "sb.distplot(test[\"Fare\"])"
   ]
  },
  {
   "cell_type": "code",
   "execution_count": 41,
   "metadata": {},
   "outputs": [
    {
     "data": {
      "text/plain": [
       "<matplotlib.axes._subplots.AxesSubplot at 0x7f2b73447dd8>"
      ]
     },
     "execution_count": 41,
     "metadata": {},
     "output_type": "execute_result"
    },
    {
     "data": {
      "image/png": "[encoded data removed]",
      "text/plain": [
       "<Figure size 432x288 with 1 Axes>"
      ]
     },
     "metadata": {
      "needs_background": "light"
     },
     "output_type": "display_data"
    }
   ],
   "source": [
    "sb.distplot(test[\"Age\"])"
   ]
  },
  {
   "cell_type": "code",
   "execution_count": 42,
   "metadata": {},
   "outputs": [
    {
     "data": {
      "text/plain": [
       "<matplotlib.axes._subplots.AxesSubplot at 0x7f2b735ff198>"
      ]
     },
     "execution_count": 42,
     "metadata": {},
     "output_type": "execute_result"
    },
    {
     "data": {
      "image/png": "[encoded data removed]",
      "text/plain": [
       "<Figure size 432x288 with 1 Axes>"
      ]
     },
     "metadata": {
      "needs_background": "light"
     },
     "output_type": "display_data"
    }
   ],
   "source": [
    "for i in range(len(test[\"Age\"])):\n",
    "    if test[\"Age\"].iloc()[i] < 1:\n",
    "        test[\"Age\"].iloc()[i] = 1\n",
    "test[\"Age\"] = pd.Series(np.log(test[\"Age\"]))\n",
    "sb.distplot(test[\"Age\"])"
   ]
  },
  {
   "cell_type": "code",
   "execution_count": 43,
   "metadata": {},
   "outputs": [
    {
     "name": "stdout",
     "output_type": "stream",
     "text": [
      "<class 'pandas.core.frame.DataFrame'>\n",
      "RangeIndex: 418 entries, 0 to 417\n",
      "Data columns (total 9 columns):\n",
      "PassengerId    418 non-null int64\n",
      "Pclass         418 non-null object\n",
      "Sex            418 non-null object\n",
      "Age            418 non-null float64\n",
      "SibSp          418 non-null object\n",
      "Parch          418 non-null object\n",
      "Ticket         418 non-null object\n",
      "Fare           418 non-null float64\n",
      "Embarked       418 non-null object\n",
      "dtypes: float64(2), int64(1), object(6)\n",
      "memory usage: 29.5+ KB\n"
     ]
    }
   ],
   "source": [
    "test.info()"
   ]
  },
  {
   "cell_type": "code",
   "execution_count": 44,
   "metadata": {},
   "outputs": [
    {
     "name": "stderr",
     "output_type": "stream",
     "text": [
      "/usr/local/lib/python3.5/dist-packages/pandas/core/frame.py:3940: SettingWithCopyWarning: \n",
      "A value is trying to be set on a copy of a slice from a DataFrame\n",
      "\n",
      "See the caveats in the documentation: http://pandas.pydata.org/pandas-docs/stable/indexing.html#indexing-view-versus-copy\n",
      "  errors=errors)\n"
     ]
    }
   ],
   "source": [
    "train['train'] = 1\n",
    "test['train'] = 0\n",
    "combined = pd.concat([train, test])\n",
    "\n",
    "tickets = combined[\"Ticket\"]\n",
    "combined.drop([\"Ticket\"], axis = 1, inplace = True)\n",
    "\n",
    "df = pd.get_dummies(combined, columns = list(combined.select_dtypes(include='object')))\n",
    "\n",
    "train = df[df['train'] == 1]\n",
    "test = df[df['train'] == 0]\n",
    "    \n",
    "train.drop([\"train\"], axis = 1, inplace = True)\n",
    "test.drop([\"train\"], axis = 1, inplace = True)"
   ]
  },
  {
   "cell_type": "code",
   "execution_count": 45,
   "metadata": {},
   "outputs": [
    {
     "data": {
      "text/plain": [
       "<matplotlib.axes._subplots.AxesSubplot at 0x7f2b73382b38>"
      ]
     },
     "execution_count": 45,
     "metadata": {},
     "output_type": "execute_result"
    },
    {
     "data": {
      "image/png": "[encoded data removed]",
      "text/plain": [
       "<Figure size 432x288 with 1 Axes>"
      ]
     },
     "metadata": {
      "needs_background": "light"
     },
     "output_type": "display_data"
    }
   ],
   "source": [
    "sb.distplot(tickets.value_counts())"
   ]
  },
  {
   "cell_type": "code",
   "execution_count": 46,
   "metadata": {},
   "outputs": [
    {
     "data": {
      "text/plain": [
       "713"
      ]
     },
     "execution_count": 46,
     "metadata": {},
     "output_type": "execute_result"
    }
   ],
   "source": [
    "(tickets.value_counts() == 1).sum()"
   ]
  },
  {
   "cell_type": "code",
   "execution_count": 47,
   "metadata": {},
   "outputs": [
    {
     "name": "stdout",
     "output_type": "stream",
     "text": [
      "<class 'pandas.core.frame.DataFrame'>\n",
      "Int64Index: 891 entries, 0 to 890\n",
      "Data columns (total 26 columns):\n",
      "PassengerId    891 non-null int64\n",
      "Age            891 non-null float64\n",
      "Fare           891 non-null float64\n",
      "Pclass_1       891 non-null uint8\n",
      "Pclass_2       891 non-null uint8\n",
      "Pclass_3       891 non-null uint8\n",
      "Sex_female     891 non-null uint8\n",
      "Sex_male       891 non-null uint8\n",
      "SibSp_0        891 non-null uint8\n",
      "SibSp_1        891 non-null uint8\n",
      "SibSp_2        891 non-null uint8\n",
      "SibSp_3        891 non-null uint8\n",
      "SibSp_4        891 non-null uint8\n",
      "SibSp_5        891 non-null uint8\n",
      "SibSp_8        891 non-null uint8\n",
      "Parch_0        891 non-null uint8\n",
      "Parch_1        891 non-null uint8\n",
      "Parch_2        891 non-null uint8\n",
      "Parch_3        891 non-null uint8\n",
      "Parch_4        891 non-null uint8\n",
      "Parch_5        891 non-null uint8\n",
      "Parch_6        891 non-null uint8\n",
      "Parch_9        891 non-null uint8\n",
      "Embarked_C     891 non-null uint8\n",
      "Embarked_Q     891 non-null uint8\n",
      "Embarked_S     891 non-null uint8\n",
      "dtypes: float64(2), int64(1), uint8(23)\n",
      "memory usage: 47.9 KB\n"
     ]
    }
   ],
   "source": [
    "train.info()"
   ]
  },
  {
   "cell_type": "code",
   "execution_count": 48,
   "metadata": {},
   "outputs": [
    {
     "name": "stdout",
     "output_type": "stream",
     "text": [
      "<class 'pandas.core.frame.DataFrame'>\n",
      "Int64Index: 418 entries, 0 to 417\n",
      "Data columns (total 26 columns):\n",
      "PassengerId    418 non-null int64\n",
      "Age            418 non-null float64\n",
      "Fare           418 non-null float64\n",
      "Pclass_1       418 non-null uint8\n",
      "Pclass_2       418 non-null uint8\n",
      "Pclass_3       418 non-null uint8\n",
      "Sex_female     418 non-null uint8\n",
      "Sex_male       418 non-null uint8\n",
      "SibSp_0        418 non-null uint8\n",
      "SibSp_1        418 non-null uint8\n",
      "SibSp_2        418 non-null uint8\n",
      "SibSp_3        418 non-null uint8\n",
      "SibSp_4        418 non-null uint8\n",
      "SibSp_5        418 non-null uint8\n",
      "SibSp_8        418 non-null uint8\n",
      "Parch_0        418 non-null uint8\n",
      "Parch_1        418 non-null uint8\n",
      "Parch_2        418 non-null uint8\n",
      "Parch_3        418 non-null uint8\n",
      "Parch_4        418 non-null uint8\n",
      "Parch_5        418 non-null uint8\n",
      "Parch_6        418 non-null uint8\n",
      "Parch_9        418 non-null uint8\n",
      "Embarked_C     418 non-null uint8\n",
      "Embarked_Q     418 non-null uint8\n",
      "Embarked_S     418 non-null uint8\n",
      "dtypes: float64(2), int64(1), uint8(23)\n",
      "memory usage: 22.5 KB\n"
     ]
    }
   ],
   "source": [
    "test.info()"
   ]
  },
  {
   "cell_type": "code",
   "execution_count": 49,
   "metadata": {},
   "outputs": [
    {
     "name": "stderr",
     "output_type": "stream",
     "text": [
      "/usr/local/lib/python3.5/dist-packages/pandas/core/frame.py:3940: SettingWithCopyWarning: \n",
      "A value is trying to be set on a copy of a slice from a DataFrame\n",
      "\n",
      "See the caveats in the documentation: http://pandas.pydata.org/pandas-docs/stable/indexing.html#indexing-view-versus-copy\n",
      "  errors=errors)\n"
     ]
    }
   ],
   "source": [
    "train.drop([\"PassengerId\"], axis = 1, inplace = True)\n",
    "passengerIdTest = test[\"PassengerId\"]\n",
    "test.drop([\"PassengerId\"], axis = 1, inplace = True)"
   ]
  },
  {
   "cell_type": "code",
   "execution_count": 50,
   "metadata": {},
   "outputs": [],
   "source": [
    "#Normalizing the data\n",
    "#from sklearn.preprocessing import StandardScaler\n",
    "#sc = StandardScaler()\n",
    "#train = sc.fit_transform(train)\n",
    "#test = sc.fit_transform(test)"
   ]
  },
  {
   "cell_type": "markdown",
   "metadata": {},
   "source": [
    "# Modelling Time"
   ]
  },
  {
   "cell_type": "code",
   "execution_count": 51,
   "metadata": {},
   "outputs": [],
   "source": [
    "from sklearn.model_selection import train_test_split\n",
    "X_train,X_test,y_train,y_test=train_test_split(train,label,test_size=0.25,random_state=0)"
   ]
  },
  {
   "cell_type": "code",
   "execution_count": 52,
   "metadata": {},
   "outputs": [
    {
     "name": "stderr",
     "output_type": "stream",
     "text": [
      "Using TensorFlow backend.\n"
     ]
    }
   ],
   "source": [
    "#add DL here\n",
    "#Dependencies\n",
    "import keras\n",
    "from keras.models import Sequential\n",
    "from keras.layers import Dense\n",
    "from keras.layers import Dropout\n",
    "from keras.callbacks import EarlyStopping\n",
    "from keras import regularizers\n",
    "\n",
    "# Neural network\n",
    "model = Sequential()\n",
    "model.add(Dense(25, input_dim = 25, activation='relu'))\n",
    "model.add(Dropout(0.4))\n",
    "model.add(Dense(10, activation='relu'))\n",
    "model.add(Dropout(0.4))\n",
    "model.add(Dense(5, activation='relu'))\n",
    "model.add(Dropout(0.4))\n",
    "model.add(Dense(2, activation='sigmoid'))"
   ]
  },
  {
   "cell_type": "code",
   "execution_count": 53,
   "metadata": {},
   "outputs": [
    {
     "name": "stdout",
     "output_type": "stream",
     "text": [
      "Train on 668 samples, validate on 223 samples\n",
      "Epoch 1/500\n",
      "668/668 [==============================] - 0s 450us/step - loss: 0.7042 - accuracy: 0.5876 - val_loss: 0.6487 - val_accuracy: 0.6592\n",
      "Epoch 2/500\n",
      "668/668 [==============================] - 0s 59us/step - loss: 0.7225 - accuracy: 0.5943 - val_loss: 0.6457 - val_accuracy: 0.6435\n",
      "Epoch 3/500\n",
      "668/668 [==============================] - 0s 63us/step - loss: 0.6749 - accuracy: 0.5838 - val_loss: 0.6339 - val_accuracy: 0.6278\n",
      "Epoch 4/500\n",
      "668/668 [==============================] - 0s 63us/step - loss: 0.6600 - accuracy: 0.6100 - val_loss: 0.6169 - val_accuracy: 0.6278\n",
      "Epoch 5/500\n",
      "668/668 [==============================] - 0s 60us/step - loss: 0.6445 - accuracy: 0.6153 - val_loss: 0.6019 - val_accuracy: 0.6256\n",
      "Epoch 6/500\n",
      "668/668 [==============================] - 0s 56us/step - loss: 0.6502 - accuracy: 0.5966 - val_loss: 0.5952 - val_accuracy: 0.6256\n",
      "Epoch 7/500\n",
      "668/668 [==============================] - 0s 57us/step - loss: 0.6494 - accuracy: 0.6048 - val_loss: 0.5845 - val_accuracy: 0.6233\n",
      "Epoch 8/500\n",
      "668/668 [==============================] - 0s 63us/step - loss: 0.6322 - accuracy: 0.6078 - val_loss: 0.5773 - val_accuracy: 0.6233\n",
      "Epoch 9/500\n",
      "668/668 [==============================] - 0s 50us/step - loss: 0.6485 - accuracy: 0.6003 - val_loss: 0.5704 - val_accuracy: 0.6233\n",
      "Epoch 10/500\n",
      "668/668 [==============================] - 0s 60us/step - loss: 0.6278 - accuracy: 0.6040 - val_loss: 0.5645 - val_accuracy: 0.6233\n",
      "Epoch 11/500\n",
      "668/668 [==============================] - 0s 58us/step - loss: 0.6494 - accuracy: 0.6063 - val_loss: 0.5686 - val_accuracy: 0.6233\n",
      "Epoch 12/500\n",
      "668/668 [==============================] - 0s 58us/step - loss: 0.6343 - accuracy: 0.6130 - val_loss: 0.5618 - val_accuracy: 0.6233\n",
      "Epoch 13/500\n",
      "668/668 [==============================] - 0s 59us/step - loss: 0.6464 - accuracy: 0.6033 - val_loss: 0.5636 - val_accuracy: 0.6233\n",
      "Epoch 14/500\n",
      "668/668 [==============================] - 0s 49us/step - loss: 0.6359 - accuracy: 0.6018 - val_loss: 0.5665 - val_accuracy: 0.6233\n",
      "Epoch 15/500\n",
      "668/668 [==============================] - 0s 55us/step - loss: 0.6150 - accuracy: 0.6040 - val_loss: 0.5588 - val_accuracy: 0.6233\n",
      "Epoch 16/500\n",
      "668/668 [==============================] - 0s 55us/step - loss: 0.6119 - accuracy: 0.6115 - val_loss: 0.5531 - val_accuracy: 0.6233\n",
      "Epoch 17/500\n",
      "668/668 [==============================] - 0s 51us/step - loss: 0.6208 - accuracy: 0.6175 - val_loss: 0.5539 - val_accuracy: 0.6233\n",
      "Epoch 18/500\n",
      "668/668 [==============================] - 0s 56us/step - loss: 0.6269 - accuracy: 0.6063 - val_loss: 0.5523 - val_accuracy: 0.6233\n",
      "Epoch 19/500\n",
      "668/668 [==============================] - 0s 50us/step - loss: 0.6280 - accuracy: 0.6093 - val_loss: 0.5525 - val_accuracy: 0.6233\n",
      "Epoch 20/500\n",
      "668/668 [==============================] - 0s 54us/step - loss: 0.6172 - accuracy: 0.6123 - val_loss: 0.5491 - val_accuracy: 0.6233\n",
      "Epoch 21/500\n",
      "668/668 [==============================] - 0s 53us/step - loss: 0.5905 - accuracy: 0.6130 - val_loss: 0.5418 - val_accuracy: 0.6233\n",
      "Epoch 22/500\n",
      "668/668 [==============================] - 0s 50us/step - loss: 0.6256 - accuracy: 0.6108 - val_loss: 0.5408 - val_accuracy: 0.6233\n",
      "Epoch 23/500\n",
      "668/668 [==============================] - 0s 50us/step - loss: 0.6232 - accuracy: 0.6115 - val_loss: 0.5452 - val_accuracy: 0.6233\n",
      "Epoch 24/500\n",
      "668/668 [==============================] - 0s 58us/step - loss: 0.6115 - accuracy: 0.6115 - val_loss: 0.5449 - val_accuracy: 0.6233\n",
      "Epoch 25/500\n",
      "668/668 [==============================] - 0s 52us/step - loss: 0.6051 - accuracy: 0.6093 - val_loss: 0.5422 - val_accuracy: 0.6233\n",
      "Epoch 26/500\n",
      "668/668 [==============================] - 0s 61us/step - loss: 0.6013 - accuracy: 0.6055 - val_loss: 0.5436 - val_accuracy: 0.6233\n",
      "Epoch 27/500\n",
      "668/668 [==============================] - 0s 58us/step - loss: 0.6014 - accuracy: 0.6115 - val_loss: 0.5410 - val_accuracy: 0.6233\n",
      "Epoch 28/500\n",
      "668/668 [==============================] - 0s 60us/step - loss: 0.6146 - accuracy: 0.6160 - val_loss: 0.5393 - val_accuracy: 0.6233\n",
      "Epoch 29/500\n",
      "668/668 [==============================] - 0s 58us/step - loss: 0.6007 - accuracy: 0.6100 - val_loss: 0.5400 - val_accuracy: 0.6233\n",
      "Epoch 30/500\n",
      "668/668 [==============================] - 0s 57us/step - loss: 0.6013 - accuracy: 0.6108 - val_loss: 0.5376 - val_accuracy: 0.6233\n",
      "Epoch 31/500\n",
      "668/668 [==============================] - 0s 48us/step - loss: 0.6038 - accuracy: 0.6123 - val_loss: 0.5408 - val_accuracy: 0.6233\n",
      "Epoch 32/500\n",
      "668/668 [==============================] - 0s 60us/step - loss: 0.5850 - accuracy: 0.6190 - val_loss: 0.5349 - val_accuracy: 0.6233\n",
      "Epoch 33/500\n",
      "668/668 [==============================] - 0s 55us/step - loss: 0.5830 - accuracy: 0.6332 - val_loss: 0.5307 - val_accuracy: 0.6794\n",
      "Epoch 34/500\n",
      "668/668 [==============================] - 0s 60us/step - loss: 0.5883 - accuracy: 0.6265 - val_loss: 0.5299 - val_accuracy: 0.7108\n",
      "Epoch 35/500\n",
      "668/668 [==============================] - 0s 55us/step - loss: 0.5820 - accuracy: 0.6490 - val_loss: 0.5258 - val_accuracy: 0.7108\n",
      "Epoch 36/500\n",
      "668/668 [==============================] - 0s 57us/step - loss: 0.6021 - accuracy: 0.6407 - val_loss: 0.5279 - val_accuracy: 0.7130\n",
      "Epoch 37/500\n",
      "668/668 [==============================] - 0s 53us/step - loss: 0.5857 - accuracy: 0.6617 - val_loss: 0.5264 - val_accuracy: 0.7130\n",
      "Epoch 38/500\n",
      "668/668 [==============================] - 0s 50us/step - loss: 0.5881 - accuracy: 0.6572 - val_loss: 0.5208 - val_accuracy: 0.7130\n",
      "Epoch 39/500\n",
      "668/668 [==============================] - 0s 50us/step - loss: 0.5872 - accuracy: 0.6557 - val_loss: 0.5218 - val_accuracy: 0.7108\n",
      "Epoch 40/500\n",
      "668/668 [==============================] - 0s 49us/step - loss: 0.5775 - accuracy: 0.6572 - val_loss: 0.5192 - val_accuracy: 0.7108\n",
      "Epoch 41/500\n",
      "668/668 [==============================] - 0s 47us/step - loss: 0.5848 - accuracy: 0.6587 - val_loss: 0.5179 - val_accuracy: 0.7108\n",
      "Epoch 42/500\n",
      "668/668 [==============================] - 0s 47us/step - loss: 0.5750 - accuracy: 0.6579 - val_loss: 0.5167 - val_accuracy: 0.7085\n",
      "Epoch 43/500\n",
      "668/668 [==============================] - 0s 52us/step - loss: 0.5643 - accuracy: 0.6609 - val_loss: 0.5108 - val_accuracy: 0.7063\n",
      "Epoch 44/500\n",
      "668/668 [==============================] - 0s 54us/step - loss: 0.5998 - accuracy: 0.6602 - val_loss: 0.5145 - val_accuracy: 0.7085\n",
      "Epoch 45/500\n",
      "668/668 [==============================] - 0s 53us/step - loss: 0.5815 - accuracy: 0.6894 - val_loss: 0.5185 - val_accuracy: 0.7915\n",
      "Epoch 46/500\n",
      "668/668 [==============================] - 0s 55us/step - loss: 0.5865 - accuracy: 0.7268 - val_loss: 0.5171 - val_accuracy: 0.7915\n",
      "Epoch 47/500\n",
      "668/668 [==============================] - 0s 54us/step - loss: 0.5966 - accuracy: 0.6916 - val_loss: 0.5211 - val_accuracy: 0.7937\n",
      "Epoch 48/500\n",
      "668/668 [==============================] - 0s 50us/step - loss: 0.5854 - accuracy: 0.6969 - val_loss: 0.5185 - val_accuracy: 0.7960\n",
      "Epoch 49/500\n",
      "668/668 [==============================] - 0s 49us/step - loss: 0.5798 - accuracy: 0.7126 - val_loss: 0.5154 - val_accuracy: 0.7937\n",
      "Epoch 50/500\n",
      "668/668 [==============================] - 0s 57us/step - loss: 0.5773 - accuracy: 0.6901 - val_loss: 0.5147 - val_accuracy: 0.7937\n",
      "Epoch 51/500\n",
      "668/668 [==============================] - 0s 51us/step - loss: 0.5725 - accuracy: 0.7186 - val_loss: 0.5150 - val_accuracy: 0.7915\n",
      "Epoch 52/500\n",
      "668/668 [==============================] - 0s 53us/step - loss: 0.5877 - accuracy: 0.7103 - val_loss: 0.5169 - val_accuracy: 0.7915\n",
      "Epoch 53/500\n",
      "668/668 [==============================] - 0s 48us/step - loss: 0.5737 - accuracy: 0.7111 - val_loss: 0.5147 - val_accuracy: 0.7915\n",
      "Epoch 54/500\n",
      "668/668 [==============================] - 0s 51us/step - loss: 0.6088 - accuracy: 0.6841 - val_loss: 0.5171 - val_accuracy: 0.7937\n",
      "Epoch 55/500\n",
      "668/668 [==============================] - 0s 49us/step - loss: 0.5755 - accuracy: 0.7178 - val_loss: 0.5151 - val_accuracy: 0.7960\n",
      "Epoch 56/500\n",
      "668/668 [==============================] - 0s 48us/step - loss: 0.5562 - accuracy: 0.7148 - val_loss: 0.5057 - val_accuracy: 0.7915\n",
      "Epoch 57/500\n"
     ]
    },
    {
     "name": "stdout",
     "output_type": "stream",
     "text": [
      "668/668 [==============================] - 0s 47us/step - loss: 0.6107 - accuracy: 0.6841 - val_loss: 0.5109 - val_accuracy: 0.7915\n",
      "Epoch 58/500\n",
      "668/668 [==============================] - 0s 49us/step - loss: 0.5657 - accuracy: 0.7313 - val_loss: 0.5065 - val_accuracy: 0.7915\n",
      "Epoch 59/500\n",
      "668/668 [==============================] - 0s 46us/step - loss: 0.5843 - accuracy: 0.7335 - val_loss: 0.5060 - val_accuracy: 0.7937\n",
      "Epoch 60/500\n",
      "668/668 [==============================] - 0s 49us/step - loss: 0.5752 - accuracy: 0.7268 - val_loss: 0.5083 - val_accuracy: 0.8027\n",
      "Epoch 61/500\n",
      "668/668 [==============================] - 0s 47us/step - loss: 0.5792 - accuracy: 0.6931 - val_loss: 0.5052 - val_accuracy: 0.7937\n",
      "Epoch 62/500\n",
      "668/668 [==============================] - 0s 52us/step - loss: 0.5721 - accuracy: 0.7186 - val_loss: 0.5081 - val_accuracy: 0.7937\n",
      "Epoch 63/500\n",
      "668/668 [==============================] - 0s 55us/step - loss: 0.5667 - accuracy: 0.7440 - val_loss: 0.4983 - val_accuracy: 0.7937\n",
      "Epoch 64/500\n",
      "668/668 [==============================] - 0s 53us/step - loss: 0.5388 - accuracy: 0.7478 - val_loss: 0.4913 - val_accuracy: 0.7937\n",
      "Epoch 65/500\n",
      "668/668 [==============================] - 0s 80us/step - loss: 0.5558 - accuracy: 0.7507 - val_loss: 0.4871 - val_accuracy: 0.7937\n",
      "Epoch 66/500\n",
      "668/668 [==============================] - 0s 54us/step - loss: 0.5770 - accuracy: 0.7231 - val_loss: 0.4878 - val_accuracy: 0.7937\n",
      "Epoch 67/500\n",
      "668/668 [==============================] - 0s 63us/step - loss: 0.5414 - accuracy: 0.7470 - val_loss: 0.4830 - val_accuracy: 0.7982\n",
      "Epoch 68/500\n",
      "668/668 [==============================] - 0s 67us/step - loss: 0.5550 - accuracy: 0.7358 - val_loss: 0.4786 - val_accuracy: 0.7982\n",
      "Epoch 69/500\n",
      "668/668 [==============================] - 0s 48us/step - loss: 0.5448 - accuracy: 0.7418 - val_loss: 0.4727 - val_accuracy: 0.7960\n",
      "Epoch 70/500\n",
      "668/668 [==============================] - 0s 46us/step - loss: 0.5625 - accuracy: 0.7522 - val_loss: 0.4727 - val_accuracy: 0.7937\n",
      "Epoch 71/500\n",
      "668/668 [==============================] - 0s 46us/step - loss: 0.5842 - accuracy: 0.7403 - val_loss: 0.4814 - val_accuracy: 0.7937\n",
      "Epoch 72/500\n",
      "668/668 [==============================] - 0s 48us/step - loss: 0.5181 - accuracy: 0.7777 - val_loss: 0.4727 - val_accuracy: 0.7937\n",
      "Epoch 73/500\n",
      "668/668 [==============================] - 0s 46us/step - loss: 0.5559 - accuracy: 0.7493 - val_loss: 0.4691 - val_accuracy: 0.7937\n",
      "Epoch 74/500\n",
      "668/668 [==============================] - 0s 50us/step - loss: 0.5523 - accuracy: 0.7567 - val_loss: 0.4661 - val_accuracy: 0.7960\n",
      "Epoch 75/500\n",
      "668/668 [==============================] - 0s 51us/step - loss: 0.5691 - accuracy: 0.7320 - val_loss: 0.4704 - val_accuracy: 0.7960\n",
      "Epoch 76/500\n",
      "668/668 [==============================] - 0s 59us/step - loss: 0.5215 - accuracy: 0.7642 - val_loss: 0.4652 - val_accuracy: 0.7937\n",
      "Epoch 77/500\n",
      "668/668 [==============================] - 0s 56us/step - loss: 0.5298 - accuracy: 0.7605 - val_loss: 0.4591 - val_accuracy: 0.7982\n",
      "Epoch 78/500\n",
      "668/668 [==============================] - 0s 52us/step - loss: 0.5367 - accuracy: 0.7395 - val_loss: 0.4605 - val_accuracy: 0.7960\n",
      "Epoch 79/500\n",
      "668/668 [==============================] - 0s 53us/step - loss: 0.5513 - accuracy: 0.7754 - val_loss: 0.4601 - val_accuracy: 0.7937\n",
      "Epoch 80/500\n",
      "668/668 [==============================] - 0s 51us/step - loss: 0.5414 - accuracy: 0.7784 - val_loss: 0.4605 - val_accuracy: 0.7937\n",
      "Epoch 81/500\n",
      "668/668 [==============================] - 0s 49us/step - loss: 0.5459 - accuracy: 0.7695 - val_loss: 0.4590 - val_accuracy: 0.7937\n",
      "Epoch 82/500\n",
      "668/668 [==============================] - 0s 49us/step - loss: 0.5116 - accuracy: 0.7822 - val_loss: 0.4544 - val_accuracy: 0.7937\n",
      "Epoch 83/500\n",
      "668/668 [==============================] - 0s 49us/step - loss: 0.5251 - accuracy: 0.7515 - val_loss: 0.4524 - val_accuracy: 0.7937\n",
      "Epoch 84/500\n",
      "668/668 [==============================] - 0s 46us/step - loss: 0.5238 - accuracy: 0.7478 - val_loss: 0.4523 - val_accuracy: 0.7937\n",
      "Epoch 85/500\n",
      "668/668 [==============================] - 0s 47us/step - loss: 0.5242 - accuracy: 0.7552 - val_loss: 0.4497 - val_accuracy: 0.7937\n",
      "Epoch 86/500\n",
      "668/668 [==============================] - 0s 50us/step - loss: 0.5390 - accuracy: 0.7687 - val_loss: 0.4541 - val_accuracy: 0.7937\n",
      "Epoch 87/500\n",
      "668/668 [==============================] - 0s 47us/step - loss: 0.5038 - accuracy: 0.7912 - val_loss: 0.4546 - val_accuracy: 0.7982\n",
      "Epoch 88/500\n",
      "668/668 [==============================] - 0s 49us/step - loss: 0.5255 - accuracy: 0.7740 - val_loss: 0.4538 - val_accuracy: 0.7982\n",
      "Epoch 89/500\n",
      "668/668 [==============================] - 0s 47us/step - loss: 0.5281 - accuracy: 0.7852 - val_loss: 0.4541 - val_accuracy: 0.7982\n",
      "Epoch 90/500\n",
      "668/668 [==============================] - 0s 47us/step - loss: 0.5333 - accuracy: 0.8001 - val_loss: 0.4575 - val_accuracy: 0.7960\n",
      "Epoch 91/500\n",
      "668/668 [==============================] - 0s 50us/step - loss: 0.5189 - accuracy: 0.7717 - val_loss: 0.4554 - val_accuracy: 0.7960\n",
      "Epoch 92/500\n",
      "668/668 [==============================] - 0s 49us/step - loss: 0.5198 - accuracy: 0.7837 - val_loss: 0.4583 - val_accuracy: 0.7937\n",
      "Epoch 93/500\n",
      "668/668 [==============================] - 0s 47us/step - loss: 0.5269 - accuracy: 0.7889 - val_loss: 0.4609 - val_accuracy: 0.7960\n",
      "Epoch 94/500\n",
      "668/668 [==============================] - 0s 49us/step - loss: 0.5064 - accuracy: 0.7784 - val_loss: 0.4557 - val_accuracy: 0.7960\n",
      "Epoch 95/500\n",
      "668/668 [==============================] - 0s 49us/step - loss: 0.5317 - accuracy: 0.7912 - val_loss: 0.4554 - val_accuracy: 0.7960\n",
      "Epoch 96/500\n",
      "668/668 [==============================] - 0s 49us/step - loss: 0.5003 - accuracy: 0.7852 - val_loss: 0.4545 - val_accuracy: 0.7960\n",
      "Epoch 97/500\n",
      "668/668 [==============================] - 0s 48us/step - loss: 0.5303 - accuracy: 0.7612 - val_loss: 0.4539 - val_accuracy: 0.7982\n",
      "Epoch 98/500\n",
      "668/668 [==============================] - 0s 46us/step - loss: 0.5280 - accuracy: 0.7852 - val_loss: 0.4560 - val_accuracy: 0.7982\n",
      "Epoch 99/500\n",
      "668/668 [==============================] - 0s 48us/step - loss: 0.5256 - accuracy: 0.7732 - val_loss: 0.4556 - val_accuracy: 0.7982\n",
      "Epoch 100/500\n",
      "668/668 [==============================] - 0s 48us/step - loss: 0.5256 - accuracy: 0.8001 - val_loss: 0.4572 - val_accuracy: 0.7982\n",
      "Epoch 101/500\n",
      "668/668 [==============================] - 0s 47us/step - loss: 0.5127 - accuracy: 0.7889 - val_loss: 0.4564 - val_accuracy: 0.7982\n",
      "Epoch 102/500\n",
      "668/668 [==============================] - 0s 47us/step - loss: 0.5388 - accuracy: 0.7882 - val_loss: 0.4573 - val_accuracy: 0.7982\n",
      "Epoch 103/500\n",
      "668/668 [==============================] - 0s 46us/step - loss: 0.4942 - accuracy: 0.7942 - val_loss: 0.4578 - val_accuracy: 0.7982\n",
      "Epoch 104/500\n",
      "668/668 [==============================] - 0s 54us/step - loss: 0.5369 - accuracy: 0.7837 - val_loss: 0.4587 - val_accuracy: 0.7982\n",
      "Epoch 105/500\n",
      "668/668 [==============================] - 0s 60us/step - loss: 0.5117 - accuracy: 0.7897 - val_loss: 0.4589 - val_accuracy: 0.7982\n",
      "Epoch 106/500\n",
      "668/668 [==============================] - 0s 56us/step - loss: 0.4911 - accuracy: 0.8001 - val_loss: 0.4595 - val_accuracy: 0.7982\n",
      "Epoch 107/500\n",
      "668/668 [==============================] - 0s 54us/step - loss: 0.5029 - accuracy: 0.7927 - val_loss: 0.4583 - val_accuracy: 0.7982\n",
      "Epoch 108/500\n",
      "668/668 [==============================] - 0s 52us/step - loss: 0.5213 - accuracy: 0.7934 - val_loss: 0.4592 - val_accuracy: 0.8027\n",
      "Epoch 109/500\n",
      "668/668 [==============================] - 0s 55us/step - loss: 0.5057 - accuracy: 0.7867 - val_loss: 0.4579 - val_accuracy: 0.7982\n",
      "Epoch 110/500\n",
      "668/668 [==============================] - 0s 48us/step - loss: 0.5332 - accuracy: 0.7627 - val_loss: 0.4620 - val_accuracy: 0.7982\n",
      "Epoch 111/500\n",
      "668/668 [==============================] - 0s 49us/step - loss: 0.5083 - accuracy: 0.7710 - val_loss: 0.4613 - val_accuracy: 0.7937\n",
      "Epoch 112/500\n",
      "668/668 [==============================] - 0s 51us/step - loss: 0.5264 - accuracy: 0.7957 - val_loss: 0.4585 - val_accuracy: 0.7937\n",
      "Epoch 113/500\n"
     ]
    },
    {
     "name": "stdout",
     "output_type": "stream",
     "text": [
      "668/668 [==============================] - 0s 52us/step - loss: 0.5431 - accuracy: 0.7612 - val_loss: 0.4602 - val_accuracy: 0.7915\n",
      "Epoch 114/500\n",
      "668/668 [==============================] - 0s 49us/step - loss: 0.5058 - accuracy: 0.7934 - val_loss: 0.4606 - val_accuracy: 0.7937\n",
      "Epoch 115/500\n",
      "668/668 [==============================] - 0s 45us/step - loss: 0.5037 - accuracy: 0.7777 - val_loss: 0.4568 - val_accuracy: 0.7937\n",
      "Epoch 116/500\n",
      "668/668 [==============================] - 0s 49us/step - loss: 0.5087 - accuracy: 0.7964 - val_loss: 0.4559 - val_accuracy: 0.7960\n",
      "Epoch 117/500\n",
      "668/668 [==============================] - 0s 47us/step - loss: 0.4939 - accuracy: 0.7754 - val_loss: 0.4532 - val_accuracy: 0.7960\n",
      "Epoch 118/500\n",
      "668/668 [==============================] - 0s 46us/step - loss: 0.5160 - accuracy: 0.7814 - val_loss: 0.4528 - val_accuracy: 0.7915\n",
      "Epoch 119/500\n",
      "668/668 [==============================] - 0s 49us/step - loss: 0.5034 - accuracy: 0.7717 - val_loss: 0.4557 - val_accuracy: 0.7892\n",
      "Epoch 120/500\n",
      "668/668 [==============================] - 0s 57us/step - loss: 0.4894 - accuracy: 0.7919 - val_loss: 0.4522 - val_accuracy: 0.7915\n",
      "Epoch 121/500\n",
      "668/668 [==============================] - 0s 58us/step - loss: 0.5167 - accuracy: 0.7927 - val_loss: 0.4524 - val_accuracy: 0.8004\n",
      "Epoch 122/500\n",
      "668/668 [==============================] - 0s 54us/step - loss: 0.4822 - accuracy: 0.8076 - val_loss: 0.4514 - val_accuracy: 0.7937\n",
      "Epoch 123/500\n",
      "668/668 [==============================] - 0s 55us/step - loss: 0.4803 - accuracy: 0.8024 - val_loss: 0.4491 - val_accuracy: 0.7937\n",
      "Epoch 124/500\n",
      "668/668 [==============================] - 0s 51us/step - loss: 0.4991 - accuracy: 0.7837 - val_loss: 0.4464 - val_accuracy: 0.7937\n",
      "Epoch 125/500\n",
      "668/668 [==============================] - 0s 46us/step - loss: 0.5393 - accuracy: 0.7867 - val_loss: 0.4461 - val_accuracy: 0.7937\n",
      "Epoch 126/500\n",
      "668/668 [==============================] - 0s 48us/step - loss: 0.4919 - accuracy: 0.7927 - val_loss: 0.4433 - val_accuracy: 0.7982\n",
      "Epoch 127/500\n",
      "668/668 [==============================] - 0s 47us/step - loss: 0.5288 - accuracy: 0.7792 - val_loss: 0.4488 - val_accuracy: 0.7982\n",
      "Epoch 128/500\n",
      "668/668 [==============================] - 0s 47us/step - loss: 0.5009 - accuracy: 0.7957 - val_loss: 0.4495 - val_accuracy: 0.7982\n",
      "Epoch 129/500\n",
      "668/668 [==============================] - 0s 48us/step - loss: 0.4968 - accuracy: 0.7740 - val_loss: 0.4459 - val_accuracy: 0.7960\n",
      "Epoch 130/500\n",
      "668/668 [==============================] - 0s 48us/step - loss: 0.5114 - accuracy: 0.7972 - val_loss: 0.4455 - val_accuracy: 0.7937\n",
      "Epoch 131/500\n",
      "668/668 [==============================] - 0s 47us/step - loss: 0.5354 - accuracy: 0.7882 - val_loss: 0.4508 - val_accuracy: 0.7937\n",
      "Epoch 132/500\n",
      "668/668 [==============================] - 0s 48us/step - loss: 0.5129 - accuracy: 0.7994 - val_loss: 0.4546 - val_accuracy: 0.7937\n",
      "Epoch 133/500\n",
      "668/668 [==============================] - 0s 47us/step - loss: 0.5065 - accuracy: 0.7949 - val_loss: 0.4492 - val_accuracy: 0.7960\n",
      "Epoch 134/500\n",
      "668/668 [==============================] - 0s 45us/step - loss: 0.4933 - accuracy: 0.7942 - val_loss: 0.4499 - val_accuracy: 0.7982\n",
      "Epoch 135/500\n",
      "668/668 [==============================] - 0s 47us/step - loss: 0.4770 - accuracy: 0.8024 - val_loss: 0.4441 - val_accuracy: 0.7937\n",
      "Epoch 136/500\n",
      "668/668 [==============================] - 0s 46us/step - loss: 0.4957 - accuracy: 0.7882 - val_loss: 0.4403 - val_accuracy: 0.7937\n",
      "Epoch 137/500\n",
      "668/668 [==============================] - 0s 45us/step - loss: 0.5208 - accuracy: 0.7769 - val_loss: 0.4458 - val_accuracy: 0.7960\n",
      "Epoch 138/500\n",
      "668/668 [==============================] - 0s 44us/step - loss: 0.4846 - accuracy: 0.7904 - val_loss: 0.4450 - val_accuracy: 0.7937\n",
      "Epoch 139/500\n",
      "668/668 [==============================] - 0s 48us/step - loss: 0.4757 - accuracy: 0.7994 - val_loss: 0.4409 - val_accuracy: 0.7915\n",
      "Epoch 140/500\n",
      "668/668 [==============================] - 0s 46us/step - loss: 0.4748 - accuracy: 0.8084 - val_loss: 0.4384 - val_accuracy: 0.7892\n",
      "Epoch 141/500\n",
      "668/668 [==============================] - 0s 46us/step - loss: 0.5089 - accuracy: 0.8181 - val_loss: 0.4374 - val_accuracy: 0.7892\n",
      "Epoch 142/500\n",
      "668/668 [==============================] - 0s 47us/step - loss: 0.4813 - accuracy: 0.8039 - val_loss: 0.4382 - val_accuracy: 0.7960\n",
      "Epoch 143/500\n",
      "668/668 [==============================] - 0s 43us/step - loss: 0.4887 - accuracy: 0.8099 - val_loss: 0.4358 - val_accuracy: 0.7982\n",
      "Epoch 144/500\n",
      "668/668 [==============================] - 0s 44us/step - loss: 0.4829 - accuracy: 0.7972 - val_loss: 0.4377 - val_accuracy: 0.7982\n",
      "Epoch 145/500\n",
      "668/668 [==============================] - 0s 46us/step - loss: 0.4754 - accuracy: 0.7987 - val_loss: 0.4373 - val_accuracy: 0.7982\n",
      "Epoch 146/500\n",
      "668/668 [==============================] - 0s 45us/step - loss: 0.4926 - accuracy: 0.7799 - val_loss: 0.4388 - val_accuracy: 0.7915\n",
      "Epoch 147/500\n",
      "668/668 [==============================] - 0s 48us/step - loss: 0.4770 - accuracy: 0.8181 - val_loss: 0.4361 - val_accuracy: 0.7892\n",
      "Epoch 148/500\n",
      "668/668 [==============================] - 0s 46us/step - loss: 0.4982 - accuracy: 0.7889 - val_loss: 0.4350 - val_accuracy: 0.7892\n",
      "Epoch 149/500\n",
      "668/668 [==============================] - 0s 50us/step - loss: 0.5031 - accuracy: 0.8106 - val_loss: 0.4376 - val_accuracy: 0.7937\n",
      "Epoch 150/500\n",
      "668/668 [==============================] - 0s 43us/step - loss: 0.5035 - accuracy: 0.8159 - val_loss: 0.4383 - val_accuracy: 0.7915\n",
      "Epoch 151/500\n",
      "668/668 [==============================] - 0s 48us/step - loss: 0.4888 - accuracy: 0.7934 - val_loss: 0.4376 - val_accuracy: 0.7982\n",
      "Epoch 152/500\n",
      "668/668 [==============================] - 0s 47us/step - loss: 0.5000 - accuracy: 0.8069 - val_loss: 0.4394 - val_accuracy: 0.7937\n",
      "Epoch 153/500\n",
      "668/668 [==============================] - 0s 47us/step - loss: 0.5036 - accuracy: 0.7912 - val_loss: 0.4387 - val_accuracy: 0.7937\n",
      "Epoch 154/500\n",
      "668/668 [==============================] - 0s 45us/step - loss: 0.4711 - accuracy: 0.7994 - val_loss: 0.4369 - val_accuracy: 0.7960\n",
      "Epoch 155/500\n",
      "668/668 [==============================] - 0s 44us/step - loss: 0.5010 - accuracy: 0.7994 - val_loss: 0.4358 - val_accuracy: 0.7937\n",
      "Epoch 156/500\n",
      "668/668 [==============================] - 0s 48us/step - loss: 0.4894 - accuracy: 0.7799 - val_loss: 0.4356 - val_accuracy: 0.7937\n",
      "Epoch 157/500\n",
      "668/668 [==============================] - 0s 44us/step - loss: 0.4865 - accuracy: 0.7964 - val_loss: 0.4402 - val_accuracy: 0.7982\n",
      "Epoch 158/500\n",
      "668/668 [==============================] - 0s 46us/step - loss: 0.4950 - accuracy: 0.8016 - val_loss: 0.4367 - val_accuracy: 0.7982\n",
      "Epoch 159/500\n",
      "668/668 [==============================] - 0s 44us/step - loss: 0.4895 - accuracy: 0.7942 - val_loss: 0.4358 - val_accuracy: 0.7982\n",
      "Epoch 160/500\n",
      "668/668 [==============================] - 0s 46us/step - loss: 0.5047 - accuracy: 0.7889 - val_loss: 0.4375 - val_accuracy: 0.7982\n",
      "Epoch 161/500\n",
      "668/668 [==============================] - 0s 48us/step - loss: 0.4873 - accuracy: 0.8061 - val_loss: 0.4395 - val_accuracy: 0.8027\n",
      "Epoch 162/500\n",
      "668/668 [==============================] - 0s 47us/step - loss: 0.4946 - accuracy: 0.7934 - val_loss: 0.4411 - val_accuracy: 0.7982\n",
      "Epoch 163/500\n",
      "668/668 [==============================] - 0s 46us/step - loss: 0.4826 - accuracy: 0.7972 - val_loss: 0.4385 - val_accuracy: 0.7982\n",
      "Epoch 164/500\n",
      "668/668 [==============================] - 0s 53us/step - loss: 0.5007 - accuracy: 0.8136 - val_loss: 0.4399 - val_accuracy: 0.7982\n",
      "Epoch 165/500\n",
      "668/668 [==============================] - 0s 54us/step - loss: 0.5002 - accuracy: 0.7979 - val_loss: 0.4408 - val_accuracy: 0.7982\n",
      "Epoch 166/500\n",
      "668/668 [==============================] - 0s 54us/step - loss: 0.4956 - accuracy: 0.8009 - val_loss: 0.4394 - val_accuracy: 0.7982\n",
      "Epoch 167/500\n",
      "668/668 [==============================] - 0s 52us/step - loss: 0.4835 - accuracy: 0.8241 - val_loss: 0.4392 - val_accuracy: 0.7982\n",
      "Epoch 168/500\n",
      "668/668 [==============================] - 0s 55us/step - loss: 0.5002 - accuracy: 0.8106 - val_loss: 0.4388 - val_accuracy: 0.7982\n",
      "Epoch 169/500\n"
     ]
    },
    {
     "name": "stdout",
     "output_type": "stream",
     "text": [
      "668/668 [==============================] - 0s 55us/step - loss: 0.5041 - accuracy: 0.7979 - val_loss: 0.4418 - val_accuracy: 0.7982\n",
      "Epoch 170/500\n",
      "668/668 [==============================] - 0s 56us/step - loss: 0.4786 - accuracy: 0.8136 - val_loss: 0.4391 - val_accuracy: 0.7982\n",
      "Epoch 171/500\n",
      "668/668 [==============================] - 0s 48us/step - loss: 0.5034 - accuracy: 0.7979 - val_loss: 0.4376 - val_accuracy: 0.7982\n",
      "Epoch 172/500\n",
      "668/668 [==============================] - 0s 52us/step - loss: 0.4819 - accuracy: 0.7927 - val_loss: 0.4399 - val_accuracy: 0.7982\n",
      "Epoch 173/500\n",
      "668/668 [==============================] - 0s 51us/step - loss: 0.4998 - accuracy: 0.8069 - val_loss: 0.4384 - val_accuracy: 0.7960\n",
      "Epoch 174/500\n",
      "668/668 [==============================] - 0s 47us/step - loss: 0.4720 - accuracy: 0.8039 - val_loss: 0.4358 - val_accuracy: 0.7937\n",
      "Epoch 175/500\n",
      "668/668 [==============================] - 0s 49us/step - loss: 0.4840 - accuracy: 0.8166 - val_loss: 0.4362 - val_accuracy: 0.7982\n",
      "Epoch 176/500\n",
      "668/668 [==============================] - 0s 48us/step - loss: 0.4847 - accuracy: 0.8001 - val_loss: 0.4367 - val_accuracy: 0.7982\n",
      "Epoch 177/500\n",
      "668/668 [==============================] - 0s 49us/step - loss: 0.4878 - accuracy: 0.7822 - val_loss: 0.4386 - val_accuracy: 0.8004\n",
      "Epoch 178/500\n",
      "668/668 [==============================] - 0s 49us/step - loss: 0.4938 - accuracy: 0.8024 - val_loss: 0.4361 - val_accuracy: 0.8004\n",
      "Epoch 179/500\n",
      "668/668 [==============================] - 0s 47us/step - loss: 0.4896 - accuracy: 0.7904 - val_loss: 0.4374 - val_accuracy: 0.7982\n",
      "Epoch 180/500\n",
      "668/668 [==============================] - 0s 46us/step - loss: 0.4799 - accuracy: 0.8031 - val_loss: 0.4355 - val_accuracy: 0.8004\n",
      "Epoch 181/500\n",
      "668/668 [==============================] - 0s 48us/step - loss: 0.4704 - accuracy: 0.8129 - val_loss: 0.4345 - val_accuracy: 0.8027\n",
      "Epoch 182/500\n",
      "668/668 [==============================] - 0s 51us/step - loss: 0.4945 - accuracy: 0.8061 - val_loss: 0.4375 - val_accuracy: 0.8027\n",
      "Epoch 183/500\n",
      "668/668 [==============================] - 0s 46us/step - loss: 0.4600 - accuracy: 0.8293 - val_loss: 0.4359 - val_accuracy: 0.8072\n",
      "Epoch 184/500\n",
      "668/668 [==============================] - 0s 50us/step - loss: 0.4843 - accuracy: 0.8129 - val_loss: 0.4369 - val_accuracy: 0.8027\n",
      "Epoch 185/500\n",
      "668/668 [==============================] - 0s 48us/step - loss: 0.4949 - accuracy: 0.8091 - val_loss: 0.4350 - val_accuracy: 0.8027\n",
      "Epoch 186/500\n",
      "668/668 [==============================] - 0s 47us/step - loss: 0.4735 - accuracy: 0.8144 - val_loss: 0.4375 - val_accuracy: 0.8027\n",
      "Epoch 187/500\n",
      "668/668 [==============================] - 0s 48us/step - loss: 0.4960 - accuracy: 0.8196 - val_loss: 0.4375 - val_accuracy: 0.8027\n",
      "Epoch 188/500\n",
      "668/668 [==============================] - 0s 48us/step - loss: 0.4477 - accuracy: 0.8144 - val_loss: 0.4370 - val_accuracy: 0.8072\n",
      "Epoch 189/500\n",
      "668/668 [==============================] - 0s 49us/step - loss: 0.4912 - accuracy: 0.7927 - val_loss: 0.4380 - val_accuracy: 0.7982\n",
      "Epoch 190/500\n",
      "668/668 [==============================] - 0s 47us/step - loss: 0.5026 - accuracy: 0.8091 - val_loss: 0.4392 - val_accuracy: 0.8027\n",
      "Epoch 191/500\n",
      "668/668 [==============================] - 0s 46us/step - loss: 0.4883 - accuracy: 0.8144 - val_loss: 0.4398 - val_accuracy: 0.8004\n",
      "Epoch 192/500\n",
      "668/668 [==============================] - ETA: 0s - loss: 0.5170 - accuracy: 0.76 - 0s 50us/step - loss: 0.5071 - accuracy: 0.7942 - val_loss: 0.4412 - val_accuracy: 0.7982\n",
      "Epoch 193/500\n",
      "668/668 [==============================] - 0s 57us/step - loss: 0.4612 - accuracy: 0.8219 - val_loss: 0.4409 - val_accuracy: 0.7982\n",
      "Epoch 194/500\n",
      "668/668 [==============================] - 0s 45us/step - loss: 0.4706 - accuracy: 0.8024 - val_loss: 0.4389 - val_accuracy: 0.8027\n",
      "Epoch 195/500\n",
      "668/668 [==============================] - 0s 45us/step - loss: 0.4923 - accuracy: 0.8136 - val_loss: 0.4412 - val_accuracy: 0.7982\n",
      "Epoch 196/500\n",
      "668/668 [==============================] - 0s 52us/step - loss: 0.4752 - accuracy: 0.8039 - val_loss: 0.4417 - val_accuracy: 0.7982\n",
      "Epoch 197/500\n",
      "668/668 [==============================] - 0s 51us/step - loss: 0.4836 - accuracy: 0.7919 - val_loss: 0.4422 - val_accuracy: 0.7982\n",
      "Epoch 198/500\n",
      "668/668 [==============================] - 0s 51us/step - loss: 0.4634 - accuracy: 0.7994 - val_loss: 0.4392 - val_accuracy: 0.7982\n",
      "Epoch 199/500\n",
      "668/668 [==============================] - 0s 65us/step - loss: 0.4756 - accuracy: 0.8129 - val_loss: 0.4375 - val_accuracy: 0.8027\n",
      "Epoch 200/500\n",
      "668/668 [==============================] - 0s 51us/step - loss: 0.4954 - accuracy: 0.8061 - val_loss: 0.4389 - val_accuracy: 0.7982\n",
      "Epoch 201/500\n",
      "668/668 [==============================] - 0s 53us/step - loss: 0.4728 - accuracy: 0.8174 - val_loss: 0.4402 - val_accuracy: 0.8004\n",
      "Epoch 202/500\n",
      "668/668 [==============================] - 0s 49us/step - loss: 0.4866 - accuracy: 0.8076 - val_loss: 0.4432 - val_accuracy: 0.8027\n",
      "Epoch 203/500\n",
      "668/668 [==============================] - 0s 48us/step - loss: 0.4686 - accuracy: 0.8114 - val_loss: 0.4417 - val_accuracy: 0.8072\n",
      "Epoch 204/500\n",
      "668/668 [==============================] - 0s 58us/step - loss: 0.4911 - accuracy: 0.7957 - val_loss: 0.4412 - val_accuracy: 0.8094\n",
      "Epoch 205/500\n",
      "668/668 [==============================] - 0s 46us/step - loss: 0.4552 - accuracy: 0.8136 - val_loss: 0.4394 - val_accuracy: 0.8094\n",
      "Epoch 206/500\n",
      "668/668 [==============================] - 0s 49us/step - loss: 0.4470 - accuracy: 0.8226 - val_loss: 0.4361 - val_accuracy: 0.8072\n",
      "Epoch 207/500\n",
      "668/668 [==============================] - 0s 62us/step - loss: 0.4565 - accuracy: 0.8159 - val_loss: 0.4343 - val_accuracy: 0.8027\n",
      "Epoch 208/500\n",
      "668/668 [==============================] - 0s 61us/step - loss: 0.4882 - accuracy: 0.8136 - val_loss: 0.4391 - val_accuracy: 0.8049\n",
      "Epoch 209/500\n",
      "668/668 [==============================] - 0s 59us/step - loss: 0.4801 - accuracy: 0.7979 - val_loss: 0.4436 - val_accuracy: 0.8027\n",
      "Epoch 210/500\n",
      "668/668 [==============================] - 0s 49us/step - loss: 0.4775 - accuracy: 0.8061 - val_loss: 0.4390 - val_accuracy: 0.8072\n",
      "Epoch 211/500\n",
      "668/668 [==============================] - 0s 52us/step - loss: 0.4919 - accuracy: 0.7957 - val_loss: 0.4355 - val_accuracy: 0.8027\n",
      "Epoch 212/500\n",
      "668/668 [==============================] - 0s 48us/step - loss: 0.4942 - accuracy: 0.7964 - val_loss: 0.4397 - val_accuracy: 0.8027\n",
      "Epoch 213/500\n",
      "668/668 [==============================] - 0s 52us/step - loss: 0.4602 - accuracy: 0.8204 - val_loss: 0.4401 - val_accuracy: 0.8049\n",
      "Epoch 214/500\n",
      "668/668 [==============================] - 0s 53us/step - loss: 0.4952 - accuracy: 0.7994 - val_loss: 0.4377 - val_accuracy: 0.8027\n",
      "Epoch 215/500\n",
      "668/668 [==============================] - 0s 52us/step - loss: 0.5012 - accuracy: 0.7814 - val_loss: 0.4369 - val_accuracy: 0.7982\n",
      "Epoch 216/500\n",
      "668/668 [==============================] - 0s 51us/step - loss: 0.4701 - accuracy: 0.8316 - val_loss: 0.4367 - val_accuracy: 0.7982\n",
      "Epoch 217/500\n",
      "668/668 [==============================] - 0s 55us/step - loss: 0.4673 - accuracy: 0.8293 - val_loss: 0.4384 - val_accuracy: 0.7982\n",
      "Epoch 218/500\n",
      "668/668 [==============================] - 0s 54us/step - loss: 0.4898 - accuracy: 0.8009 - val_loss: 0.4370 - val_accuracy: 0.7982\n",
      "Epoch 219/500\n",
      "668/668 [==============================] - 0s 48us/step - loss: 0.4866 - accuracy: 0.8076 - val_loss: 0.4410 - val_accuracy: 0.8004\n",
      "Epoch 220/500\n",
      "668/668 [==============================] - 0s 57us/step - loss: 0.4703 - accuracy: 0.8099 - val_loss: 0.4415 - val_accuracy: 0.8027\n",
      "Epoch 221/500\n",
      "668/668 [==============================] - 0s 46us/step - loss: 0.4626 - accuracy: 0.7949 - val_loss: 0.4418 - val_accuracy: 0.7982\n",
      "Epoch 222/500\n",
      "668/668 [==============================] - 0s 58us/step - loss: 0.4822 - accuracy: 0.8099 - val_loss: 0.4409 - val_accuracy: 0.8027\n",
      "Epoch 223/500\n",
      "668/668 [==============================] - 0s 57us/step - loss: 0.4955 - accuracy: 0.7949 - val_loss: 0.4408 - val_accuracy: 0.8027\n",
      "Epoch 224/500\n",
      "668/668 [==============================] - 0s 47us/step - loss: 0.4621 - accuracy: 0.8076 - val_loss: 0.4398 - val_accuracy: 0.8027\n"
     ]
    },
    {
     "name": "stdout",
     "output_type": "stream",
     "text": [
      "Epoch 225/500\n",
      "668/668 [==============================] - 0s 49us/step - loss: 0.4519 - accuracy: 0.8039 - val_loss: 0.4409 - val_accuracy: 0.8027\n",
      "Epoch 226/500\n",
      "668/668 [==============================] - 0s 47us/step - loss: 0.4952 - accuracy: 0.7919 - val_loss: 0.4421 - val_accuracy: 0.8027\n",
      "Epoch 227/500\n",
      "668/668 [==============================] - 0s 51us/step - loss: 0.4921 - accuracy: 0.7844 - val_loss: 0.4413 - val_accuracy: 0.8072\n",
      "Epoch 228/500\n",
      "668/668 [==============================] - 0s 47us/step - loss: 0.4674 - accuracy: 0.8009 - val_loss: 0.4419 - val_accuracy: 0.8072\n",
      "Epoch 229/500\n",
      "668/668 [==============================] - 0s 48us/step - loss: 0.4771 - accuracy: 0.8338 - val_loss: 0.4440 - val_accuracy: 0.8094\n",
      "Epoch 230/500\n",
      "668/668 [==============================] - 0s 46us/step - loss: 0.5061 - accuracy: 0.8039 - val_loss: 0.4456 - val_accuracy: 0.8027\n",
      "Epoch 231/500\n",
      "668/668 [==============================] - 0s 48us/step - loss: 0.4638 - accuracy: 0.8196 - val_loss: 0.4440 - val_accuracy: 0.8027\n",
      "Epoch 232/500\n",
      "668/668 [==============================] - 0s 55us/step - loss: 0.4985 - accuracy: 0.8189 - val_loss: 0.4457 - val_accuracy: 0.8072\n",
      "Epoch 233/500\n",
      "668/668 [==============================] - 0s 55us/step - loss: 0.5034 - accuracy: 0.8016 - val_loss: 0.4484 - val_accuracy: 0.8027\n",
      "Epoch 234/500\n",
      "668/668 [==============================] - 0s 55us/step - loss: 0.4774 - accuracy: 0.7904 - val_loss: 0.4479 - val_accuracy: 0.8072\n",
      "Epoch 235/500\n",
      "668/668 [==============================] - 0s 50us/step - loss: 0.4785 - accuracy: 0.8039 - val_loss: 0.4425 - val_accuracy: 0.8117\n",
      "Epoch 236/500\n",
      "668/668 [==============================] - 0s 55us/step - loss: 0.4620 - accuracy: 0.8323 - val_loss: 0.4392 - val_accuracy: 0.8094\n",
      "Epoch 237/500\n",
      "668/668 [==============================] - 0s 53us/step - loss: 0.4654 - accuracy: 0.8039 - val_loss: 0.4400 - val_accuracy: 0.8117\n",
      "Epoch 238/500\n",
      "668/668 [==============================] - 0s 48us/step - loss: 0.4944 - accuracy: 0.8009 - val_loss: 0.4431 - val_accuracy: 0.8117\n",
      "Epoch 239/500\n",
      "668/668 [==============================] - 0s 51us/step - loss: 0.4571 - accuracy: 0.8196 - val_loss: 0.4416 - val_accuracy: 0.8117\n",
      "Epoch 240/500\n",
      "668/668 [==============================] - 0s 54us/step - loss: 0.4747 - accuracy: 0.7979 - val_loss: 0.4439 - val_accuracy: 0.8117\n",
      "Epoch 241/500\n",
      "668/668 [==============================] - 0s 48us/step - loss: 0.4792 - accuracy: 0.8263 - val_loss: 0.4422 - val_accuracy: 0.8117\n",
      "Epoch 242/500\n",
      "668/668 [==============================] - 0s 50us/step - loss: 0.4598 - accuracy: 0.8144 - val_loss: 0.4433 - val_accuracy: 0.8117\n",
      "Epoch 243/500\n",
      "668/668 [==============================] - 0s 51us/step - loss: 0.4681 - accuracy: 0.8046 - val_loss: 0.4429 - val_accuracy: 0.8117\n",
      "Epoch 244/500\n",
      "668/668 [==============================] - 0s 48us/step - loss: 0.4926 - accuracy: 0.8121 - val_loss: 0.4405 - val_accuracy: 0.8117\n",
      "Epoch 245/500\n",
      "668/668 [==============================] - 0s 43us/step - loss: 0.4776 - accuracy: 0.8174 - val_loss: 0.4419 - val_accuracy: 0.8072\n",
      "Epoch 246/500\n",
      "668/668 [==============================] - 0s 55us/step - loss: 0.4685 - accuracy: 0.8024 - val_loss: 0.4410 - val_accuracy: 0.8117\n",
      "Epoch 247/500\n",
      "668/668 [==============================] - 0s 48us/step - loss: 0.4859 - accuracy: 0.8144 - val_loss: 0.4431 - val_accuracy: 0.8117\n",
      "Epoch 248/500\n",
      "668/668 [==============================] - 0s 59us/step - loss: 0.4829 - accuracy: 0.7942 - val_loss: 0.4412 - val_accuracy: 0.8072\n",
      "Epoch 249/500\n",
      "668/668 [==============================] - 0s 49us/step - loss: 0.4656 - accuracy: 0.7979 - val_loss: 0.4442 - val_accuracy: 0.8072\n",
      "Epoch 250/500\n",
      "668/668 [==============================] - 0s 51us/step - loss: 0.4581 - accuracy: 0.8204 - val_loss: 0.4445 - val_accuracy: 0.8117\n",
      "Epoch 251/500\n",
      "668/668 [==============================] - 0s 56us/step - loss: 0.4700 - accuracy: 0.8084 - val_loss: 0.4449 - val_accuracy: 0.8117\n",
      "Epoch 252/500\n",
      "668/668 [==============================] - 0s 49us/step - loss: 0.4632 - accuracy: 0.8174 - val_loss: 0.4443 - val_accuracy: 0.8027\n",
      "Epoch 253/500\n",
      "668/668 [==============================] - 0s 49us/step - loss: 0.4718 - accuracy: 0.8136 - val_loss: 0.4453 - val_accuracy: 0.8027\n",
      "Epoch 254/500\n",
      "668/668 [==============================] - 0s 49us/step - loss: 0.4678 - accuracy: 0.8241 - val_loss: 0.4439 - val_accuracy: 0.8027\n",
      "Epoch 255/500\n",
      "668/668 [==============================] - 0s 55us/step - loss: 0.4804 - accuracy: 0.8234 - val_loss: 0.4465 - val_accuracy: 0.8027\n",
      "Epoch 256/500\n",
      "668/668 [==============================] - 0s 49us/step - loss: 0.4804 - accuracy: 0.7949 - val_loss: 0.4465 - val_accuracy: 0.8072\n",
      "Epoch 257/500\n",
      "668/668 [==============================] - 0s 54us/step - loss: 0.4646 - accuracy: 0.8361 - val_loss: 0.4461 - val_accuracy: 0.8027\n",
      "Epoch 258/500\n",
      "668/668 [==============================] - 0s 52us/step - loss: 0.4774 - accuracy: 0.8136 - val_loss: 0.4463 - val_accuracy: 0.7982\n",
      "Epoch 259/500\n",
      "668/668 [==============================] - 0s 56us/step - loss: 0.4577 - accuracy: 0.8308 - val_loss: 0.4465 - val_accuracy: 0.7982\n",
      "Epoch 260/500\n",
      "668/668 [==============================] - 0s 49us/step - loss: 0.4503 - accuracy: 0.8271 - val_loss: 0.4460 - val_accuracy: 0.8027\n",
      "Epoch 261/500\n",
      "668/668 [==============================] - 0s 54us/step - loss: 0.4777 - accuracy: 0.8114 - val_loss: 0.4465 - val_accuracy: 0.8072\n",
      "Epoch 262/500\n",
      "668/668 [==============================] - 0s 54us/step - loss: 0.4713 - accuracy: 0.8278 - val_loss: 0.4478 - val_accuracy: 0.8072\n",
      "Epoch 263/500\n",
      "668/668 [==============================] - 0s 47us/step - loss: 0.4771 - accuracy: 0.7934 - val_loss: 0.4444 - val_accuracy: 0.8072\n",
      "Epoch 264/500\n",
      "668/668 [==============================] - 0s 51us/step - loss: 0.4663 - accuracy: 0.8039 - val_loss: 0.4440 - val_accuracy: 0.8072\n",
      "Epoch 265/500\n",
      "668/668 [==============================] - 0s 49us/step - loss: 0.4477 - accuracy: 0.8249 - val_loss: 0.4408 - val_accuracy: 0.8117\n",
      "Epoch 266/500\n",
      "668/668 [==============================] - 0s 52us/step - loss: 0.4682 - accuracy: 0.8204 - val_loss: 0.4416 - val_accuracy: 0.8117\n",
      "Epoch 267/500\n",
      "668/668 [==============================] - 0s 50us/step - loss: 0.4765 - accuracy: 0.8084 - val_loss: 0.4418 - val_accuracy: 0.8117\n",
      "Epoch 268/500\n",
      "668/668 [==============================] - 0s 54us/step - loss: 0.4589 - accuracy: 0.8174 - val_loss: 0.4418 - val_accuracy: 0.8027\n",
      "Epoch 269/500\n",
      "668/668 [==============================] - 0s 56us/step - loss: 0.4456 - accuracy: 0.8293 - val_loss: 0.4411 - val_accuracy: 0.8027\n",
      "Epoch 270/500\n",
      "668/668 [==============================] - 0s 55us/step - loss: 0.4733 - accuracy: 0.7874 - val_loss: 0.4379 - val_accuracy: 0.8027\n",
      "Epoch 271/500\n",
      "668/668 [==============================] - 0s 56us/step - loss: 0.4642 - accuracy: 0.8091 - val_loss: 0.4392 - val_accuracy: 0.8072\n",
      "Epoch 272/500\n",
      "668/668 [==============================] - 0s 54us/step - loss: 0.4781 - accuracy: 0.8159 - val_loss: 0.4404 - val_accuracy: 0.8072\n",
      "Epoch 273/500\n",
      "668/668 [==============================] - 0s 47us/step - loss: 0.4815 - accuracy: 0.7957 - val_loss: 0.4432 - val_accuracy: 0.8072\n",
      "Epoch 274/500\n",
      "668/668 [==============================] - 0s 52us/step - loss: 0.4463 - accuracy: 0.8091 - val_loss: 0.4418 - val_accuracy: 0.8094\n",
      "Epoch 275/500\n",
      "668/668 [==============================] - 0s 48us/step - loss: 0.4610 - accuracy: 0.8084 - val_loss: 0.4402 - val_accuracy: 0.8072\n",
      "Epoch 276/500\n",
      "668/668 [==============================] - 0s 56us/step - loss: 0.4557 - accuracy: 0.8241 - val_loss: 0.4392 - val_accuracy: 0.8072\n",
      "Epoch 277/500\n",
      "668/668 [==============================] - 0s 52us/step - loss: 0.4600 - accuracy: 0.8241 - val_loss: 0.4404 - val_accuracy: 0.8072\n",
      "Epoch 278/500\n",
      "668/668 [==============================] - 0s 56us/step - loss: 0.4670 - accuracy: 0.7979 - val_loss: 0.4403 - val_accuracy: 0.8117\n",
      "Epoch 279/500\n",
      "668/668 [==============================] - 0s 53us/step - loss: 0.4634 - accuracy: 0.8263 - val_loss: 0.4429 - val_accuracy: 0.8117\n",
      "Epoch 280/500\n",
      "668/668 [==============================] - 0s 52us/step - loss: 0.4663 - accuracy: 0.8121 - val_loss: 0.4396 - val_accuracy: 0.8117\n",
      "Epoch 281/500\n"
     ]
    },
    {
     "name": "stdout",
     "output_type": "stream",
     "text": [
      "668/668 [==============================] - 0s 49us/step - loss: 0.4597 - accuracy: 0.8166 - val_loss: 0.4369 - val_accuracy: 0.8117\n",
      "Epoch 282/500\n",
      "668/668 [==============================] - 0s 53us/step - loss: 0.4682 - accuracy: 0.8174 - val_loss: 0.4357 - val_accuracy: 0.8072\n",
      "Epoch 283/500\n",
      "668/668 [==============================] - 0s 48us/step - loss: 0.4744 - accuracy: 0.8263 - val_loss: 0.4382 - val_accuracy: 0.8072\n",
      "Epoch 284/500\n",
      "668/668 [==============================] - 0s 49us/step - loss: 0.4629 - accuracy: 0.8159 - val_loss: 0.4392 - val_accuracy: 0.8072\n",
      "Epoch 285/500\n",
      "668/668 [==============================] - 0s 46us/step - loss: 0.4822 - accuracy: 0.8249 - val_loss: 0.4426 - val_accuracy: 0.8072\n",
      "Epoch 286/500\n",
      "668/668 [==============================] - 0s 49us/step - loss: 0.4693 - accuracy: 0.8136 - val_loss: 0.4421 - val_accuracy: 0.8027\n",
      "Epoch 287/500\n",
      "668/668 [==============================] - 0s 48us/step - loss: 0.4714 - accuracy: 0.8256 - val_loss: 0.4430 - val_accuracy: 0.8072\n",
      "Epoch 288/500\n",
      "668/668 [==============================] - 0s 47us/step - loss: 0.4297 - accuracy: 0.8353 - val_loss: 0.4426 - val_accuracy: 0.8117\n",
      "Epoch 289/500\n",
      "668/668 [==============================] - 0s 46us/step - loss: 0.4546 - accuracy: 0.8099 - val_loss: 0.4424 - val_accuracy: 0.8072\n",
      "Epoch 290/500\n",
      "668/668 [==============================] - 0s 49us/step - loss: 0.4708 - accuracy: 0.8204 - val_loss: 0.4420 - val_accuracy: 0.8072\n",
      "Epoch 291/500\n",
      "668/668 [==============================] - 0s 47us/step - loss: 0.4546 - accuracy: 0.8144 - val_loss: 0.4416 - val_accuracy: 0.8072\n",
      "Epoch 292/500\n",
      "668/668 [==============================] - 0s 48us/step - loss: 0.4808 - accuracy: 0.8114 - val_loss: 0.4417 - val_accuracy: 0.8072\n",
      "Epoch 293/500\n",
      "668/668 [==============================] - 0s 52us/step - loss: 0.4842 - accuracy: 0.8144 - val_loss: 0.4445 - val_accuracy: 0.8072\n",
      "Epoch 294/500\n",
      "668/668 [==============================] - 0s 47us/step - loss: 0.4502 - accuracy: 0.8174 - val_loss: 0.4425 - val_accuracy: 0.8072\n",
      "Epoch 295/500\n",
      "668/668 [==============================] - 0s 46us/step - loss: 0.4575 - accuracy: 0.8129 - val_loss: 0.4437 - val_accuracy: 0.8072\n",
      "Epoch 296/500\n",
      "668/668 [==============================] - 0s 49us/step - loss: 0.4724 - accuracy: 0.8144 - val_loss: 0.4440 - val_accuracy: 0.8072\n",
      "Epoch 297/500\n",
      "668/668 [==============================] - 0s 46us/step - loss: 0.4436 - accuracy: 0.8293 - val_loss: 0.4439 - val_accuracy: 0.8072\n",
      "Epoch 298/500\n",
      "668/668 [==============================] - 0s 48us/step - loss: 0.4339 - accuracy: 0.8234 - val_loss: 0.4434 - val_accuracy: 0.8117\n",
      "Epoch 299/500\n",
      "668/668 [==============================] - 0s 50us/step - loss: 0.4512 - accuracy: 0.8219 - val_loss: 0.4447 - val_accuracy: 0.7982\n",
      "Epoch 300/500\n",
      "668/668 [==============================] - 0s 47us/step - loss: 0.4548 - accuracy: 0.8189 - val_loss: 0.4447 - val_accuracy: 0.7982\n",
      "Epoch 301/500\n",
      "668/668 [==============================] - 0s 46us/step - loss: 0.4898 - accuracy: 0.8219 - val_loss: 0.4481 - val_accuracy: 0.8027\n",
      "Epoch 302/500\n",
      "668/668 [==============================] - 0s 46us/step - loss: 0.4655 - accuracy: 0.7987 - val_loss: 0.4476 - val_accuracy: 0.8027\n",
      "Epoch 303/500\n",
      "668/668 [==============================] - 0s 44us/step - loss: 0.4612 - accuracy: 0.8114 - val_loss: 0.4477 - val_accuracy: 0.8027\n",
      "Epoch 304/500\n",
      "668/668 [==============================] - 0s 44us/step - loss: 0.4684 - accuracy: 0.8129 - val_loss: 0.4500 - val_accuracy: 0.8027\n",
      "Epoch 305/500\n",
      "668/668 [==============================] - 0s 47us/step - loss: 0.4514 - accuracy: 0.8368 - val_loss: 0.4477 - val_accuracy: 0.8027\n",
      "Epoch 306/500\n",
      "668/668 [==============================] - 0s 51us/step - loss: 0.4738 - accuracy: 0.8121 - val_loss: 0.4471 - val_accuracy: 0.8027\n",
      "Epoch 307/500\n",
      "668/668 [==============================] - 0s 48us/step - loss: 0.4761 - accuracy: 0.8204 - val_loss: 0.4473 - val_accuracy: 0.8072\n",
      "Epoch 00307: early stopping\n"
     ]
    }
   ],
   "source": [
    "model.compile(loss='binary_crossentropy', optimizer='adam', metrics=['accuracy'])\n",
    "es = EarlyStopping(monitor='val_loss', mode='min', verbose=1, patience = 100)\n",
    "###FOR TRAIN AND VALIDATION, USE HERE!\n",
    "history = model.fit(X_train, y_train,validation_data = (X_test,y_test), epochs=500,  batch_size=32, callbacks=[es])\n",
    "###FOR INFERENCE, USE THIS LINE!\n",
    "#history = model.fit(train, label, epochs=500,  batch_size=64, callbacks=[es])"
   ]
  },
  {
   "cell_type": "code",
   "execution_count": 54,
   "metadata": {},
   "outputs": [],
   "source": [
    "import numpy as np\n",
    "y_pred = model.predict(test)\n",
    "#Converting predictions to label\n",
    "pred = list()\n",
    "for i in range(len(y_pred)):\n",
    "    pred.append(np.argmax(y_pred[i]))\n",
    "    #pred.append(1 if y_pred[i] > 0.5 else 0)"
   ]
  },
  {
   "cell_type": "code",
   "execution_count": 55,
   "metadata": {},
   "outputs": [],
   "source": [
    "#For training part, change the one-hot encoding back to normal for y_test label data.\n",
    "testy = list()\n",
    "for i in range( len(y_test) ):\n",
    "   testy.append(0 if y_test.iloc[i][0] == 1 else 1)"
   ]
  },
  {
   "cell_type": "code",
   "execution_count": 56,
   "metadata": {},
   "outputs": [],
   "source": [
    "from sklearn.metrics import accuracy_score\n",
    "#accuracy_score(testy, pred)"
   ]
  },
  {
   "cell_type": "markdown",
   "metadata": {},
   "source": [
    "# Data Preparation for Submission"
   ]
  },
  {
   "cell_type": "code",
   "execution_count": 57,
   "metadata": {},
   "outputs": [],
   "source": [
    "import numpy as np\n",
    "submission = pd.DataFrame({'PassengerId':passengerIdTest,'Survived':pred})\n",
    "filename = 'submissionDL.csv'\n",
    "submission.to_csv(filename,index=False)"
   ]
  },
  {
   "cell_type": "code",
   "execution_count": 58,
   "metadata": {},
   "outputs": [],
   "source": [
    "#pred"
   ]
  },
  {
   "cell_type": "code",
   "execution_count": 59,
   "metadata": {},
   "outputs": [],
   "source": [
    "#Kaggle inference result is 0.80382"
   ]
  }
 ],
 "metadata": {
  "kernelspec": {
   "display_name": "Python 3",
   "language": "python",
   "name": "python3"
  },
  "language_info": {
   "codemirror_mode": {
    "name": "ipython",
    "version": 3
   },
   "file_extension": ".py",
   "mimetype": "text/x-python",
   "name": "python",
   "nbconvert_exporter": "python",
   "pygments_lexer": "ipython3",
   "version": "3.5.2"
  }
 },
 "nbformat": 4,
 "nbformat_minor": 2
}
